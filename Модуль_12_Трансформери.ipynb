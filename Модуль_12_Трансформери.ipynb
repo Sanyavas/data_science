{
  "cells": [
    {
      "cell_type": "markdown",
      "source": [
        "# Transformers:\n",
        "\n",
        "- Self-Attention\n",
        "- Multi-Head Attention\n"
      ],
      "metadata": {
        "id": "btTB9bYhZXvl"
      }
    },
    {
      "cell_type": "markdown",
      "source": [
        "![image](https://miro.medium.com/v2/resize:fit:828/1*_92bnsMJy8Bl539G4v93yg.gif)\n",
        "\n",
        "![image](https://sebastianraschka.com/images/blog/2023/self-attention-from-scratch/summary.png)\n",
        "\n",
        "![image](https://upload.wikimedia.org/wikipedia/commons/thumb/8/81/Attention-qkv.png/700px-Attention-qkv.png)\n",
        "\n",
        "![image](https://miro.medium.com/v2/resize:fit:975/1*vrSX_Ku3EmGPyqF_E-2_Vg.png)\n",
        "\n",
        "![image](https://i0.wp.com/i.postimg.cc/Bn7QmpQS/1-43lg-CTy-M5c-TTABj-C2-VEHd-A.png?resize=579%2C800&ssl=1)\n",
        "\n",
        "![image](https://machinelearningmastery.com/wp-content/uploads/2022/01/PE3.png)"
      ],
      "metadata": {
        "id": "_9-gaHD0Zh9e"
      }
    },
    {
      "cell_type": "code",
      "source": [
        "[\"He hit me with a pie\"]\n",
        "\n",
        "[\"He\", \"hit\", \"me\", \"with\", \"a\", \"pie\"]\n",
        "[ 14, 20, 34, 35, 1, 3]\n",
        "[[1,0,0,0,0,0],\n",
        " [1,1,0,0,0,0],\n",
        " [1,1,1,0,0,0],\n",
        " [1,1,1,1,0,0],\n",
        " [1,1,1,1,1,0],\n",
        " [1,1,1,1,1,1]]\n",
        "\n",
        "[14, -inf, -inf, -inf, -inf, -inf]\n",
        "[ 14, 20, -inf, -inf, -inf, -inf]\n",
        "[ 14, 20, 34, -inf, -inf, -inf]\n",
        "[ 14, 20, 34, 35, -inf, -inf]\n",
        "[ 14, 20, 34, 35, 1, -inf]\n",
        "[ 14, 20, 34, 35, 1, 3]\n",
        "\n",
        "\n"
      ],
      "metadata": {
        "id": "8ERQXZUfdx0s"
      },
      "execution_count": null,
      "outputs": []
    },
    {
      "cell_type": "markdown",
      "metadata": {
        "id": "AbzZLqIPv6b7",
        "outputId": "19f2fc2b-6f1d-4b43-fd50-4c513e3936fd"
      },
      "source": [
        "# Transformer Network\n"
      ]
    },
    {
      "cell_type": "markdown",
      "metadata": {
        "id": "sc9Rumph_dHq"
      },
      "source": [
        "# Libraries\n"
      ]
    },
    {
      "cell_type": "code",
      "source": [
        "# Install required libraries if not already installed\n",
        "!pip install transformers[torch]\n",
        "!pip install accelerate -U\n",
        "!pip install datasets\n"
      ],
      "metadata": {
        "colab": {
          "base_uri": "https://localhost:8080/"
        },
        "id": "KUJrPmo8tKs3",
        "outputId": "c9537b6a-8626-4695-d4b0-7425638ca523"
      },
      "execution_count": 71,
      "outputs": [
        {
          "output_type": "stream",
          "name": "stdout",
          "text": [
            "Requirement already satisfied: transformers[torch] in /usr/local/lib/python3.10/dist-packages (4.33.1)\n",
            "Requirement already satisfied: filelock in /usr/local/lib/python3.10/dist-packages (from transformers[torch]) (3.12.2)\n",
            "Requirement already satisfied: huggingface-hub<1.0,>=0.15.1 in /usr/local/lib/python3.10/dist-packages (from transformers[torch]) (0.17.1)\n",
            "Requirement already satisfied: numpy>=1.17 in /usr/local/lib/python3.10/dist-packages (from transformers[torch]) (1.23.5)\n",
            "Requirement already satisfied: packaging>=20.0 in /usr/local/lib/python3.10/dist-packages (from transformers[torch]) (23.1)\n",
            "Requirement already satisfied: pyyaml>=5.1 in /usr/local/lib/python3.10/dist-packages (from transformers[torch]) (6.0.1)\n",
            "Requirement already satisfied: regex!=2019.12.17 in /usr/local/lib/python3.10/dist-packages (from transformers[torch]) (2023.6.3)\n",
            "Requirement already satisfied: requests in /usr/local/lib/python3.10/dist-packages (from transformers[torch]) (2.31.0)\n",
            "Requirement already satisfied: tokenizers!=0.11.3,<0.14,>=0.11.1 in /usr/local/lib/python3.10/dist-packages (from transformers[torch]) (0.13.3)\n",
            "Requirement already satisfied: safetensors>=0.3.1 in /usr/local/lib/python3.10/dist-packages (from transformers[torch]) (0.3.3)\n",
            "Requirement already satisfied: tqdm>=4.27 in /usr/local/lib/python3.10/dist-packages (from transformers[torch]) (4.66.1)\n",
            "Requirement already satisfied: torch!=1.12.0,>=1.10 in /usr/local/lib/python3.10/dist-packages (from transformers[torch]) (2.0.1+cu118)\n",
            "Requirement already satisfied: accelerate>=0.20.3 in /usr/local/lib/python3.10/dist-packages (from transformers[torch]) (0.22.0)\n",
            "Requirement already satisfied: psutil in /usr/local/lib/python3.10/dist-packages (from accelerate>=0.20.3->transformers[torch]) (5.9.5)\n",
            "Requirement already satisfied: fsspec in /usr/local/lib/python3.10/dist-packages (from huggingface-hub<1.0,>=0.15.1->transformers[torch]) (2023.6.0)\n",
            "Requirement already satisfied: typing-extensions>=3.7.4.3 in /usr/local/lib/python3.10/dist-packages (from huggingface-hub<1.0,>=0.15.1->transformers[torch]) (4.5.0)\n",
            "Requirement already satisfied: sympy in /usr/local/lib/python3.10/dist-packages (from torch!=1.12.0,>=1.10->transformers[torch]) (1.12)\n",
            "Requirement already satisfied: networkx in /usr/local/lib/python3.10/dist-packages (from torch!=1.12.0,>=1.10->transformers[torch]) (3.1)\n",
            "Requirement already satisfied: jinja2 in /usr/local/lib/python3.10/dist-packages (from torch!=1.12.0,>=1.10->transformers[torch]) (3.1.2)\n",
            "Requirement already satisfied: triton==2.0.0 in /usr/local/lib/python3.10/dist-packages (from torch!=1.12.0,>=1.10->transformers[torch]) (2.0.0)\n",
            "Requirement already satisfied: cmake in /usr/local/lib/python3.10/dist-packages (from triton==2.0.0->torch!=1.12.0,>=1.10->transformers[torch]) (3.27.4.1)\n",
            "Requirement already satisfied: lit in /usr/local/lib/python3.10/dist-packages (from triton==2.0.0->torch!=1.12.0,>=1.10->transformers[torch]) (16.0.6)\n",
            "Requirement already satisfied: charset-normalizer<4,>=2 in /usr/local/lib/python3.10/dist-packages (from requests->transformers[torch]) (3.2.0)\n",
            "Requirement already satisfied: idna<4,>=2.5 in /usr/local/lib/python3.10/dist-packages (from requests->transformers[torch]) (3.4)\n",
            "Requirement already satisfied: urllib3<3,>=1.21.1 in /usr/local/lib/python3.10/dist-packages (from requests->transformers[torch]) (2.0.4)\n",
            "Requirement already satisfied: certifi>=2017.4.17 in /usr/local/lib/python3.10/dist-packages (from requests->transformers[torch]) (2023.7.22)\n",
            "Requirement already satisfied: MarkupSafe>=2.0 in /usr/local/lib/python3.10/dist-packages (from jinja2->torch!=1.12.0,>=1.10->transformers[torch]) (2.1.3)\n",
            "Requirement already satisfied: mpmath>=0.19 in /usr/local/lib/python3.10/dist-packages (from sympy->torch!=1.12.0,>=1.10->transformers[torch]) (1.3.0)\n",
            "Requirement already satisfied: accelerate in /usr/local/lib/python3.10/dist-packages (0.22.0)\n",
            "Requirement already satisfied: numpy>=1.17 in /usr/local/lib/python3.10/dist-packages (from accelerate) (1.23.5)\n",
            "Requirement already satisfied: packaging>=20.0 in /usr/local/lib/python3.10/dist-packages (from accelerate) (23.1)\n",
            "Requirement already satisfied: psutil in /usr/local/lib/python3.10/dist-packages (from accelerate) (5.9.5)\n",
            "Requirement already satisfied: pyyaml in /usr/local/lib/python3.10/dist-packages (from accelerate) (6.0.1)\n",
            "Requirement already satisfied: torch>=1.10.0 in /usr/local/lib/python3.10/dist-packages (from accelerate) (2.0.1+cu118)\n",
            "Requirement already satisfied: filelock in /usr/local/lib/python3.10/dist-packages (from torch>=1.10.0->accelerate) (3.12.2)\n",
            "Requirement already satisfied: typing-extensions in /usr/local/lib/python3.10/dist-packages (from torch>=1.10.0->accelerate) (4.5.0)\n",
            "Requirement already satisfied: sympy in /usr/local/lib/python3.10/dist-packages (from torch>=1.10.0->accelerate) (1.12)\n",
            "Requirement already satisfied: networkx in /usr/local/lib/python3.10/dist-packages (from torch>=1.10.0->accelerate) (3.1)\n",
            "Requirement already satisfied: jinja2 in /usr/local/lib/python3.10/dist-packages (from torch>=1.10.0->accelerate) (3.1.2)\n",
            "Requirement already satisfied: triton==2.0.0 in /usr/local/lib/python3.10/dist-packages (from torch>=1.10.0->accelerate) (2.0.0)\n",
            "Requirement already satisfied: cmake in /usr/local/lib/python3.10/dist-packages (from triton==2.0.0->torch>=1.10.0->accelerate) (3.27.4.1)\n",
            "Requirement already satisfied: lit in /usr/local/lib/python3.10/dist-packages (from triton==2.0.0->torch>=1.10.0->accelerate) (16.0.6)\n",
            "Requirement already satisfied: MarkupSafe>=2.0 in /usr/local/lib/python3.10/dist-packages (from jinja2->torch>=1.10.0->accelerate) (2.1.3)\n",
            "Requirement already satisfied: mpmath>=0.19 in /usr/local/lib/python3.10/dist-packages (from sympy->torch>=1.10.0->accelerate) (1.3.0)\n",
            "Requirement already satisfied: datasets in /usr/local/lib/python3.10/dist-packages (2.14.5)\n",
            "Requirement already satisfied: numpy>=1.17 in /usr/local/lib/python3.10/dist-packages (from datasets) (1.23.5)\n",
            "Requirement already satisfied: pyarrow>=8.0.0 in /usr/local/lib/python3.10/dist-packages (from datasets) (9.0.0)\n",
            "Requirement already satisfied: dill<0.3.8,>=0.3.0 in /usr/local/lib/python3.10/dist-packages (from datasets) (0.3.7)\n",
            "Requirement already satisfied: pandas in /usr/local/lib/python3.10/dist-packages (from datasets) (1.5.3)\n",
            "Requirement already satisfied: requests>=2.19.0 in /usr/local/lib/python3.10/dist-packages (from datasets) (2.31.0)\n",
            "Requirement already satisfied: tqdm>=4.62.1 in /usr/local/lib/python3.10/dist-packages (from datasets) (4.66.1)\n",
            "Requirement already satisfied: xxhash in /usr/local/lib/python3.10/dist-packages (from datasets) (3.3.0)\n",
            "Requirement already satisfied: multiprocess in /usr/local/lib/python3.10/dist-packages (from datasets) (0.70.15)\n",
            "Requirement already satisfied: fsspec[http]<2023.9.0,>=2023.1.0 in /usr/local/lib/python3.10/dist-packages (from datasets) (2023.6.0)\n",
            "Requirement already satisfied: aiohttp in /usr/local/lib/python3.10/dist-packages (from datasets) (3.8.5)\n",
            "Requirement already satisfied: huggingface-hub<1.0.0,>=0.14.0 in /usr/local/lib/python3.10/dist-packages (from datasets) (0.17.1)\n",
            "Requirement already satisfied: packaging in /usr/local/lib/python3.10/dist-packages (from datasets) (23.1)\n",
            "Requirement already satisfied: pyyaml>=5.1 in /usr/local/lib/python3.10/dist-packages (from datasets) (6.0.1)\n",
            "Requirement already satisfied: attrs>=17.3.0 in /usr/local/lib/python3.10/dist-packages (from aiohttp->datasets) (23.1.0)\n",
            "Requirement already satisfied: charset-normalizer<4.0,>=2.0 in /usr/local/lib/python3.10/dist-packages (from aiohttp->datasets) (3.2.0)\n",
            "Requirement already satisfied: multidict<7.0,>=4.5 in /usr/local/lib/python3.10/dist-packages (from aiohttp->datasets) (6.0.4)\n",
            "Requirement already satisfied: async-timeout<5.0,>=4.0.0a3 in /usr/local/lib/python3.10/dist-packages (from aiohttp->datasets) (4.0.3)\n",
            "Requirement already satisfied: yarl<2.0,>=1.0 in /usr/local/lib/python3.10/dist-packages (from aiohttp->datasets) (1.9.2)\n",
            "Requirement already satisfied: frozenlist>=1.1.1 in /usr/local/lib/python3.10/dist-packages (from aiohttp->datasets) (1.4.0)\n",
            "Requirement already satisfied: aiosignal>=1.1.2 in /usr/local/lib/python3.10/dist-packages (from aiohttp->datasets) (1.3.1)\n",
            "Requirement already satisfied: filelock in /usr/local/lib/python3.10/dist-packages (from huggingface-hub<1.0.0,>=0.14.0->datasets) (3.12.2)\n",
            "Requirement already satisfied: typing-extensions>=3.7.4.3 in /usr/local/lib/python3.10/dist-packages (from huggingface-hub<1.0.0,>=0.14.0->datasets) (4.5.0)\n",
            "Requirement already satisfied: idna<4,>=2.5 in /usr/local/lib/python3.10/dist-packages (from requests>=2.19.0->datasets) (3.4)\n",
            "Requirement already satisfied: urllib3<3,>=1.21.1 in /usr/local/lib/python3.10/dist-packages (from requests>=2.19.0->datasets) (2.0.4)\n",
            "Requirement already satisfied: certifi>=2017.4.17 in /usr/local/lib/python3.10/dist-packages (from requests>=2.19.0->datasets) (2023.7.22)\n",
            "Requirement already satisfied: python-dateutil>=2.8.1 in /usr/local/lib/python3.10/dist-packages (from pandas->datasets) (2.8.2)\n",
            "Requirement already satisfied: pytz>=2020.1 in /usr/local/lib/python3.10/dist-packages (from pandas->datasets) (2023.3.post1)\n",
            "Requirement already satisfied: six>=1.5 in /usr/local/lib/python3.10/dist-packages (from python-dateutil>=2.8.1->pandas->datasets) (1.16.0)\n"
          ]
        }
      ]
    },
    {
      "cell_type": "code",
      "execution_count": 72,
      "metadata": {
        "id": "_OpwqWL2QH5G"
      },
      "outputs": [],
      "source": [
        "\n",
        "import tensorflow as tf\n",
        "import time\n",
        "import numpy as np\n",
        "import matplotlib.pyplot as plt\n",
        "\n",
        "from tensorflow.keras.layers import Embedding, MultiHeadAttention, Dense, Input, Dropout, LayerNormalization\n",
        "from transformers import DistilBertTokenizerFast #, TFDistilBertModel\n",
        "from transformers import TFDistilBertForTokenClassification"
      ]
    },
    {
      "cell_type": "markdown",
      "metadata": {
        "id": "ZUdx1TWm_dHr"
      },
      "source": [
        "\n",
        "\n",
        "# Кодування позиції\n",
        "\n",
        "Кодування позиції є життєво важливим для завдань типу \"послідовність у послідовність\", оскільки порядок ваших даних має значуще значення. З послідовними нейронними мережами, такими як RNN, порядок введення даних є неявним. Проте з мережами Transformer, що використовують багатоголову увагу, дані вводяться одночасно. Це прискорює навчання, але втрачає порядок послідовності. Щоб виправити це, ми використовуємо кодування позиції з наступними формулами синуса і косинуса:\n",
        "\n",
        "$$\n",
        "PE_{(pos, 2i)}= \\sin\\left(\\frac{pos}{{10000}^{\\frac{2i}{d}}}\\right)\n",
        "$$\n",
        "\n",
        "$$\n",
        "PE_{(pos, 2i+1)}= \\cos\\left(\\frac{pos}{{10000}^{\\frac{2i}{d}}}\\right)\n",
        "$$\n",
        "\n",
        "Де:\n",
        "* $d$ - це розмірність вбудовування слова та кодування позиції.\n",
        "* $pos$ позначає позицію слова.\n",
        "* $k$ представляє розмірності в кодуванні позицій, і $i = \\frac{k}{2}$.\n",
        "\n",
        "Щоб зрозуміти концепцію кодувань позицій, вважайте їх функціями, які передають позиції слів. Їх сума із вбудовуванням слова є введенням моделі. Використання простого кодування позиції може спотворювати семантичне значення. Однак значення синуса та косинуса (в діапазоні від -1 до 1) збагачують вбудовування слова без спотворення. Це допомагає Transformer розпізнавати позиції вхідних даних.\n",
        "\n",
        "# Кути синуса та косинуса\n",
        "\n",
        "Хоча формули кодування позиції для синуса і косинуса мають різні аргументи (`2i` проти `2i+1`), їх внутрішні частини залишаються незмінними:\n",
        "\n",
        "$$\n",
        "\\theta(pos, i, d) = \\frac{pos}{10000^{\\frac{2i}{d}}}\n",
        "$$\n",
        "\n",
        "Цей термін важливий для розрахунку кодування позиції слова.\n"
      ]
    },
    {
      "cell_type": "code",
      "execution_count": 73,
      "metadata": {
        "id": "bPzwMVfcQpT-"
      },
      "outputs": [],
      "source": [
        "\n",
        "def get_angles(pos, k, d):\n",
        "    \"\"\"\n",
        "    Отримання кутів для позиційного кодування\n",
        "\n",
        "    Аргументи:\n",
        "        pos -- Колонковий вектор, що містить позиції [[0], [1], ...,[N-1]]\n",
        "        k -- Рядковий вектор, що містить діапазон розмірності [[0, 1, 2, ..., d-1]]\n",
        "        d(ціле число) -- Розмір кодування\n",
        "\n",
        "    Повертає:\n",
        "        angles -- (pos, d) масив numpy\n",
        "    \"\"\"\n",
        "\n",
        "    # Отримання значення i з діапазону розмірності k\n",
        "    i = np.floor(k / 2)\n",
        "    # Обчислення кутів використовуючи pos, i та d\n",
        "    angles = pos / (10000 ** (2 * i / d))\n",
        "\n",
        "    return angles\n"
      ]
    },
    {
      "cell_type": "markdown",
      "metadata": {
        "id": "BkSNhJ6V_dHs"
      },
      "source": [
        "\n",
        "#  Синусне та косинусне позиційне кодування\n",
        "\n",
        "Тепер можемо використовувати обчислені кути для розрахунку синусного та косинусного позиційного кодування.\n",
        "\n",
        "$$\n",
        "PE_{(pos, 2i)}= \\sin\\left(\\frac{pos}{{10000}^{\\frac{2i}{d}}}\\right)\n",
        "$$\n",
        "<br>\n",
        "$$\n",
        "PE_{(pos, 2i+1)}= \\cos\\left(\\frac{pos}{{10000}^{\\frac{2i}{d}}}\\right)\n",
        "$$\n"
      ]
    },
    {
      "cell_type": "code",
      "execution_count": 74,
      "metadata": {
        "id": "y78txxoHQtwG"
      },
      "outputs": [],
      "source": [
        "\n",
        "def positional_encoding(positions, d):\n",
        "    \"\"\"\n",
        "    Попередньо розраховує матрицю з усіма позиційними кодуваннями\n",
        "\n",
        "    Аргументи:\n",
        "        positions (int) -- Максимальна кількість позицій для кодування\n",
        "        d (int) -- Розмір кодування\n",
        "\n",
        "    Повертає:\n",
        "        pos_encoding -- (1, position, d_model) Матриця з позиційними кодуваннями\n",
        "    \"\"\"\n",
        "    # ініціалізація матриці angle_rads з усіма кутами\n",
        "    angle_rads = get_angles(np.arange(positions)[:, np.newaxis],\n",
        "                            np.arange(d)[np.newaxis, :],\n",
        "                            d)\n",
        "\n",
        "    # застосування синуса до парних індексів масиву; 2i\n",
        "    angle_rads[:, 0::2] = np.sin(angle_rads[:, 0::2])\n",
        "\n",
        "    # застосування косинуса до непарних індексів масиву; 2i+1\n",
        "    angle_rads[:, 1::2] = np.cos(angle_rads[:, 1::2])\n",
        "\n",
        "    pos_encoding = angle_rads[np.newaxis, ...]\n",
        "\n",
        "    return tf.cast(pos_encoding, dtype=tf.float32)\n"
      ]
    },
    {
      "cell_type": "code",
      "execution_count": 75,
      "metadata": {
        "colab": {
          "base_uri": "https://localhost:8080/",
          "height": 472
        },
        "id": "nVyIOkWA_dHt",
        "outputId": "c9ee599d-7d00-4c2a-9f8b-da665a7042cb"
      },
      "outputs": [
        {
          "output_type": "stream",
          "name": "stdout",
          "text": [
            "(1, 50, 512)\n"
          ]
        },
        {
          "output_type": "display_data",
          "data": {
            "text/plain": [
              "<Figure size 640x480 with 2 Axes>"
            ],
            "image/png": "[encoded data removed]"
          },
          "metadata": {}
        }
      ],
      "source": [
        "pos_encoding = positional_encoding(50, 512)\n",
        "\n",
        "print(pos_encoding.shape)\n",
        "\n",
        "plt.pcolormesh(pos_encoding[0], cmap='RdBu')\n",
        "plt.xlabel('d')\n",
        "plt.xlim((0, 512))\n",
        "plt.ylabel('Position')\n",
        "plt.colorbar()\n",
        "plt.show()"
      ]
    },
    {
      "cell_type": "markdown",
      "metadata": {
        "id": "QO10H8Eh_dHt"
      },
      "source": [
        "\n",
        "Кожен рядок представляє позиційне кодування - зверніть увагу, що жоден з рядків не є ідентичним! Ви створили унікальне позиційне кодування для кожного слова.\n",
        "\n"
      ]
    },
    {
      "cell_type": "markdown",
      "metadata": {
        "id": "zydKkxXj_dHu"
      },
      "source": [
        "# Маскування\n",
        "\n",
        "При будівництві мережі Transformer є два корисних типи масок: *маска доповнення* та *маска перегляду вперед*. Обидві допомагають розрахунку softmax надавати відповідні ваги словам у вхідному реченні.\n",
        "\n",
        "# Маска доповнення\n",
        "\n",
        "Часто вхідна послідовність перевищує максимальну довжину послідовності, яку мережа може обробити. Припустимо, максимальна довжина моделі становить п'ять, їй подають такі послідовності:\n",
        "\n",
        "    [[\"Do\", \"you\", \"know\", \"when\", \"Jane\", \"is\", \"going\", \"to\", \"visit\", \"Africa\"],\n",
        "     [\"Jane\", \"visits\", \"Africa\", \"in\", \"September\" ],\n",
        "     [\"Exciting\", \"!\"]\n",
        "    ]\n",
        "\n",
        "які може бути векторизовано як:\n",
        "\n",
        "    [[ 71, 121, 4, 56, 99, 2344, 345, 1284, 15],\n",
        "     [ 56, 1285, 15, 181, 545],\n",
        "     [ 87, 600]\n",
        "    ]\n",
        "    \n",
        "Коли передаються послідовності в модель трансформера, важливо, щоб вони були однакової довжини. Можемо досягти цього, додавши до послідовності нулі та обрізавши речення, що перевищують максимальну довжину моделі:\n",
        "\n",
        "    [[ 71, 121, 4, 56, 99],\n",
        "     [ 2344, 345, 1284, 15, 0],\n",
        "     [ 56, 1285, 15, 181, 545],\n",
        "     [ 87, 600, 0, 0, 0],\n",
        "    ]\n",
        "    \n",
        "Послідовності, довші за максимальну довжину п'ять, будуть обрізані, і до обрізаної послідовності будуть додані нулі, щоб досягти однорідної довжини. Аналогічно для послідовностей, коротших за максимальну довжину, також будуть додані нулі для доповнення. Однак ці нулі вплинуть на розрахунок softmax - ось коли знадобиться маска доповнення! Потрібно буде визначити булеву маску, яка вказує, на які елементи повинні звертати увагу(1) та які елементи повинні ігнорувати(0). Пізніше будемо використовувати цю маску, щоб встановити всі нулі в послідовності до значення, близького до мінус нескінченності (-1e9). Переконайтеся, що ви розглянули код, щоб правильно використовувати доповнення під час побудови моделі.\n",
        "\n",
        "Після маскування вхід повинен перейти від `[87, 600, 0, 0, 0]` до `[87, 600, -1e9, -1e9, -1e9]`, так що коли ви берете softmax, нулі не впливають на результат.\n",
        "\n",
        "Шар [MultiheadAttention](https://keras.io/api/layers/attention_layers/multi_head_attention/) реалізований у Keras, використовує цю логіку маскування.\n"
      ]
    },
    {
      "cell_type": "code",
      "execution_count": 77,
      "metadata": {
        "id": "JOL9XWsFQxxo"
      },
      "outputs": [],
      "source": [
        "def create_padding_mask(decoder_token_ids):\n",
        "    \"\"\"\n",
        "    Створює матричну маску для комірок доповнення\n",
        "\n",
        "    Аргументи:\n",
        "        decoder_token_ids -- (n, m) матриця\n",
        "\n",
        "    Повертає:\n",
        "        mask -- (n, 1, m) бінарний тензор\n",
        "    \"\"\"\n",
        "    # Отримання послідовності, інвертуючи нулі (доповнення) у матриці вхідних токенів\n",
        "    seq = 1 - tf.cast(tf.math.equal(decoder_token_ids, 0), tf.float32)\n",
        "\n",
        "    # додавання додаткових розмірностей, щоб додати доповнення\n",
        "    # до логічних величин уваги.\n",
        "    return seq[:, tf.newaxis, :]\n"
      ]
    },
    {
      "cell_type": "code",
      "execution_count": 78,
      "metadata": {
        "colab": {
          "base_uri": "https://localhost:8080/"
        },
        "id": "5J5FFjklQ1Fz",
        "outputId": "7d312ca6-75dd-4045-97fb-60126720bd31"
      },
      "outputs": [
        {
          "output_type": "stream",
          "name": "stdout",
          "text": [
            "tf.Tensor(\n",
            "[[[1. 1. 0. 0. 1.]]\n",
            "\n",
            " [[1. 1. 1. 0. 0.]]\n",
            "\n",
            " [[0. 0. 0. 1. 1.]]], shape=(3, 1, 5), dtype=float32)\n"
          ]
        }
      ],
      "source": [
        "x = tf.constant([[7., 6., 0., 0., 1.], [1., 2., 3., 0., 0.], [0., 0., 0., 4., 5.]])\n",
        "print(create_padding_mask(x))"
      ]
    },
    {
      "cell_type": "markdown",
      "metadata": {
        "id": "7mHagIjj_dHu"
      },
      "source": [
        "\n",
        "Якщо ми помножимо \\( (1 - \\text{маска}) \\) на -1e9 і додамо його до зразкових вхідних послідовностей, нулі фактично встановлюються як мінус нескінченність. Зверніть увагу на різницю при взятті softmax від оригінальної послідовності та замаскованої послідовності:\n"
      ]
    },
    {
      "cell_type": "code",
      "execution_count": 80,
      "metadata": {
        "colab": {
          "base_uri": "https://localhost:8080/"
        },
        "id": "7caADNZh_dHu",
        "outputId": "c099da6c-7855-4961-bb3d-b78daba25e04"
      },
      "outputs": [
        {
          "output_type": "stream",
          "name": "stdout",
          "text": [
            "tf.Tensor(\n",
            "[[7.2876632e-01 2.6809818e-01 6.6454883e-04 6.6454883e-04 1.8064311e-03]\n",
            " [8.4437370e-02 2.2952460e-01 6.2391245e-01 3.1062772e-02 3.1062772e-02]\n",
            " [4.8541022e-03 4.8541022e-03 4.8541022e-03 2.6502502e-01 7.2041267e-01]], shape=(3, 5), dtype=float32)\n",
            "tf.Tensor(\n",
            "[[[7.2973621e-01 2.6845497e-01 0.0000000e+00 0.0000000e+00 1.8088353e-03]\n",
            "  [2.4472848e-01 6.6524088e-01 0.0000000e+00 0.0000000e+00 9.0030566e-02]\n",
            "  [6.6483547e-03 6.6483547e-03 0.0000000e+00 0.0000000e+00 9.8670328e-01]]\n",
            "\n",
            " [[7.3057157e-01 2.6876229e-01 6.6619500e-04 0.0000000e+00 0.0000000e+00]\n",
            "  [9.0030566e-02 2.4472848e-01 6.6524088e-01 0.0000000e+00 0.0000000e+00]\n",
            "  [3.3333334e-01 3.3333334e-01 3.3333334e-01 0.0000000e+00 0.0000000e+00]]\n",
            "\n",
            " [[0.0000000e+00 0.0000000e+00 0.0000000e+00 2.6894143e-01 7.3105854e-01]\n",
            "  [0.0000000e+00 0.0000000e+00 0.0000000e+00 5.0000000e-01 5.0000000e-01]\n",
            "  [0.0000000e+00 0.0000000e+00 0.0000000e+00 2.6894143e-01 7.3105854e-01]]], shape=(3, 3, 5), dtype=float32)\n"
          ]
        }
      ],
      "source": [
        "print(tf.keras.activations.softmax(x))\n",
        "print(tf.keras.activations.softmax(x + (1 - create_padding_mask(x)) * -1.0e9))"
      ]
    },
    {
      "cell_type": "markdown",
      "metadata": {
        "id": "3GwMH5i3_dHv"
      },
      "source": [
        "# Маска перегляду вперед\n",
        "\n",
        "Маска перегляду вперед слідує за подібною інтуїцією. Під час навчання буде доступ до повного правильного виводу навчального прикладу. Маска перегляду вперед допомагає моделі уявити, що вона правильно передбачила частину виводу і дивитися, чи може вона, *не дивлячись вперед*, правильно передбачити наступний вивід.\n",
        "\n",
        "Наприклад, якщо очікується правильний вивід `[1, 2, 3]` і хочете подивитися, чи може модель, з урахуванням того, що вона правильно передбачила перше значення, передбачити друге значення, маскували б друге та третє значення. Отже, вводили б масковану послідовність `[1, -1e9, -1e9]` і дивилися, чи могла б вона генерувати `[1, 2, -1e9]`.\n"
      ]
    },
    {
      "cell_type": "code",
      "execution_count": 81,
      "metadata": {
        "id": "9O9UbM31Q3hK"
      },
      "outputs": [],
      "source": [
        "def create_look_ahead_mask(sequence_length):\n",
        "    \"\"\"\n",
        "    Повертає нижню трикутну матрицю, заповнену одиницями\n",
        "\n",
        "    Аргументи:\n",
        "        sequence_length -- розмір матриці\n",
        "\n",
        "    Повертає:\n",
        "        mask -- (розмір, розмір) тензор\n",
        "    \"\"\"\n",
        "    mask = tf.linalg.band_part(tf.ones((1, sequence_length, sequence_length)), -1, 0)\n",
        "    return mask\n"
      ]
    },
    {
      "cell_type": "code",
      "execution_count": 82,
      "metadata": {
        "colab": {
          "base_uri": "https://localhost:8080/"
        },
        "id": "nfzHoVj9Q5nG",
        "outputId": "fe90e929-e8ff-46ac-8f27-f2f28f198fff"
      },
      "outputs": [
        {
          "output_type": "execute_result",
          "data": {
            "text/plain": [
              "<tf.Tensor: shape=(1, 3, 3), dtype=float32, numpy=\n",
              "array([[[1., 0., 0.],\n",
              "        [1., 1., 0.],\n",
              "        [1., 1., 1.]]], dtype=float32)>"
            ]
          },
          "metadata": {},
          "execution_count": 82
        }
      ],
      "source": [
        "x = tf.random.uniform((1, 3))\n",
        "temp = create_look_ahead_mask(x.shape[1])\n",
        "temp"
      ]
    },
    {
      "cell_type": "markdown",
      "source": [
        "![image.png](data:image/png;base64,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)"
      ],
      "metadata": {
        "id": "SlX5Am0zYCXn"
      }
    },
    {
      "cell_type": "markdown",
      "metadata": {
        "id": "VG0gPyv0oDBi"
      },
      "source": [
        "\n",
        "# Само-увага (Self-Attention)\n",
        "\n",
        "Як стверджують автори статті про Transformers, \"Увага - це все, що вам потрібно\".\n",
        "   \n",
        "Використання само-уваги разом із традиційними конволюційними мережами дозволяє паралелізацію, що прискорює навчання. Реалізуємо **увагу на основі масштабованого скалярного добутку**, яка приймає на вхід запит, ключ, значення та маску, щоб повертати багатогранні векторні представлення слів у вашій послідовності. Цей тип само-уваги можна математично виразити як:\n",
        "$$\n",
        "\\text { Увага }(Q, K, V)=\\operatorname{softmax}\\left(\\frac{Q K^{T}}{\\sqrt{d_{k}}}+{M}\\right) V\\\n",
        "$$\n",
        "\n",
        "* $Q$ - це матриця запитів\n",
        "* $K$ - це матриця ключів\n",
        "* $V$ - це матриця значень\n",
        "* $M$ - це опціональна маска, яку застосуємо\n",
        "* ${d_k}$ - це розмір ключів, який використовується для масштабування усього, так що softmax не вибухає\n",
        "\n",
        "\n"
      ]
    },
    {
      "cell_type": "code",
      "execution_count": 83,
      "metadata": {
        "id": "CSysk_rjQ7lp"
      },
      "outputs": [],
      "source": [
        "\n",
        "def scaled_dot_product_attention(q, k, v, mask):\n",
        "    \"\"\"\n",
        "    Розраховує ваги уваги.\n",
        "      q, k, v повинні мати співпадаючі ведучі розміри.\n",
        "      k, v повинні мати співпадаючий передостанній розмір, тобто: seq_len_k = seq_len_v.\n",
        "      Маска має різні форми в залежності від її типу (доповнення або передогляд уперед),\n",
        "      але вона повинна бути здатна до додавання.\n",
        "\n",
        "    Аргументи:\n",
        "        q -- форма запиту == (..., seq_len_q, глибина)\n",
        "        k -- форма ключа == (..., seq_len_k, глибина)\n",
        "        v -- форма значення == (..., seq_len_v, depth_v)\n",
        "        маска: Тензор Float з формою, що може бути розширена\n",
        "              до (..., seq_len_q, seq_len_k). За замовчуванням None.\n",
        "\n",
        "    Повертає:\n",
        "        вивід -- ваги уваги\n",
        "    \"\"\"\n",
        "    matmul_qk = tf.matmul(q, tf.transpose(k))  # (..., seq_len_q, seq_len_k)\n",
        "\n",
        "    # масштабуємо matmul_qk\n",
        "    dk = tf.sqrt(tf.cast(tf.shape(k)[-1], dtype=tf.float32))\n",
        "    scaled_attention_logits = tf.divide(matmul_qk, dk)\n",
        "\n",
        "    # додаємо маску до масштабованого тензора.\n",
        "    if mask is not None: # Не замінюйте це None\n",
        "        scaled_attention_logits += (1 - mask) * -1.0e9\n",
        "\n",
        "    # softmax нормалізується на останньому вісі (seq_len_k), так що бали\n",
        "    # сумуються до 1.\n",
        "    attention_weights = tf.keras.activations.softmax(scaled_attention_logits)  # (..., seq_len_q, seq_len_k)\n",
        "\n",
        "    output = tf.matmul(attention_weights, v)  # (..., seq_len_q, depth_v)\n",
        "\n",
        "    return output, attention_weights\n"
      ]
    },
    {
      "cell_type": "markdown",
      "metadata": {
        "id": "blS0pEpTqRVI"
      },
      "source": [
        "\n",
        "# Кодувач\n",
        "\n",
        "Шар кодувача Transformer поєднує само-увагу та стиль обробки нейронних мереж згортання для прискорення навчання та передає матриці K та V до декодера, який ви побудуємо пізніше. Реалізуємо кодувач, об'єднуючи багатоголову увагу та нейронну мережу прямого розповсюдження.\n",
        "\n",
        "* `MultiHeadAttention` можна уявити як обчислення само-уваги кілька разів для виявлення різних особливостей.\n",
        "* Нейронна мережа прямого розповсюдження містить два шари Dense, які ми реалізуємо як функцію `FullyConnected`.\n",
        "\n",
        "Вхідне речення спочатку проходить через шар *багатоголової уваги*, де кодувач дивиться на інші слова у вхідному реченні, коли він кодує певне слово. Виходи шару багатоголової уваги потім надходять до нейронної мережі *прямого розповсюдження*. Та сама нейронна мережа прямого розповсюдження незалежно застосовується до кожної позиції.\n",
        "\n",
        "* Для шару `MultiHeadAttention` використаємо [реалізацію Keras](https://www.tensorflow.org/api_docs/python/tf/keras/layers/MultiHeadAttention).\n",
        "* Також використаємо [послідовний API](https://keras.io/api/models/sequential/) з двома щільними шарами для побудови шарів нейронної мережі прямого розповсюдження.\n"
      ]
    },
    {
      "cell_type": "markdown",
      "source": [
        "![image.png](data:image/png;base64,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)"
      ],
      "metadata": {
        "id": "sB9t-ZU_YIk1"
      }
    },
    {
      "cell_type": "code",
      "execution_count": 84,
      "metadata": {
        "id": "sC5vJhz29vZR"
      },
      "outputs": [],
      "source": [
        "def FullyConnected(embedding_dim, fully_connected_dim):\n",
        "    return tf.keras.Sequential([\n",
        "        tf.keras.layers.Dense(fully_connected_dim, activation='relu'),  # (batch_size, seq_len, dff)\n",
        "        tf.keras.layers.Dense(embedding_dim)  # (batch_size, seq_len, d_model)\n",
        "    ])"
      ]
    },
    {
      "cell_type": "code",
      "execution_count": 85,
      "metadata": {
        "id": "tIufbrc-9_2u"
      },
      "outputs": [],
      "source": [
        "\n",
        "class EncoderLayer(tf.keras.layers.Layer):\n",
        "    \"\"\"\n",
        "    Шар кодувача складається з механізму багатоголової уваги та\n",
        "    простої повносвязної нейронної мережі з прямим розповсюдженням.\n",
        "    Ця архітектура включає залишкове з'єднання навколо кожного з двох\n",
        "    підшарів, за якими слідує нормалізація шару.\n",
        "    \"\"\"\n",
        "    def __init__(self, embedding_dim, num_heads, fully_connected_dim,\n",
        "                 dropout_rate=0.1, layernorm_eps=1e-6):\n",
        "        super(EncoderLayer, self).__init__()\n",
        "\n",
        "        self.mha = MultiHeadAttention(num_heads=num_heads,\n",
        "                                      key_dim=embedding_dim,\n",
        "                                      dropout=dropout_rate)\n",
        "\n",
        "        self.ffn = FullyConnected(embedding_dim=embedding_dim,\n",
        "                                  fully_connected_dim=fully_connected_dim)\n",
        "\n",
        "        self.layernorm1 = LayerNormalization(epsilon=layernorm_eps)\n",
        "        self.layernorm2 = LayerNormalization(epsilon=layernorm_eps)\n",
        "\n",
        "        self.dropout_ffn = Dropout(dropout_rate)\n",
        "\n",
        "    def call(self, x, training, mask):\n",
        "        \"\"\"\n",
        "        Прямий прохід для шару кодувача\n",
        "\n",
        "        Аргументи:\n",
        "            x -- Тензор форми (batch_size, input_seq_len, fully_connected_dim)\n",
        "            training -- Булевий, встановіть true, щоб активувати\n",
        "                        режим навчання для шарів dropout\n",
        "            mask -- Булева маска для забезпечення того, щоб доповнення не було\n",
        "                    розглянуто як частина вводу\n",
        "        Повертає:\n",
        "            encoder_layer_out -- Тензор форми (batch_size, input_seq_len, embedding_dim)\n",
        "        \"\"\"\n",
        "        # обчислити само-увагу за допомогою mha(~1 рядок).\n",
        "        # Dropout додається Keras автоматично, якщо параметр dropout є ненульовим під час навчання\n",
        "        self_mha_output = self.mha(x, x, x, mask)  # Само-увага (batch_size, input_seq_len, fully_connected_dim)\n",
        "\n",
        "        # пропустити з'єднання\n",
        "        # застосувати нормалізацію шару до суми вводу та виводу уваги, щоб отримати\n",
        "        # вивід багатоголового шару уваги (~1 рядок)\n",
        "        skip_x_attention = self.layernorm1(tf.add(x, self_mha_output))  # (batch_size, input_seq_len, fully_connected_dim)\n",
        "\n",
        "        # передати вивід багатоголового шару уваги через ffn (~1 рядок)\n",
        "        ffn_output = self.ffn(skip_x_attention)  # (batch_size, input_seq_len, fully_connected_dim)\n",
        "\n",
        "        # застосувати шар dropout до виводу ffn під час навчання (~1 рядок)\n",
        "        # використовуйте `training=training`\n",
        "        ffn_output = self.dropout_ffn(ffn_output, training=training)\n",
        "\n",
        "        # застосувати нормалізацію шару до суми виводу з багатоголової уваги (пропустити з'єднання) та виводу ffn, щоб отримати\n",
        "        # вивід шару кодувача (~1 рядок)\n",
        "        encoder_layer_out = self.layernorm2(tf.add(skip_x_attention, ffn_output))  # (batch_size, input_seq_len, embedding_dim)\n",
        "\n",
        "        return encoder_layer_out\n",
        ""
      ]
    },
    {
      "cell_type": "markdown",
      "metadata": {
        "id": "O7bX5bl3_dHx"
      },
      "source": [
        "\n",
        "# Повний кодувач\n",
        "\n"
      ]
    },
    {
      "cell_type": "markdown",
      "source": [
        "![image.png](data:image/png;base64,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)"
      ],
      "metadata": {
        "id": "nDdVFjkHYQRc"
      }
    },
    {
      "cell_type": "code",
      "execution_count": 49,
      "metadata": {
        "id": "7j2Tjr0K0t0I"
      },
      "outputs": [],
      "source": [
        "\n",
        "class Encoder(tf.keras.layers.Layer):\n",
        "    \"\"\"\n",
        "    Весь кодувач починає з передачі вводу до шару вбудовування\n",
        "    та використання позиційного кодування, щоб потім передати вивід через стек\n",
        "    шарів кодувача.\n",
        "\n",
        "    \"\"\"\n",
        "    def __init__(self, num_layers, embedding_dim, num_heads, fully_connected_dim, input_vocab_size,\n",
        "               maximum_position_encoding, dropout_rate=0.1, layernorm_eps=1e-6):\n",
        "        super(Encoder, self).__init__()\n",
        "\n",
        "        self.embedding_dim = embedding_dim\n",
        "        self.num_layers = num_layers\n",
        "\n",
        "        self.embedding = Embedding(input_vocab_size, self.embedding_dim)\n",
        "        self.pos_encoding = positional_encoding(maximum_position_encoding,\n",
        "                                                self.embedding_dim)\n",
        "\n",
        "\n",
        "        self.enc_layers = [EncoderLayer(embedding_dim=self.embedding_dim,\n",
        "                                        num_heads=num_heads,\n",
        "                                        fully_connected_dim=fully_connected_dim,\n",
        "                                        dropout_rate=dropout_rate,\n",
        "                                        layernorm_eps=layernorm_eps)\n",
        "                           for _ in range(self.num_layers)]\n",
        "\n",
        "        self.dropout = Dropout(dropout_rate)\n",
        "\n",
        "    def call(self, x, training, mask):\n",
        "        \"\"\"\n",
        "        Прямий прохід для кодувача\n",
        "\n",
        "        Аргументи:\n",
        "            x -- Тензор форми (batch_size, input_seq_len)\n",
        "            training -- Boolean, встановіть у true, щоб активувати\n",
        "                        режим навчання для шарів dropout\n",
        "            mask -- Логічна маска, щоб переконатися, що вкладення не\n",
        "                    сприймається як частина входу\n",
        "        Повертає:\n",
        "            out2 -- Тензор форми (batch_size, input_seq_len, embedding_dim)\n",
        "        \"\"\"\n",
        "        seq_len = tf.shape(x)[1]\n",
        "\n",
        "        # Передайте вхід через шар вбудовування\n",
        "        x = self.embedding(x)  # (batch_size, input_seq_len, embedding_dim)\n",
        "        # Масштабуйте вбудовування, помноживши його на квадратний корінь з розмірності вбудовування\n",
        "        x *= tf.sqrt(tf.cast(self.embedding_dim, dtype=tf.float32))\n",
        "        # Додайте позиційне кодування до вбудовування\n",
        "        x += self.pos_encoding[:, :seq_len, :]\n",
        "        # Передайте закодоване вбудовування через шар dropout\n",
        "        # використовуйте `training=training`\n",
        "        x = self.dropout(x, training=training)\n",
        "        # Передайте вивід через стек шарів кодування\n",
        "        for i in range(self.num_layers):\n",
        "            x = self.enc_layers[i](x, training, mask)\n",
        "\n",
        "        return x  # (batch_size, input_seq_len, embedding_dim)\n"
      ]
    },
    {
      "cell_type": "markdown",
      "metadata": {
        "id": "jcKnmQiB_dHx"
      },
      "source": [
        "# Декодер\n",
        "\n",
        "Шар декодера приймає матриці K та V, згенеровані кодером, і обчислює другий шар уваги з матрицею Q від виводу.\n",
        "\n",
        "# Шар Декодера\n",
        "\n",
        "Знову поєднуємо багатоголовну увагу з нейронною мережею прямого розповсюдження, але цього разу реалізуємо два шари багатоголовної уваги. Також будемо використовувати залишкові з'єднання та нормалізацію шару для прискорення навчання.\n"
      ]
    },
    {
      "cell_type": "markdown",
      "source": [
        "![image.png](data:image/png;base64,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)"
      ],
      "metadata": {
        "id": "slLU8SreYWbt"
      }
    },
    {
      "cell_type": "code",
      "execution_count": 86,
      "metadata": {
        "id": "wEouNFvCzMeT"
      },
      "outputs": [],
      "source": [
        "\n",
        "class DecoderLayer(tf.keras.layers.Layer):\n",
        "    \"\"\"\n",
        "    Шар декодера складається з двох блоків багатоголовної уваги,\n",
        "    один з яких приймає новий вхідний сигнал і використовує самоувагу,\n",
        "    а інший поєднує його з виходом кодера, після чого слідує повністю\n",
        "    з'єднаний блок.\n",
        "    \"\"\"\n",
        "    def __init__(self, embedding_dim, num_heads, fully_connected_dim, dropout_rate=0.1, layernorm_eps=1e-6):\n",
        "        super(DecoderLayer, self).__init__()\n",
        "\n",
        "        self.mha1 = MultiHeadAttention(num_heads=num_heads,\n",
        "                                      key_dim=embedding_dim,\n",
        "                                      dropout=dropout_rate)\n",
        "\n",
        "        self.mha2 = MultiHeadAttention(num_heads=num_heads,\n",
        "                                      key_dim=embedding_dim,\n",
        "                                      dropout=dropout_rate)\n",
        "\n",
        "        self.ffn = FullyConnected(embedding_dim=embedding_dim,\n",
        "                                  fully_connected_dim=fully_connected_dim)\n",
        "\n",
        "        self.layernorm1 = LayerNormalization(epsilon=layernorm_eps)\n",
        "        self.layernorm2 = LayerNormalization(epsilon=layernorm_eps)\n",
        "        self.layernorm3 = LayerNormalization(epsilon=layernorm_eps)\n",
        "\n",
        "        self.dropout_ffn = Dropout(dropout_rate)\n",
        "\n",
        "    def call(self, x, enc_output, training, look_ahead_mask, padding_mask):\n",
        "        \"\"\"\n",
        "        Прямий прохід для шару декодера\n",
        "\n",
        "        Аргументи:\n",
        "            x -- Тензор форми (batch_size, target_seq_len, fully_connected_dim)\n",
        "            enc_output -- Тензор форми (batch_size, input_seq_len, fully_connected_dim)\n",
        "            training -- Булевий, встановіть true, щоб активувати\n",
        "                        режим навчання для шарів dropout\n",
        "            look_ahead_mask -- Булева маска для target_input\n",
        "            padding_mask -- Булева маска для другого шару багатоголовної уваги\n",
        "        Повертає:\n",
        "            out3 -- Тензор форми (batch_size, target_seq_len, fully_connected_dim)\n",
        "            attn_weights_block1 -- Тензор форми (batch_size, num_heads, target_seq_len, input_seq_len)\n",
        "            attn_weights_block2 -- Тензор форми (batch_size, num_heads, target_seq_len, input_seq_len)\n",
        "        \"\"\"\n",
        "\n",
        "        # enc_output.shape == (batch_size, input_seq_len, fully_connected_dim)\n",
        "\n",
        "        # БЛОК 1\n",
        "        # розрахуйте самоувагу і поверніть ваги уваги як attn_weights_block1.\n",
        "        # Dropout буде застосовано під час навчання (~1 рядок).\n",
        "        mult_attn_out1, attn_weights_block1 = self.mha1(x, x, x, look_ahead_mask, return_attention_scores=True)  # (batch_size, target_seq_len, d_model)\n",
        "\n",
        "        # застосуйте нормалізацію шару (layernorm1) до суми виходу уваги та входу (~1 рядок)\n",
        "        Q1 = self.layernorm1(x + mult_attn_out1)\n",
        "\n",
        "        # БЛОК 2\n",
        "        # розрахуйте самоувагу, використовуючи Q з першого блоку та K і V з виводу кодера.\n",
        "        # Dropout буде застосовано під час навчання\n",
        "        # Поверніть ваги уваги як attn_weights_block2 (~1 рядок)\n",
        "        mult_attn_out2, attn_weights_block2 = self.mha2(Q1, enc_output, enc_output,\n",
        "                                                        padding_mask, return_attention_scores=True)  # (batch_size, target_seq_len, d_model)\n",
        "\n",
        "        # застосуйте нормалізацію шару (layernorm2) до суми виходу уваги та виводу першого блоку (~1 рядок)\n",
        "        mult_attn_out2 = self.layernorm2(Q1 + mult_attn_out2)  # (batch_size, target_seq_len, fully_connected_dim)\n",
        "\n",
        "        #БЛОК 3\n",
        "        # передайте вивід другого блоку через ffn\n",
        "        ffn_output = self.ffn(mult_attn_out2)  # (batch_size, target_seq_len, fully_connected_dim)\n",
        "\n",
        "        # застосуйте шар dropout до виводу ffn\n",
        "        # використовуйте `training=training`\n",
        "        ffn_output = self.dropout_ffn(ffn_output, training=training)\n",
        "\n",
        "        # застосуйте нормалізацію шару (layernorm3) до суми виводу ffn та виводу другого блоку\n",
        "        out3 = self.layernorm3(mult_attn_out2 + ffn_output)  # (batch_size, target_seq_len, fully_connected_dim)\n",
        "\n",
        "        return out3, attn_weights_block1, attn_weights_block2\n"
      ]
    },
    {
      "cell_type": "markdown",
      "source": [
        "![image.png](data:image/png;base64,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)"
      ],
      "metadata": {
        "id": "CTmhJDmoYfbf"
      }
    },
    {
      "cell_type": "code",
      "execution_count": 87,
      "metadata": {
        "id": "McS3by6k4pnP"
      },
      "outputs": [],
      "source": [
        "\n",
        "class Decoder(tf.keras.layers.Layer):\n",
        "    \"\"\"\n",
        "    Весь декодер починається з того, що цільовий вхід проходить через шар вбудовування,\n",
        "    і використовуючи позиційне кодування, далі передає вихід через стек декодерів.\n",
        "    \"\"\"\n",
        "    def __init__(self, num_layers, embedding_dim, num_heads, fully_connected_dim, target_vocab_size,\n",
        "               maximum_position_encoding, dropout_rate=0.1, layernorm_eps=1e-6):\n",
        "        super(Decoder, self).__init__()\n",
        "\n",
        "        self.embedding_dim = embedding_dim\n",
        "        self.num_layers = num_layers\n",
        "\n",
        "        self.embedding = Embedding(target_vocab_size, self.embedding_dim)\n",
        "        self.pos_encoding = positional_encoding(maximum_position_encoding, self.embedding_dim)\n",
        "\n",
        "        self.dec_layers = [DecoderLayer(embedding_dim=self.embedding_dim,\n",
        "                                        num_heads=num_heads,\n",
        "                                        fully_connected_dim=fully_connected_dim,\n",
        "                                        dropout_rate=dropout_rate,\n",
        "                                        layernorm_eps=layernorm_eps)\n",
        "                           for _ in range(self.num_layers)]\n",
        "        self.dropout = Dropout(dropout_rate)\n",
        "\n",
        "    def call(self, x, enc_output, training,\n",
        "           look_ahead_mask, padding_mask):\n",
        "        \"\"\"\n",
        "        Прямий прохід для декодера\n",
        "\n",
        "        Аргументи:\n",
        "            x -- Тензор форми (batch_size, target_seq_len, fully_connected_dim)\n",
        "            enc_output -- Тензор форми (batch_size, input_seq_len, fully_connected_dim)\n",
        "            training -- Булевий, встановіть true, щоб активувати\n",
        "                        режим навчання для шарів dropout\n",
        "            look_ahead_mask -- Булева маска для target_input\n",
        "            padding_mask -- Булева маска для другого шару багатоголовної уваги\n",
        "        Повертає:\n",
        "            x -- Тензор форми (batch_size, target_seq_len, fully_connected_dim)\n",
        "            attention_weights - Словник тензорів, що містить всі ваги уваги,\n",
        "                                кожен з формою Тензора (batch_size, num_heads, target_seq_len, input_seq_len)\n",
        "        \"\"\"\n",
        "\n",
        "        seq_len = tf.shape(x)[1]\n",
        "        attention_weights = {}\n",
        "\n",
        "        # створити вбудовування слів\n",
        "        x = self.embedding(x)  # (batch_size, target_seq_len, fully_connected_dim)\n",
        "\n",
        "        # масштабувати вбудовування, помноживши на квадратний корінь їх розмірності\n",
        "        x *= tf.sqrt(tf.cast(self.embedding_dim, dtype=tf.float32))\n",
        "\n",
        "        # розрахувати позиційні кодування та додати до вбудовування слів\n",
        "        x += self.pos_encoding[:, :seq_len, :]\n",
        "\n",
        "        # застосувати шар dropout до x\n",
        "        # використовуйте `training=training`\n",
        "        x = self.dropout(x, training=training)\n",
        "\n",
        "        # використовуйте цикл for для проходження x через стек декодерів та оновлення attention_weights (~4 рядки загалом)\n",
        "        for i in range(self.num_layers):\n",
        "            # передайте x і вивід кодера через стек декодерів та збережіть ваги уваги\n",
        "            # блоку 1 і блоку 2 (~1 рядок)\n",
        "            x, block1, block2 = self.dec_layers[i](x, enc_output, training,\n",
        "                                                   look_ahead_mask, padding_mask)\n",
        "\n",
        "            #оновити словник attention_weights вагами уваги блоку 1 та блоку 2\n",
        "            attention_weights['decoder_layer{}_block1_self_att'.format(i+1)] = block1\n",
        "            attention_weights['decoder_layer{}_block2_decenc_att'.format(i+1)] = block2\n",
        "\n",
        "        # x.shape == (batch_size, target_seq_len, fully_connected_dim)\n",
        "        return x, attention_weights\n"
      ]
    },
    {
      "cell_type": "markdown",
      "metadata": {
        "id": "QbPBo7cz_dHy"
      },
      "source": [
        "\n",
        "# Трансформер\n",
        "  \n",
        "Потік даних через архітектуру Трансформера відбувається наступним чином:\n",
        "* Спочатку вхід проходить через Encoder, який є просто повторюваними шарами Encoder, які реалізували:\n",
        "    - вбудовування та позиційне кодування вводу\n",
        "    - багатоголовна увага на вводі\n",
        "    - повнозв'язна нейронна мережа для допомоги у виявленні особливостей\n",
        "* Потім передбачуваний вивід проходить через Декодер, що складається з шарів декодера, які реалізували:\n",
        "    - вбудовування та позиційне кодування виводу\n",
        "    - багатоголовна увага на згенерованому виводі\n",
        "    - багатоголовна увага із Q від першого шару багатоголовної уваги та K і V від Encoder\n",
        "    - повнозв'язна нейронна мережа для допомоги у виявленні особливостей\n",
        "* Нарешті, після $N$-го шару Декодера, застосовуються один щільний шар і softmax для генерації передбачення наступного виводу у послідовності.\n",
        "\n"
      ]
    },
    {
      "cell_type": "markdown",
      "source": [
        "![image.png](data:image/png;base64,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)"
      ],
      "metadata": {
        "id": "EKzjcvE1YsoM"
      }
    },
    {
      "cell_type": "code",
      "execution_count": 89,
      "metadata": {
        "id": "QHymPmaj-2ba"
      },
      "outputs": [],
      "source": [
        "\n",
        "class Transformer(tf.keras.Model):\n",
        "    \"\"\"\n",
        "    Повний трансформер із Кодером та Декодером\n",
        "    \"\"\"\n",
        "    def __init__(self, num_layers, embedding_dim, num_heads, fully_connected_dim, input_vocab_size,\n",
        "               target_vocab_size, max_positional_encoding_input,\n",
        "               max_positional_encoding_target, dropout_rate=0.1, layernorm_eps=1e-6):\n",
        "        super(Transformer, self).__init__()\n",
        "\n",
        "        self.encoder = Encoder(num_layers=num_layers,\n",
        "                               embedding_dim=embedding_dim,\n",
        "                               num_heads=num_heads,\n",
        "                               fully_connected_dim=fully_connected_dim,\n",
        "                               input_vocab_size=input_vocab_size,\n",
        "                               maximum_position_encoding=max_positional_encoding_input,\n",
        "                               dropout_rate=dropout_rate,\n",
        "                               layernorm_eps=layernorm_eps)\n",
        "\n",
        "        self.decoder = Decoder(num_layers=num_layers,\n",
        "                               embedding_dim=embedding_dim,\n",
        "                               num_heads=num_heads,\n",
        "                               fully_connected_dim=fully_connected_dim,\n",
        "                               target_vocab_size=target_vocab_size,\n",
        "                               maximum_position_encoding=max_positional_encoding_target,\n",
        "                               dropout_rate=dropout_rate,\n",
        "                               layernorm_eps=layernorm_eps)\n",
        "\n",
        "        self.final_layer = Dense(target_vocab_size, activation='softmax')\n",
        "\n",
        "    def call(self, input_sentence, output_sentence, training, enc_padding_mask, look_ahead_mask, dec_padding_mask):\n",
        "        \"\"\"\n",
        "        Прямий прохід для всього Трансформера\n",
        "        Аргументи:\n",
        "            input_sentence -- Тензор форми (batch_size, input_seq_len, fully_connected_dim)\n",
        "                              Масив індексів слів у вхідному реченні\n",
        "            output_sentence -- Тензор форми (batch_size, target_seq_len, fully_connected_dim)\n",
        "                              Масив індексів слів у вихідному реченні\n",
        "            training -- Булевий, встановіть у true, щоб активувати\n",
        "                        режим навчання для шарів відкидання\n",
        "            enc_padding_mask -- Булева маска, щоб переконатися, що доповнення не\n",
        "                    розглядається як частина вводу\n",
        "            look_ahead_mask -- Булева маска для target_input\n",
        "            dec_padding_mask -- Булева маска для другого шару багатоголової уваги\n",
        "        Повертає:\n",
        "            final_output -- Опишіть мене\n",
        "            attention_weights - Словник тензорів, що містить усі ваги уваги для декодера\n",
        "                                кожен форми Тензор форми (batch_size, num_heads, target_seq_len, input_seq_len)\n",
        "\n",
        "        \"\"\"\n",
        "        # викликайте self.encoder із відповідними аргументами, щоб отримати вивід кодера\n",
        "        enc_output = self.encoder(input_sentence, training, enc_padding_mask)  # (batch_size, inp_seq_len, fully_connected_dim)\n",
        "\n",
        "        # викликайте self.decoder із відповідними аргументами, щоб отримати вивід декодера\n",
        "        # dec_output.shape == (batch_size, tar_seq_len, fully_connected_dim)\n",
        "        dec_output, attention_weights = self.decoder(output_sentence, enc_output, training, look_ahead_mask, dec_padding_mask)\n",
        "\n",
        "        # передайте вивід декодера через лінійний шар та softmax (~2 рядки)\n",
        "        final_output = self.final_layer(dec_output) # (batch_size, tar_seq_len, target_vocab_size)\n",
        "\n",
        "        return final_output, attention_weights\n"
      ]
    },
    {
      "cell_type": "code",
      "execution_count": 90,
      "metadata": {
        "colab": {
          "base_uri": "https://localhost:8080/"
        },
        "id": "hNVmrnQ-_dHz",
        "outputId": "b0185578-581f-4609-843c-582fa546283f"
      },
      "outputs": [
        {
          "output_type": "stream",
          "name": "stdout",
          "text": [
            "(1, 5, 35)\n",
            "tf.Tensor(\n",
            "[[[0.01228686 0.02974569 0.02946791 0.02604657 0.04559869 0.0241969\n",
            "   0.01450131 0.03562657 0.01682347 0.04565892 0.03390609 0.00996188\n",
            "   0.04126432 0.02162225 0.01652168 0.02177164 0.03528929 0.0329165\n",
            "   0.03005637 0.02107584 0.02043222 0.0184946  0.02517897 0.04002528\n",
            "   0.02584332 0.04692652 0.04442963 0.0464882  0.0370522  0.02771534\n",
            "   0.03290839 0.03055216 0.03198883 0.01012159 0.01750406]\n",
            "  [0.02459299 0.02743526 0.02861162 0.01865069 0.01490268 0.04425816\n",
            "   0.01964804 0.01519421 0.01523258 0.04171828 0.03072969 0.03180297\n",
            "   0.04771359 0.06727213 0.02245888 0.03323204 0.0264006  0.0093561\n",
            "   0.03608959 0.04573101 0.02271721 0.05355607 0.01510191 0.01642511\n",
            "   0.02518826 0.02339629 0.0110799  0.01682141 0.01038086 0.04886498\n",
            "   0.02798238 0.02975975 0.02934403 0.02069367 0.04765705]\n",
            "  [0.04447596 0.02340558 0.02495016 0.02060463 0.01276    0.0406545\n",
            "   0.04115514 0.01749344 0.0262932  0.02293526 0.02438477 0.06019554\n",
            "   0.0224841  0.05171075 0.03430192 0.03251784 0.01805172 0.01174361\n",
            "   0.02593567 0.03918729 0.0329201  0.05150505 0.01705826 0.01645037\n",
            "   0.02514317 0.0149998  0.01028714 0.01401976 0.01194822 0.03944927\n",
            "   0.02329258 0.02447162 0.02550088 0.04947466 0.04823799]\n",
            "  [0.03860175 0.02158827 0.02480344 0.0190726  0.01611567 0.04626051\n",
            "   0.05863657 0.02823901 0.02472163 0.02554876 0.02740807 0.04838279\n",
            "   0.01571993 0.04448812 0.03308685 0.02654154 0.01317607 0.01261099\n",
            "   0.02067338 0.02908029 0.04369181 0.04515404 0.01273981 0.02570466\n",
            "   0.0236448  0.01499411 0.01137774 0.01932564 0.01457287 0.04733099\n",
            "   0.02537269 0.02350955 0.03050395 0.04893696 0.03838409]\n",
            "  [0.01795016 0.02420748 0.02400584 0.03103151 0.05226133 0.01657821\n",
            "   0.02759025 0.0510467  0.03057599 0.02232793 0.0251836  0.01309417\n",
            "   0.01618415 0.01027591 0.02263181 0.01751975 0.02449152 0.06188384\n",
            "   0.01857558 0.01299954 0.02759418 0.01160026 0.03328157 0.04976233\n",
            "   0.02461058 0.03404624 0.06199188 0.04953058 0.06283489 0.01654801\n",
            "   0.0264506  0.02332346 0.02609873 0.01993319 0.01197823]]], shape=(1, 5, 35), dtype=float32)\n"
          ]
        }
      ],
      "source": [
        "tf.random.set_seed(10)\n",
        "\n",
        "num_layers = 6\n",
        "embedding_dim = 4\n",
        "num_heads = 4\n",
        "fully_connected_dim = 8\n",
        "input_vocab_size = 30\n",
        "target_vocab_size = 35\n",
        "max_positional_encoding_input = 5\n",
        "max_positional_encoding_target = 6\n",
        "\n",
        "trans = Transformer(num_layers,\n",
        "                    embedding_dim,\n",
        "                    num_heads,\n",
        "                    fully_connected_dim,\n",
        "                    input_vocab_size,\n",
        "                    target_vocab_size,\n",
        "                    max_positional_encoding_input,\n",
        "                    max_positional_encoding_target)\n",
        "\n",
        "# 0 is the padding value\n",
        "sentence_lang_a = np.array([[2, 1, 4, 3, 0]])\n",
        "sentence_lang_b = np.array([[3, 2, 1, 0, 0]])\n",
        "\n",
        "enc_padding_mask = create_padding_mask(sentence_lang_a)\n",
        "dec_padding_mask = create_padding_mask(sentence_lang_b)\n",
        "\n",
        "look_ahead_mask = create_look_ahead_mask(sentence_lang_a.shape[1])\n",
        "\n",
        "translation, weights = trans(\n",
        "    sentence_lang_a,\n",
        "    sentence_lang_b,\n",
        "    True,  # Training\n",
        "    enc_padding_mask,\n",
        "    look_ahead_mask,\n",
        "    dec_padding_mask\n",
        ")\n",
        "\n",
        "print(translation.shape)\n",
        "print(translation)\n"
      ]
    },
    {
      "cell_type": "markdown",
      "source": [
        "# Висновок"
      ],
      "metadata": {
        "id": "QXS5-TrthW8X"
      }
    },
    {
      "cell_type": "markdown",
      "metadata": {
        "id": "6eJtkj_V_dHz"
      },
      "source": [
        "\n",
        "- Комбінація самоуваги та шарів згорткової мережі дозволяє паралелізувати навчання і *прискорює навчання*.\n",
        "- Самоувага розраховується за допомогою згенерованих матриць запиту Q, ключа K та значення V.\n",
        "- Додавання позиційного кодування до вбудовувань слів є ефективним способом включення інформації про послідовність у розрахунках самоуваги.\n",
        "- Багатоголова увага може допомогти виявити кілька особливостей у реченні.\n",
        "- Маскування зупиняє модель від 'погляду вперед' під час навчання або надмірного зважування нулів під час обробки обрізаних речень.\n",
        "\n",
        "- Ashish Vaswani, Noam Shazeer, Niki Parmar, Jakob Uszkoreit, Llion Jones, Aidan N. Gomez, Lukasz Kaiser, Illia Polosukhin (2017). [Attention Is All You Need](https://arxiv.org/abs/1706.03762)"
      ]
    },
    {
      "cell_type": "markdown",
      "source": [
        "# Transfer Learning"
      ],
      "metadata": {
        "id": "aRT-G0JChZsP"
      }
    },
    {
      "cell_type": "code",
      "source": [
        "# # Install required libraries if not already installed\n",
        "# !pip install transformers[torch]\n",
        "# !pip install accelerate -U\n",
        "# !pip install datasets\n"
      ],
      "metadata": {
        "id": "ZN9dLhSbhc0O"
      },
      "execution_count": 54,
      "outputs": []
    },
    {
      "cell_type": "code",
      "source": [
        "import torch\n",
        "from transformers import BertTokenizer, BertForSequenceClassification, TrainingArguments, Trainer\n",
        "from keras.datasets import imdb\n",
        "from keras.preprocessing.sequence import pad_sequences\n",
        "\n",
        "# Load and preprocess data using Transformers dataset library:\n",
        "from datasets import Dataset\n"
      ],
      "metadata": {
        "id": "6Vp2BtRnhfdB"
      },
      "execution_count": 91,
      "outputs": []
    },
    {
      "cell_type": "code",
      "source": [
        "# Define hyperparameters:\n",
        "max_features = 100000  # Number of words to consider as features\n",
        "maxlen = 500  # Limit on the number of words in each text\n",
        "batch_size = 32\n",
        "\n",
        "# Use the default parameters to keras.datasets.imdb.load_data\n",
        "start_char = 1\n",
        "oov_char = 2\n",
        "index_from = 3\n",
        "# Retrieve the training sequences.\n",
        "# Load and preprocess data using Keras for IMDb dataset:\n",
        "(input_train, y_train), (input_test, y_test) = imdb.load_data(\n",
        "    num_words=max_features, start_char=start_char, oov_char=oov_char, index_from=index_from)\n"
      ],
      "metadata": {
        "id": "j5Iqo_yihgdK"
      },
      "execution_count": 92,
      "outputs": []
    },
    {
      "cell_type": "code",
      "source": [
        "\n",
        "# Retrieve the word index file mapping words to indices\n",
        "word_index = tf.keras.datasets.imdb.get_word_index()\n",
        "# Reverse the word index to obtain a dict mapping indices to words\n",
        "# And add `index_from` to indices to sync with `x_train`\n",
        "inverted_word_index = dict(\n",
        "    (i + index_from, word) for (word, i) in word_index.items()\n",
        ")\n",
        "# Update `inverted_word_index` to include `start_char` and `oov_char`\n",
        "inverted_word_index[start_char] = \"[START]\"\n",
        "inverted_word_index[oov_char] = \"[OOV]\"\n",
        "# Decode the first sequence in the dataset\n",
        "decoded_input_train = [\" \".join(inverted_word_index[i] for i in sentence) for sentence in input_train]\n",
        "decoded_input_test = [\" \".join(inverted_word_index[i] for i in sentence) for sentence in input_test]\n"
      ],
      "metadata": {
        "id": "pBzvQ6qAjXeK"
      },
      "execution_count": 93,
      "outputs": []
    },
    {
      "cell_type": "code",
      "source": [
        "\n",
        "import pandas as pd\n",
        "\n",
        "input_train_df = pd.DataFrame({\"text\": decoded_input_train, \"label\": y_train})\n",
        "input_test_df = pd.DataFrame({\"text\": decoded_input_test, \"label\": y_test})\n",
        "input_train_df\n"
      ],
      "metadata": {
        "colab": {
          "base_uri": "https://localhost:8080/",
          "height": 424
        },
        "id": "zACVeo8AnwC_",
        "outputId": "b5361355-fc99-4314-b399-5e38f247d022"
      },
      "execution_count": 96,
      "outputs": [
        {
          "output_type": "execute_result",
          "data": {
            "text/plain": [
              "                                                    text  label\n",
              "0      [START] this film was just brilliant casting l...      1\n",
              "1      [START] big hair big boobs bad music and a gia...      0\n",
              "2      [START] this has to be one of the worst films ...      0\n",
              "3      [START] the scots excel at storytelling the tr...      1\n",
              "4      [START] worst mistake of my life br br i picke...      0\n",
              "...                                                  ...    ...\n",
              "24995  [START] this is a racist movie but worthy of s...      1\n",
              "24996  [START] bela lugosi plays a doctor who will do...      0\n",
              "24997  [START] in a far away galaxy is a planet calle...      0\n",
              "24998  [START] six degrees had me hooked i looked for...      1\n",
              "24999  [START] as a big fan of the original film it's...      0\n",
              "\n",
              "[25000 rows x 2 columns]"
            ],
            "text/html": [
              "\n",
              "  <div id=\"df-7fa713fb-88c3-469b-b4b4-73a9118f6d90\" class=\"colab-df-container\">\n",
              "    <div>\n",
              "<style scoped>\n",
              "    .dataframe tbody tr th:only-of-type {\n",
              "        vertical-align: middle;\n",
              "    }\n",
              "\n",
              "    .dataframe tbody tr th {\n",
              "        vertical-align: top;\n",
              "    }\n",
              "\n",
              "    .dataframe thead th {\n",
              "        text-align: right;\n",
              "    }\n",
              "</style>\n",
              "<table border=\"1\" class=\"dataframe\">\n",
              "  <thead>\n",
              "    <tr style=\"text-align: right;\">\n",
              "      <th></th>\n",
              "      <th>text</th>\n",
              "      <th>label</th>\n",
              "    </tr>\n",
              "  </thead>\n",
              "  <tbody>\n",
              "    <tr>\n",
              "      <th>0</th>\n",
              "      <td>[START] this film was just brilliant casting l...</td>\n",
              "      <td>1</td>\n",
              "    </tr>\n",
              "    <tr>\n",
              "      <th>1</th>\n",
              "      <td>[START] big hair big boobs bad music and a gia...</td>\n",
              "      <td>0</td>\n",
              "    </tr>\n",
              "    <tr>\n",
              "      <th>2</th>\n",
              "      <td>[START] this has to be one of the worst films ...</td>\n",
              "      <td>0</td>\n",
              "    </tr>\n",
              "    <tr>\n",
              "      <th>3</th>\n",
              "      <td>[START] the scots excel at storytelling the tr...</td>\n",
              "      <td>1</td>\n",
              "    </tr>\n",
              "    <tr>\n",
              "      <th>4</th>\n",
              "      <td>[START] worst mistake of my life br br i picke...</td>\n",
              "      <td>0</td>\n",
              "    </tr>\n",
              "    <tr>\n",
              "      <th>...</th>\n",
              "      <td>...</td>\n",
              "      <td>...</td>\n",
              "    </tr>\n",
              "    <tr>\n",
              "      <th>24995</th>\n",
              "      <td>[START] this is a racist movie but worthy of s...</td>\n",
              "      <td>1</td>\n",
              "    </tr>\n",
              "    <tr>\n",
              "      <th>24996</th>\n",
              "      <td>[START] bela lugosi plays a doctor who will do...</td>\n",
              "      <td>0</td>\n",
              "    </tr>\n",
              "    <tr>\n",
              "      <th>24997</th>\n",
              "      <td>[START] in a far away galaxy is a planet calle...</td>\n",
              "      <td>0</td>\n",
              "    </tr>\n",
              "    <tr>\n",
              "      <th>24998</th>\n",
              "      <td>[START] six degrees had me hooked i looked for...</td>\n",
              "      <td>1</td>\n",
              "    </tr>\n",
              "    <tr>\n",
              "      <th>24999</th>\n",
              "      <td>[START] as a big fan of the original film it's...</td>\n",
              "      <td>0</td>\n",
              "    </tr>\n",
              "  </tbody>\n",
              "</table>\n",
              "<p>25000 rows × 2 columns</p>\n",
              "</div>\n",
              "    <div class=\"colab-df-buttons\">\n",
              "\n",
              "  <div class=\"colab-df-container\">\n",
              "    <button class=\"colab-df-convert\" onclick=\"convertToInteractive('df-7fa713fb-88c3-469b-b4b4-73a9118f6d90')\"\n",
              "            title=\"Convert this dataframe to an interactive table.\"\n",
              "            style=\"display:none;\">\n",
              "\n",
              "  <svg xmlns=\"http://www.w3.org/2000/svg\" height=\"24px\" viewBox=\"0 -960 960 960\">\n",
              "    <path d=\"M120-120v-720h720v720H120Zm60-500h600v-160H180v160Zm220 220h160v-160H400v160Zm0 220h160v-160H400v160ZM180-400h160v-160H180v160Zm440 0h160v-160H620v160ZM180-180h160v-160H180v160Zm440 0h160v-160H620v160Z\"/>\n",
              "  </svg>\n",
              "    </button>\n",
              "\n",
              "  <style>\n",
              "    .colab-df-container {\n",
              "      display:flex;\n",
              "      gap: 12px;\n",
              "    }\n",
              "\n",
              "    .colab-df-convert {\n",
              "      background-color: #E8F0FE;\n",
              "      border: none;\n",
              "      border-radius: 50%;\n",
              "      cursor: pointer;\n",
              "      display: none;\n",
              "      fill: #1967D2;\n",
              "      height: 32px;\n",
              "      padding: 0 0 0 0;\n",
              "      width: 32px;\n",
              "    }\n",
              "\n",
              "    .colab-df-convert:hover {\n",
              "      background-color: #E2EBFA;\n",
              "      box-shadow: 0px 1px 2px rgba(60, 64, 67, 0.3), 0px 1px 3px 1px rgba(60, 64, 67, 0.15);\n",
              "      fill: #174EA6;\n",
              "    }\n",
              "\n",
              "    .colab-df-buttons div {\n",
              "      margin-bottom: 4px;\n",
              "    }\n",
              "\n",
              "    [theme=dark] .colab-df-convert {\n",
              "      background-color: #3B4455;\n",
              "      fill: #D2E3FC;\n",
              "    }\n",
              "\n",
              "    [theme=dark] .colab-df-convert:hover {\n",
              "      background-color: #434B5C;\n",
              "      box-shadow: 0px 1px 3px 1px rgba(0, 0, 0, 0.15);\n",
              "      filter: drop-shadow(0px 1px 2px rgba(0, 0, 0, 0.3));\n",
              "      fill: #FFFFFF;\n",
              "    }\n",
              "  </style>\n",
              "\n",
              "    <script>\n",
              "      const buttonEl =\n",
              "        document.querySelector('#df-7fa713fb-88c3-469b-b4b4-73a9118f6d90 button.colab-df-convert');\n",
              "      buttonEl.style.display =\n",
              "        google.colab.kernel.accessAllowed ? 'block' : 'none';\n",
              "\n",
              "      async function convertToInteractive(key) {\n",
              "        const element = document.querySelector('#df-7fa713fb-88c3-469b-b4b4-73a9118f6d90');\n",
              "        const dataTable =\n",
              "          await google.colab.kernel.invokeFunction('convertToInteractive',\n",
              "                                                    [key], {});\n",
              "        if (!dataTable) return;\n",
              "\n",
              "        const docLinkHtml = 'Like what you see? Visit the ' +\n",
              "          '<a target=\"_blank\" href=https://colab.research.google.com/notebooks/data_table.ipynb>data table notebook</a>'\n",
              "          + ' to learn more about interactive tables.';\n",
              "        element.innerHTML = '';\n",
              "        dataTable['output_type'] = 'display_data';\n",
              "        await google.colab.output.renderOutput(dataTable, element);\n",
              "        const docLink = document.createElement('div');\n",
              "        docLink.innerHTML = docLinkHtml;\n",
              "        element.appendChild(docLink);\n",
              "      }\n",
              "    </script>\n",
              "  </div>\n",
              "\n",
              "\n",
              "<div id=\"df-9e2895d6-848a-46f4-b6f5-f7b72fb970e7\">\n",
              "  <button class=\"colab-df-quickchart\" onclick=\"quickchart('df-9e2895d6-848a-46f4-b6f5-f7b72fb970e7')\"\n",
              "            title=\"Suggest charts.\"\n",
              "            style=\"display:none;\">\n",
              "\n",
              "<svg xmlns=\"http://www.w3.org/2000/svg\" height=\"24px\"viewBox=\"0 0 24 24\"\n",
              "     width=\"24px\">\n",
              "    <g>\n",
              "        <path d=\"M19 3H5c-1.1 0-2 .9-2 2v14c0 1.1.9 2 2 2h14c1.1 0 2-.9 2-2V5c0-1.1-.9-2-2-2zM9 17H7v-7h2v7zm4 0h-2V7h2v10zm4 0h-2v-4h2v4z\"/>\n",
              "    </g>\n",
              "</svg>\n",
              "  </button>\n",
              "\n",
              "<style>\n",
              "  .colab-df-quickchart {\n",
              "      --bg-color: #E8F0FE;\n",
              "      --fill-color: #1967D2;\n",
              "      --hover-bg-color: #E2EBFA;\n",
              "      --hover-fill-color: #174EA6;\n",
              "      --disabled-fill-color: #AAA;\n",
              "      --disabled-bg-color: #DDD;\n",
              "  }\n",
              "\n",
              "  [theme=dark] .colab-df-quickchart {\n",
              "      --bg-color: #3B4455;\n",
              "      --fill-color: #D2E3FC;\n",
              "      --hover-bg-color: #434B5C;\n",
              "      --hover-fill-color: #FFFFFF;\n",
              "      --disabled-bg-color: #3B4455;\n",
              "      --disabled-fill-color: #666;\n",
              "  }\n",
              "\n",
              "  .colab-df-quickchart {\n",
              "    background-color: var(--bg-color);\n",
              "    border: none;\n",
              "    border-radius: 50%;\n",
              "    cursor: pointer;\n",
              "    display: none;\n",
              "    fill: var(--fill-color);\n",
              "    height: 32px;\n",
              "    padding: 0;\n",
              "    width: 32px;\n",
              "  }\n",
              "\n",
              "  .colab-df-quickchart:hover {\n",
              "    background-color: var(--hover-bg-color);\n",
              "    box-shadow: 0 1px 2px rgba(60, 64, 67, 0.3), 0 1px 3px 1px rgba(60, 64, 67, 0.15);\n",
              "    fill: var(--button-hover-fill-color);\n",
              "  }\n",
              "\n",
              "  .colab-df-quickchart-complete:disabled,\n",
              "  .colab-df-quickchart-complete:disabled:hover {\n",
              "    background-color: var(--disabled-bg-color);\n",
              "    fill: var(--disabled-fill-color);\n",
              "    box-shadow: none;\n",
              "  }\n",
              "\n",
              "  .colab-df-spinner {\n",
              "    border: 2px solid var(--fill-color);\n",
              "    border-color: transparent;\n",
              "    border-bottom-color: var(--fill-color);\n",
              "    animation:\n",
              "      spin 1s steps(1) infinite;\n",
              "  }\n",
              "\n",
              "  @keyframes spin {\n",
              "    0% {\n",
              "      border-color: transparent;\n",
              "      border-bottom-color: var(--fill-color);\n",
              "      border-left-color: var(--fill-color);\n",
              "    }\n",
              "    20% {\n",
              "      border-color: transparent;\n",
              "      border-left-color: var(--fill-color);\n",
              "      border-top-color: var(--fill-color);\n",
              "    }\n",
              "    30% {\n",
              "      border-color: transparent;\n",
              "      border-left-color: var(--fill-color);\n",
              "      border-top-color: var(--fill-color);\n",
              "      border-right-color: var(--fill-color);\n",
              "    }\n",
              "    40% {\n",
              "      border-color: transparent;\n",
              "      border-right-color: var(--fill-color);\n",
              "      border-top-color: var(--fill-color);\n",
              "    }\n",
              "    60% {\n",
              "      border-color: transparent;\n",
              "      border-right-color: var(--fill-color);\n",
              "    }\n",
              "    80% {\n",
              "      border-color: transparent;\n",
              "      border-right-color: var(--fill-color);\n",
              "      border-bottom-color: var(--fill-color);\n",
              "    }\n",
              "    90% {\n",
              "      border-color: transparent;\n",
              "      border-bottom-color: var(--fill-color);\n",
              "    }\n",
              "  }\n",
              "</style>\n",
              "\n",
              "  <script>\n",
              "    async function quickchart(key) {\n",
              "      const quickchartButtonEl =\n",
              "        document.querySelector('#' + key + ' button');\n",
              "      quickchartButtonEl.disabled = true;  // To prevent multiple clicks.\n",
              "      quickchartButtonEl.classList.add('colab-df-spinner');\n",
              "      try {\n",
              "        const charts = await google.colab.kernel.invokeFunction(\n",
              "            'suggestCharts', [key], {});\n",
              "      } catch (error) {\n",
              "        console.error('Error during call to suggestCharts:', error);\n",
              "      }\n",
              "      quickchartButtonEl.classList.remove('colab-df-spinner');\n",
              "      quickchartButtonEl.classList.add('colab-df-quickchart-complete');\n",
              "    }\n",
              "    (() => {\n",
              "      let quickchartButtonEl =\n",
              "        document.querySelector('#df-9e2895d6-848a-46f4-b6f5-f7b72fb970e7 button');\n",
              "      quickchartButtonEl.style.display =\n",
              "        google.colab.kernel.accessAllowed ? 'block' : 'none';\n",
              "    })();\n",
              "  </script>\n",
              "</div>\n",
              "    </div>\n",
              "  </div>\n"
            ]
          },
          "metadata": {},
          "execution_count": 96
        }
      ]
    },
    {
      "cell_type": "code",
      "source": [
        "\n",
        "train_dataset = Dataset.from_pandas(input_train_df)\n",
        "test_dataset = Dataset.from_pandas(input_test_df)\n",
        "\n"
      ],
      "metadata": {
        "id": "AgcBEueBibrF"
      },
      "execution_count": 97,
      "outputs": []
    },
    {
      "cell_type": "code",
      "source": [
        "# Tokenization using BERT tokenizer:\n",
        "tokenizer = BertTokenizer.from_pretrained('bert-base-uncased')\n"
      ],
      "metadata": {
        "id": "R7nDFS_Bhkai"
      },
      "execution_count": 98,
      "outputs": []
    },
    {
      "cell_type": "code",
      "source": [
        "def tokenize_function(examples):\n",
        "    return tokenizer(examples['text'], padding='max_length', truncation=True, max_length=maxlen, return_tensors='pt', is_split_into_words=False)\n",
        "\n",
        "tokenized_train_dataset = train_dataset.map(tokenize_function, batched=True)\n",
        "tokenized_test_dataset = test_dataset.map(tokenize_function, batched=True)\n"
      ],
      "metadata": {
        "colab": {
          "base_uri": "https://localhost:8080/",
          "height": 81,
          "referenced_widgets": [
            "933722a990a94152a46cf46cdd1e1836",
            "3e3c2090d48d49458f6165602e66ff04",
            "c5e58b0f575c4351932d002edc3a7052",
            "9d296b262d7943c8ba309aab769268a7",
            "99011d04710f47ab84dd8745e5ca60e6",
            "b6c1b958638444f3a90b85a6ec5beb24",
            "773e6e9034db48e4885c2b24561579f4",
            "8ae2d09dbe9847c4bce8c12757bd73a8",
            "8d49e09376c64eccb38bdb60993644b2",
            "62708cdbbecf478f838390b7d5196fc0",
            "39102e8c5373487cae13c5220ad542dc",
            "d76c82627e8f4da1acf2452605999f38",
            "9190552db3b44873b3e722f210376c94",
            "c580dc590dfe4e30aa287e4b76e386ee",
            "25baf5f66443434ea841a4109eb1291b",
            "3f67f03a1bb34ad5bedc0519f0c2d6fa",
            "280ef500b9ec482ba1d7a75cd16537a6",
            "e310d59eb14b49ce9e423130e264b0df",
            "168355596d9f4fd98be67bb27d58095e",
            "f872b76694ce43ada3b6937bb638bcd8",
            "ad2819dc689246268f54a9ead60ced12",
            "ccb7c1239df748ac8db393138d434ccd"
          ]
        },
        "id": "uo7gs_Wehx04",
        "outputId": "01312536-72e2-47ae-a356-dd1dbb2ca113"
      },
      "execution_count": 99,
      "outputs": [
        {
          "output_type": "display_data",
          "data": {
            "text/plain": [
              "Map:   0%|          | 0/25000 [00:00<?, ? examples/s]"
            ],
            "application/vnd.jupyter.widget-view+json": {
              "version_major": 2,
              "version_minor": 0,
              "model_id": "933722a990a94152a46cf46cdd1e1836"
            }
          },
          "metadata": {}
        },
        {
          "output_type": "display_data",
          "data": {
            "text/plain": [
              "Map:   0%|          | 0/25000 [00:00<?, ? examples/s]"
            ],
            "application/vnd.jupyter.widget-view+json": {
              "version_major": 2,
              "version_minor": 0,
              "model_id": "d76c82627e8f4da1acf2452605999f38"
            }
          },
          "metadata": {}
        }
      ]
    },
    {
      "cell_type": "code",
      "source": [
        "# Fine-tune the model with BERT for sequence classification:\n",
        "model = BertForSequenceClassification.from_pretrained('bert-base-uncased', num_labels=2)\n",
        "model\n"
      ],
      "metadata": {
        "colab": {
          "base_uri": "https://localhost:8080/"
        },
        "id": "5RnKPNL3ohki",
        "outputId": "c5712032-9c54-43a1-89f8-0b5bc99be441"
      },
      "execution_count": 100,
      "outputs": [
        {
          "output_type": "stream",
          "name": "stderr",
          "text": [
            "Some weights of BertForSequenceClassification were not initialized from the model checkpoint at bert-base-uncased and are newly initialized: ['classifier.weight', 'classifier.bias']\n",
            "You should probably TRAIN this model on a down-stream task to be able to use it for predictions and inference.\n"
          ]
        },
        {
          "output_type": "execute_result",
          "data": {
            "text/plain": [
              "BertForSequenceClassification(\n",
              "  (bert): BertModel(\n",
              "    (embeddings): BertEmbeddings(\n",
              "      (word_embeddings): Embedding(30522, 768, padding_idx=0)\n",
              "      (position_embeddings): Embedding(512, 768)\n",
              "      (token_type_embeddings): Embedding(2, 768)\n",
              "      (LayerNorm): LayerNorm((768,), eps=1e-12, elementwise_affine=True)\n",
              "      (dropout): Dropout(p=0.1, inplace=False)\n",
              "    )\n",
              "    (encoder): BertEncoder(\n",
              "      (layer): ModuleList(\n",
              "        (0-11): 12 x BertLayer(\n",
              "          (attention): BertAttention(\n",
              "            (self): BertSelfAttention(\n",
              "              (query): Linear(in_features=768, out_features=768, bias=True)\n",
              "              (key): Linear(in_features=768, out_features=768, bias=True)\n",
              "              (value): Linear(in_features=768, out_features=768, bias=True)\n",
              "              (dropout): Dropout(p=0.1, inplace=False)\n",
              "            )\n",
              "            (output): BertSelfOutput(\n",
              "              (dense): Linear(in_features=768, out_features=768, bias=True)\n",
              "              (LayerNorm): LayerNorm((768,), eps=1e-12, elementwise_affine=True)\n",
              "              (dropout): Dropout(p=0.1, inplace=False)\n",
              "            )\n",
              "          )\n",
              "          (intermediate): BertIntermediate(\n",
              "            (dense): Linear(in_features=768, out_features=3072, bias=True)\n",
              "            (intermediate_act_fn): GELUActivation()\n",
              "          )\n",
              "          (output): BertOutput(\n",
              "            (dense): Linear(in_features=3072, out_features=768, bias=True)\n",
              "            (LayerNorm): LayerNorm((768,), eps=1e-12, elementwise_affine=True)\n",
              "            (dropout): Dropout(p=0.1, inplace=False)\n",
              "          )\n",
              "        )\n",
              "      )\n",
              "    )\n",
              "    (pooler): BertPooler(\n",
              "      (dense): Linear(in_features=768, out_features=768, bias=True)\n",
              "      (activation): Tanh()\n",
              "    )\n",
              "  )\n",
              "  (dropout): Dropout(p=0.1, inplace=False)\n",
              "  (classifier): Linear(in_features=768, out_features=2, bias=True)\n",
              ")"
            ]
          },
          "metadata": {},
          "execution_count": 100
        }
      ]
    },
    {
      "cell_type": "code",
      "source": [
        "from sklearn.metrics import accuracy_score, f1_score, precision_score, recall_score\n",
        "\n",
        "def compute_metrics(p):\n",
        "    pred, labels = p\n",
        "    pred = np.argmax(pred, axis=1)\n",
        "    accuracy = accuracy_score(labels, pred)\n",
        "    f1 = f1_score(labels, pred, average='macro')\n",
        "    precision = precision_score(labels, pred, average='macro')\n",
        "    recall = recall_score(labels, pred, average='macro')\n",
        "    return {\"accuracy\": accuracy, \"f1\": f1, \"precision\": precision, \"recall\": recall}\n"
      ],
      "metadata": {
        "id": "8JbmbYafot7v"
      },
      "execution_count": 101,
      "outputs": []
    },
    {
      "cell_type": "code",
      "source": [
        "# Define training arguments\n",
        "training_args = TrainingArguments(\n",
        "    output_dir='./results',\n",
        "    per_device_train_batch_size=8,\n",
        "    per_device_eval_batch_size=8,\n",
        "    evaluation_strategy=\"steps\",\n",
        "    eval_steps=1600,\n",
        "    logging_steps=1600,\n",
        "    logging_dir='./logs',\n",
        "    learning_rate=2e-5,\n",
        "    weight_decay=0.01,\n",
        "    push_to_hub=False,\n",
        "    num_train_epochs=1,\n",
        ")\n"
      ],
      "metadata": {
        "id": "nvE9CRXvo86c"
      },
      "execution_count": 102,
      "outputs": []
    },
    {
      "cell_type": "code",
      "source": [
        "\n",
        "trainer = Trainer(\n",
        "    model=model,\n",
        "    args=training_args,\n",
        "    train_dataset=tokenized_train_dataset,\n",
        "    eval_dataset=tokenized_test_dataset,\n",
        "    compute_metrics=compute_metrics\n",
        ")\n",
        "\n",
        "\n",
        "trainer.train()\n"
      ],
      "metadata": {
        "colab": {
          "base_uri": "https://localhost:8080/",
          "height": 141
        },
        "id": "fOP3ybv3XA59",
        "outputId": "6df9e0c4-00cb-4b2c-b578-801d3143f4fd"
      },
      "execution_count": 103,
      "outputs": [
        {
          "output_type": "display_data",
          "data": {
            "text/plain": [
              "<IPython.core.display.HTML object>"
            ],
            "text/html": [
              "\n",
              "    <div>\n",
              "      \n",
              "      <progress value='3125' max='3125' style='width:300px; height:20px; vertical-align: middle;'></progress>\n",
              "      [3125/3125 19:06, Epoch 1/1]\n",
              "    </div>\n",
              "    <table border=\"1\" class=\"dataframe\">\n",
              "  <thead>\n",
              " <tr style=\"text-align: left;\">\n",
              "      <th>Step</th>\n",
              "      <th>Training Loss</th>\n",
              "      <th>Validation Loss</th>\n",
              "      <th>Accuracy</th>\n",
              "      <th>F1</th>\n",
              "      <th>Precision</th>\n",
              "      <th>Recall</th>\n",
              "    </tr>\n",
              "  </thead>\n",
              "  <tbody>\n",
              "    <tr>\n",
              "      <td>1600</td>\n",
              "      <td>0.317300</td>\n",
              "      <td>0.229786</td>\n",
              "      <td>0.927880</td>\n",
              "      <td>0.927878</td>\n",
              "      <td>0.927926</td>\n",
              "      <td>0.927880</td>\n",
              "    </tr>\n",
              "  </tbody>\n",
              "</table><p>"
            ]
          },
          "metadata": {}
        },
        {
          "output_type": "execute_result",
          "data": {
            "text/plain": [
              "TrainOutput(global_step=3125, training_loss=0.2904718359375, metrics={'train_runtime': 1147.2257, 'train_samples_per_second': 21.792, 'train_steps_per_second': 2.724, 'total_flos': 6423609750000000.0, 'train_loss': 0.2904718359375, 'epoch': 1.0})"
            ]
          },
          "metadata": {},
          "execution_count": 103
        }
      ]
    },
    {
      "cell_type": "code",
      "source": [
        "# Evaluate the model on the test set:\n",
        "results = trainer.evaluate()\n",
        "print(results)\n",
        "\n"
      ],
      "metadata": {
        "colab": {
          "base_uri": "https://localhost:8080/",
          "height": 74
        },
        "id": "V701OPdLpIiO",
        "outputId": "59823f27-4591-401c-c80b-315d3075641d"
      },
      "execution_count": 104,
      "outputs": [
        {
          "output_type": "display_data",
          "data": {
            "text/plain": [
              "<IPython.core.display.HTML object>"
            ],
            "text/html": [
              "\n",
              "    <div>\n",
              "      \n",
              "      <progress value='3125' max='3125' style='width:300px; height:20px; vertical-align: middle;'></progress>\n",
              "      [3125/3125 04:36]\n",
              "    </div>\n",
              "    "
            ]
          },
          "metadata": {}
        },
        {
          "output_type": "stream",
          "name": "stdout",
          "text": [
            "{'eval_loss': 0.21711212396621704, 'eval_accuracy': 0.93604, 'eval_f1': 0.9360361084368373, 'eval_precision': 0.9361461405247581, 'eval_recall': 0.93604, 'eval_runtime': 276.2357, 'eval_samples_per_second': 90.502, 'eval_steps_per_second': 11.313, 'epoch': 1.0}\n"
          ]
        }
      ]
    },
    {
      "cell_type": "code",
      "source": [
        "import torch\n",
        "\n",
        "device = torch.device(\"cuda\" if torch.cuda.is_available() else \"cpu\")\n"
      ],
      "metadata": {
        "id": "9_BZzOqOXBDo"
      },
      "execution_count": 105,
      "outputs": []
    },
    {
      "cell_type": "code",
      "source": [
        "model.to(device)\n"
      ],
      "metadata": {
        "colab": {
          "base_uri": "https://localhost:8080/"
        },
        "id": "1hxO-VW4XBOc",
        "outputId": "d192ee5d-a71c-443a-eb38-7e1e84500266"
      },
      "execution_count": 106,
      "outputs": [
        {
          "output_type": "execute_result",
          "data": {
            "text/plain": [
              "BertForSequenceClassification(\n",
              "  (bert): BertModel(\n",
              "    (embeddings): BertEmbeddings(\n",
              "      (word_embeddings): Embedding(30522, 768, padding_idx=0)\n",
              "      (position_embeddings): Embedding(512, 768)\n",
              "      (token_type_embeddings): Embedding(2, 768)\n",
              "      (LayerNorm): LayerNorm((768,), eps=1e-12, elementwise_affine=True)\n",
              "      (dropout): Dropout(p=0.1, inplace=False)\n",
              "    )\n",
              "    (encoder): BertEncoder(\n",
              "      (layer): ModuleList(\n",
              "        (0-11): 12 x BertLayer(\n",
              "          (attention): BertAttention(\n",
              "            (self): BertSelfAttention(\n",
              "              (query): Linear(in_features=768, out_features=768, bias=True)\n",
              "              (key): Linear(in_features=768, out_features=768, bias=True)\n",
              "              (value): Linear(in_features=768, out_features=768, bias=True)\n",
              "              (dropout): Dropout(p=0.1, inplace=False)\n",
              "            )\n",
              "            (output): BertSelfOutput(\n",
              "              (dense): Linear(in_features=768, out_features=768, bias=True)\n",
              "              (LayerNorm): LayerNorm((768,), eps=1e-12, elementwise_affine=True)\n",
              "              (dropout): Dropout(p=0.1, inplace=False)\n",
              "            )\n",
              "          )\n",
              "          (intermediate): BertIntermediate(\n",
              "            (dense): Linear(in_features=768, out_features=3072, bias=True)\n",
              "            (intermediate_act_fn): GELUActivation()\n",
              "          )\n",
              "          (output): BertOutput(\n",
              "            (dense): Linear(in_features=3072, out_features=768, bias=True)\n",
              "            (LayerNorm): LayerNorm((768,), eps=1e-12, elementwise_affine=True)\n",
              "            (dropout): Dropout(p=0.1, inplace=False)\n",
              "          )\n",
              "        )\n",
              "      )\n",
              "    )\n",
              "    (pooler): BertPooler(\n",
              "      (dense): Linear(in_features=768, out_features=768, bias=True)\n",
              "      (activation): Tanh()\n",
              "    )\n",
              "  )\n",
              "  (dropout): Dropout(p=0.1, inplace=False)\n",
              "  (classifier): Linear(in_features=768, out_features=2, bias=True)\n",
              ")"
            ]
          },
          "metadata": {},
          "execution_count": 106
        }
      ]
    },
    {
      "cell_type": "code",
      "source": [
        "def predict_sentiment(review):\n",
        "    inputs = tokenizer(review, return_tensors=\"pt\", truncation=True, padding=True, max_length=500)\n",
        "    inputs = {name: tensor.to(device) for name, tensor in inputs.items()}  # Move input tensors to the device\n",
        "    outputs = model(**inputs)\n",
        "    probs = outputs.logits.softmax(dim=1)\n",
        "    sentiment = \"positive\" if probs[0].argmax().item() == 1 else \"negative\"\n",
        "    return sentiment\n"
      ],
      "metadata": {
        "id": "V9uwV6nnpBy_"
      },
      "execution_count": 107,
      "outputs": []
    },
    {
      "cell_type": "code",
      "source": [
        "\n",
        "# Test the function\n",
        "review = \"The movie was so-so!\"\n",
        "print(predict_sentiment(review))\n"
      ],
      "metadata": {
        "colab": {
          "base_uri": "https://localhost:8080/"
        },
        "id": "3NCDGMBRpB-k",
        "outputId": "c7b4af0b-15fc-4e7c-d929-de0f735a0a76"
      },
      "execution_count": 110,
      "outputs": [
        {
          "output_type": "stream",
          "name": "stdout",
          "text": [
            "positive\n"
          ]
        }
      ]
    },
    {
      "cell_type": "markdown",
      "source": [
        "https://huggingface.co/docs/transformers/create_a_model"
      ],
      "metadata": {
        "id": "SZxmuniSxUyL"
      }
    },
    {
      "cell_type": "code",
      "source": [],
      "metadata": {
        "id": "tf9vgwMz242X"
      },
      "execution_count": 70,
      "outputs": []
    },
    {
      "cell_type": "code",
      "source": [],
      "metadata": {
        "id": "_PrjG2YS24pj"
      },
      "execution_count": 70,
      "outputs": []
    },
    {
      "cell_type": "code",
      "source": [],
      "metadata": {
        "id": "_x64g05624c0"
      },
      "execution_count": 70,
      "outputs": []
    },
    {
      "cell_type": "code",
      "source": [],
      "metadata": {
        "id": "gEtRwsz324Rw"
      },
      "execution_count": 70,
      "outputs": []
    },
    {
      "cell_type": "code",
      "source": [],
      "metadata": {
        "id": "dJRZCvK_24EF"
      },
      "execution_count": 70,
      "outputs": []
    },
    {
      "cell_type": "code",
      "source": [],
      "metadata": {
        "id": "GTtYn6j6pCKu"
      },
      "execution_count": 70,
      "outputs": []
    },
    {
      "cell_type": "code",
      "source": [],
      "metadata": {
        "id": "OV0HnvIiXBZT"
      },
      "execution_count": 70,
      "outputs": []
    }
  ],
  "metadata": {
    "accelerator": "GPU",
    "kernelspec": {
      "display_name": "Python 3",
      "name": "python3"
    },
    "language_info": {
      "codemirror_mode": {
        "name": "ipython",
        "version": 3
      },
      "file_extension": ".py",
      "mimetype": "text/x-python",
      "name": "python",
      "nbconvert_exporter": "python",
      "pygments_lexer": "ipython3",
      "version": "3.7.6"
    },
    "colab": {
      "provenance": [],
      "gpuType": "V100"
    },
    "widgets": {
      "application/vnd.jupyter.widget-state+json": {
        "933722a990a94152a46cf46cdd1e1836": {
          "model_module": "@jupyter-widgets/controls",
          "model_name": "HBoxModel",
          "model_module_version": "1.5.0",
          "state": {
            "_dom_classes": [],
            "_model_module": "@jupyter-widgets/controls",
            "_model_module_version": "1.5.0",
            "_model_name": "HBoxModel",
            "_view_count": null,
            "_view_module": "@jupyter-widgets/controls",
            "_view_module_version": "1.5.0",
            "_view_name": "HBoxView",
            "box_style": "",
            "children": [
              "IPY_MODEL_3e3c2090d48d49458f6165602e66ff04",
              "IPY_MODEL_c5e58b0f575c4351932d002edc3a7052",
              "IPY_MODEL_9d296b262d7943c8ba309aab769268a7"
            ],
            "layout": "IPY_MODEL_99011d04710f47ab84dd8745e5ca60e6"
          }
        },
        "3e3c2090d48d49458f6165602e66ff04": {
          "model_module": "@jupyter-widgets/controls",
          "model_name": "HTMLModel",
          "model_module_version": "1.5.0",
          "state": {
            "_dom_classes": [],
            "_model_module": "@jupyter-widgets/controls",
            "_model_module_version": "1.5.0",
            "_model_name": "HTMLModel",
            "_view_count": null,
            "_view_module": "@jupyter-widgets/controls",
            "_view_module_version": "1.5.0",
            "_view_name": "HTMLView",
            "description": "",
            "description_tooltip": null,
            "layout": "IPY_MODEL_b6c1b958638444f3a90b85a6ec5beb24",
            "placeholder": "​",
            "style": "IPY_MODEL_773e6e9034db48e4885c2b24561579f4",
            "value": "Map: 100%"
          }
        },
        "c5e58b0f575c4351932d002edc3a7052": {
          "model_module": "@jupyter-widgets/controls",
          "model_name": "FloatProgressModel",
          "model_module_version": "1.5.0",
          "state": {
            "_dom_classes": [],
            "_model_module": "@jupyter-widgets/controls",
            "_model_module_version": "1.5.0",
            "_model_name": "FloatProgressModel",
            "_view_count": null,
            "_view_module": "@jupyter-widgets/controls",
            "_view_module_version": "1.5.0",
            "_view_name": "ProgressView",
            "bar_style": "success",
            "description": "",
            "description_tooltip": null,
            "layout": "IPY_MODEL_8ae2d09dbe9847c4bce8c12757bd73a8",
            "max": 25000,
            "min": 0,
            "orientation": "horizontal",
            "style": "IPY_MODEL_8d49e09376c64eccb38bdb60993644b2",
            "value": 25000
          }
        },
        "9d296b262d7943c8ba309aab769268a7": {
          "model_module": "@jupyter-widgets/controls",
          "model_name": "HTMLModel",
          "model_module_version": "1.5.0",
          "state": {
            "_dom_classes": [],
            "_model_module": "@jupyter-widgets/controls",
            "_model_module_version": "1.5.0",
            "_model_name": "HTMLModel",
            "_view_count": null,
            "_view_module": "@jupyter-widgets/controls",
            "_view_module_version": "1.5.0",
            "_view_name": "HTMLView",
            "description": "",
            "description_tooltip": null,
            "layout": "IPY_MODEL_62708cdbbecf478f838390b7d5196fc0",
            "placeholder": "​",
            "style": "IPY_MODEL_39102e8c5373487cae13c5220ad542dc",
            "value": " 25000/25000 [03:10&lt;00:00, 154.61 examples/s]"
          }
        },
        "99011d04710f47ab84dd8745e5ca60e6": {
          "model_module": "@jupyter-widgets/base",
          "model_name": "LayoutModel",
          "model_module_version": "1.2.0",
          "state": {
            "_model_module": "@jupyter-widgets/base",
            "_model_module_version": "1.2.0",
            "_model_name": "LayoutModel",
            "_view_count": null,
            "_view_module": "@jupyter-widgets/base",
            "_view_module_version": "1.2.0",
            "_view_name": "LayoutView",
            "align_content": null,
            "align_items": null,
            "align_self": null,
            "border": null,
            "bottom": null,
            "display": null,
            "flex": null,
            "flex_flow": null,
            "grid_area": null,
            "grid_auto_columns": null,
            "grid_auto_flow": null,
            "grid_auto_rows": null,
            "grid_column": null,
            "grid_gap": null,
            "grid_row": null,
            "grid_template_areas": null,
            "grid_template_columns": null,
            "grid_template_rows": null,
            "height": null,
            "justify_content": null,
            "justify_items": null,
            "left": null,
            "margin": null,
            "max_height": null,
            "max_width": null,
            "min_height": null,
            "min_width": null,
            "object_fit": null,
            "object_position": null,
            "order": null,
            "overflow": null,
            "overflow_x": null,
            "overflow_y": null,
            "padding": null,
            "right": null,
            "top": null,
            "visibility": null,
            "width": null
          }
        },
        "b6c1b958638444f3a90b85a6ec5beb24": {
          "model_module": "@jupyter-widgets/base",
          "model_name": "LayoutModel",
          "model_module_version": "1.2.0",
          "state": {
            "_model_module": "@jupyter-widgets/base",
            "_model_module_version": "1.2.0",
            "_model_name": "LayoutModel",
            "_view_count": null,
            "_view_module": "@jupyter-widgets/base",
            "_view_module_version": "1.2.0",
            "_view_name": "LayoutView",
            "align_content": null,
            "align_items": null,
            "align_self": null,
            "border": null,
            "bottom": null,
            "display": null,
            "flex": null,
            "flex_flow": null,
            "grid_area": null,
            "grid_auto_columns": null,
            "grid_auto_flow": null,
            "grid_auto_rows": null,
            "grid_column": null,
            "grid_gap": null,
            "grid_row": null,
            "grid_template_areas": null,
            "grid_template_columns": null,
            "grid_template_rows": null,
            "height": null,
            "justify_content": null,
            "justify_items": null,
            "left": null,
            "margin": null,
            "max_height": null,
            "max_width": null,
            "min_height": null,
            "min_width": null,
            "object_fit": null,
            "object_position": null,
            "order": null,
            "overflow": null,
            "overflow_x": null,
            "overflow_y": null,
            "padding": null,
            "right": null,
            "top": null,
            "visibility": null,
            "width": null
          }
        },
        "773e6e9034db48e4885c2b24561579f4": {
          "model_module": "@jupyter-widgets/controls",
          "model_name": "DescriptionStyleModel",
          "model_module_version": "1.5.0",
          "state": {
            "_model_module": "@jupyter-widgets/controls",
            "_model_module_version": "1.5.0",
            "_model_name": "DescriptionStyleModel",
            "_view_count": null,
            "_view_module": "@jupyter-widgets/base",
            "_view_module_version": "1.2.0",
            "_view_name": "StyleView",
            "description_width": ""
          }
        },
        "8ae2d09dbe9847c4bce8c12757bd73a8": {
          "model_module": "@jupyter-widgets/base",
          "model_name": "LayoutModel",
          "model_module_version": "1.2.0",
          "state": {
            "_model_module": "@jupyter-widgets/base",
            "_model_module_version": "1.2.0",
            "_model_name": "LayoutModel",
            "_view_count": null,
            "_view_module": "@jupyter-widgets/base",
            "_view_module_version": "1.2.0",
            "_view_name": "LayoutView",
            "align_content": null,
            "align_items": null,
            "align_self": null,
            "border": null,
            "bottom": null,
            "display": null,
            "flex": null,
            "flex_flow": null,
            "grid_area": null,
            "grid_auto_columns": null,
            "grid_auto_flow": null,
            "grid_auto_rows": null,
            "grid_column": null,
            "grid_gap": null,
            "grid_row": null,
            "grid_template_areas": null,
            "grid_template_columns": null,
            "grid_template_rows": null,
            "height": null,
            "justify_content": null,
            "justify_items": null,
            "left": null,
            "margin": null,
            "max_height": null,
            "max_width": null,
            "min_height": null,
            "min_width": null,
            "object_fit": null,
            "object_position": null,
            "order": null,
            "overflow": null,
            "overflow_x": null,
            "overflow_y": null,
            "padding": null,
            "right": null,
            "top": null,
            "visibility": null,
            "width": null
          }
        },
        "8d49e09376c64eccb38bdb60993644b2": {
          "model_module": "@jupyter-widgets/controls",
          "model_name": "ProgressStyleModel",
          "model_module_version": "1.5.0",
          "state": {
            "_model_module": "@jupyter-widgets/controls",
            "_model_module_version": "1.5.0",
            "_model_name": "ProgressStyleModel",
            "_view_count": null,
            "_view_module": "@jupyter-widgets/base",
            "_view_module_version": "1.2.0",
            "_view_name": "StyleView",
            "bar_color": null,
            "description_width": ""
          }
        },
        "62708cdbbecf478f838390b7d5196fc0": {
          "model_module": "@jupyter-widgets/base",
          "model_name": "LayoutModel",
          "model_module_version": "1.2.0",
          "state": {
            "_model_module": "@jupyter-widgets/base",
            "_model_module_version": "1.2.0",
            "_model_name": "LayoutModel",
            "_view_count": null,
            "_view_module": "@jupyter-widgets/base",
            "_view_module_version": "1.2.0",
            "_view_name": "LayoutView",
            "align_content": null,
            "align_items": null,
            "align_self": null,
            "border": null,
            "bottom": null,
            "display": null,
            "flex": null,
            "flex_flow": null,
            "grid_area": null,
            "grid_auto_columns": null,
            "grid_auto_flow": null,
            "grid_auto_rows": null,
            "grid_column": null,
            "grid_gap": null,
            "grid_row": null,
            "grid_template_areas": null,
            "grid_template_columns": null,
            "grid_template_rows": null,
            "height": null,
            "justify_content": null,
            "justify_items": null,
            "left": null,
            "margin": null,
            "max_height": null,
            "max_width": null,
            "min_height": null,
            "min_width": null,
            "object_fit": null,
            "object_position": null,
            "order": null,
            "overflow": null,
            "overflow_x": null,
            "overflow_y": null,
            "padding": null,
            "right": null,
            "top": null,
            "visibility": null,
            "width": null
          }
        },
        "39102e8c5373487cae13c5220ad542dc": {
          "model_module": "@jupyter-widgets/controls",
          "model_name": "DescriptionStyleModel",
          "model_module_version": "1.5.0",
          "state": {
            "_model_module": "@jupyter-widgets/controls",
            "_model_module_version": "1.5.0",
            "_model_name": "DescriptionStyleModel",
            "_view_count": null,
            "_view_module": "@jupyter-widgets/base",
            "_view_module_version": "1.2.0",
            "_view_name": "StyleView",
            "description_width": ""
          }
        },
        "d76c82627e8f4da1acf2452605999f38": {
          "model_module": "@jupyter-widgets/controls",
          "model_name": "HBoxModel",
          "model_module_version": "1.5.0",
          "state": {
            "_dom_classes": [],
            "_model_module": "@jupyter-widgets/controls",
            "_model_module_version": "1.5.0",
            "_model_name": "HBoxModel",
            "_view_count": null,
            "_view_module": "@jupyter-widgets/controls",
            "_view_module_version": "1.5.0",
            "_view_name": "HBoxView",
            "box_style": "",
            "children": [
              "IPY_MODEL_9190552db3b44873b3e722f210376c94",
              "IPY_MODEL_c580dc590dfe4e30aa287e4b76e386ee",
              "IPY_MODEL_25baf5f66443434ea841a4109eb1291b"
            ],
            "layout": "IPY_MODEL_3f67f03a1bb34ad5bedc0519f0c2d6fa"
          }
        },
        "9190552db3b44873b3e722f210376c94": {
          "model_module": "@jupyter-widgets/controls",
          "model_name": "HTMLModel",
          "model_module_version": "1.5.0",
          "state": {
            "_dom_classes": [],
            "_model_module": "@jupyter-widgets/controls",
            "_model_module_version": "1.5.0",
            "_model_name": "HTMLModel",
            "_view_count": null,
            "_view_module": "@jupyter-widgets/controls",
            "_view_module_version": "1.5.0",
            "_view_name": "HTMLView",
            "description": "",
            "description_tooltip": null,
            "layout": "IPY_MODEL_280ef500b9ec482ba1d7a75cd16537a6",
            "placeholder": "​",
            "style": "IPY_MODEL_e310d59eb14b49ce9e423130e264b0df",
            "value": "Map: 100%"
          }
        },
        "c580dc590dfe4e30aa287e4b76e386ee": {
          "model_module": "@jupyter-widgets/controls",
          "model_name": "FloatProgressModel",
          "model_module_version": "1.5.0",
          "state": {
            "_dom_classes": [],
            "_model_module": "@jupyter-widgets/controls",
            "_model_module_version": "1.5.0",
            "_model_name": "FloatProgressModel",
            "_view_count": null,
            "_view_module": "@jupyter-widgets/controls",
            "_view_module_version": "1.5.0",
            "_view_name": "ProgressView",
            "bar_style": "success",
            "description": "",
            "description_tooltip": null,
            "layout": "IPY_MODEL_168355596d9f4fd98be67bb27d58095e",
            "max": 25000,
            "min": 0,
            "orientation": "horizontal",
            "style": "IPY_MODEL_f872b76694ce43ada3b6937bb638bcd8",
            "value": 25000
          }
        },
        "25baf5f66443434ea841a4109eb1291b": {
          "model_module": "@jupyter-widgets/controls",
          "model_name": "HTMLModel",
          "model_module_version": "1.5.0",
          "state": {
            "_dom_classes": [],
            "_model_module": "@jupyter-widgets/controls",
            "_model_module_version": "1.5.0",
            "_model_name": "HTMLModel",
            "_view_count": null,
            "_view_module": "@jupyter-widgets/controls",
            "_view_module_version": "1.5.0",
            "_view_name": "HTMLView",
            "description": "",
            "description_tooltip": null,
            "layout": "IPY_MODEL_ad2819dc689246268f54a9ead60ced12",
            "placeholder": "​",
            "style": "IPY_MODEL_ccb7c1239df748ac8db393138d434ccd",
            "value": " 25000/25000 [02:37&lt;00:00, 167.24 examples/s]"
          }
        },
        "3f67f03a1bb34ad5bedc0519f0c2d6fa": {
          "model_module": "@jupyter-widgets/base",
          "model_name": "LayoutModel",
          "model_module_version": "1.2.0",
          "state": {
            "_model_module": "@jupyter-widgets/base",
            "_model_module_version": "1.2.0",
            "_model_name": "LayoutModel",
            "_view_count": null,
            "_view_module": "@jupyter-widgets/base",
            "_view_module_version": "1.2.0",
            "_view_name": "LayoutView",
            "align_content": null,
            "align_items": null,
            "align_self": null,
            "border": null,
            "bottom": null,
            "display": null,
            "flex": null,
            "flex_flow": null,
            "grid_area": null,
            "grid_auto_columns": null,
            "grid_auto_flow": null,
            "grid_auto_rows": null,
            "grid_column": null,
            "grid_gap": null,
            "grid_row": null,
            "grid_template_areas": null,
            "grid_template_columns": null,
            "grid_template_rows": null,
            "height": null,
            "justify_content": null,
            "justify_items": null,
            "left": null,
            "margin": null,
            "max_height": null,
            "max_width": null,
            "min_height": null,
            "min_width": null,
            "object_fit": null,
            "object_position": null,
            "order": null,
            "overflow": null,
            "overflow_x": null,
            "overflow_y": null,
            "padding": null,
            "right": null,
            "top": null,
            "visibility": null,
            "width": null
          }
        },
        "280ef500b9ec482ba1d7a75cd16537a6": {
          "model_module": "@jupyter-widgets/base",
          "model_name": "LayoutModel",
          "model_module_version": "1.2.0",
          "state": {
            "_model_module": "@jupyter-widgets/base",
            "_model_module_version": "1.2.0",
            "_model_name": "LayoutModel",
            "_view_count": null,
            "_view_module": "@jupyter-widgets/base",
            "_view_module_version": "1.2.0",
            "_view_name": "LayoutView",
            "align_content": null,
            "align_items": null,
            "align_self": null,
            "border": null,
            "bottom": null,
            "display": null,
            "flex": null,
            "flex_flow": null,
            "grid_area": null,
            "grid_auto_columns": null,
            "grid_auto_flow": null,
            "grid_auto_rows": null,
            "grid_column": null,
            "grid_gap": null,
            "grid_row": null,
            "grid_template_areas": null,
            "grid_template_columns": null,
            "grid_template_rows": null,
            "height": null,
            "justify_content": null,
            "justify_items": null,
            "left": null,
            "margin": null,
            "max_height": null,
            "max_width": null,
            "min_height": null,
            "min_width": null,
            "object_fit": null,
            "object_position": null,
            "order": null,
            "overflow": null,
            "overflow_x": null,
            "overflow_y": null,
            "padding": null,
            "right": null,
            "top": null,
            "visibility": null,
            "width": null
          }
        },
        "e310d59eb14b49ce9e423130e264b0df": {
          "model_module": "@jupyter-widgets/controls",
          "model_name": "DescriptionStyleModel",
          "model_module_version": "1.5.0",
          "state": {
            "_model_module": "@jupyter-widgets/controls",
            "_model_module_version": "1.5.0",
            "_model_name": "DescriptionStyleModel",
            "_view_count": null,
            "_view_module": "@jupyter-widgets/base",
            "_view_module_version": "1.2.0",
            "_view_name": "StyleView",
            "description_width": ""
          }
        },
        "168355596d9f4fd98be67bb27d58095e": {
          "model_module": "@jupyter-widgets/base",
          "model_name": "LayoutModel",
          "model_module_version": "1.2.0",
          "state": {
            "_model_module": "@jupyter-widgets/base",
            "_model_module_version": "1.2.0",
            "_model_name": "LayoutModel",
            "_view_count": null,
            "_view_module": "@jupyter-widgets/base",
            "_view_module_version": "1.2.0",
            "_view_name": "LayoutView",
            "align_content": null,
            "align_items": null,
            "align_self": null,
            "border": null,
            "bottom": null,
            "display": null,
            "flex": null,
            "flex_flow": null,
            "grid_area": null,
            "grid_auto_columns": null,
            "grid_auto_flow": null,
            "grid_auto_rows": null,
            "grid_column": null,
            "grid_gap": null,
            "grid_row": null,
            "grid_template_areas": null,
            "grid_template_columns": null,
            "grid_template_rows": null,
            "height": null,
            "justify_content": null,
            "justify_items": null,
            "left": null,
            "margin": null,
            "max_height": null,
            "max_width": null,
            "min_height": null,
            "min_width": null,
            "object_fit": null,
            "object_position": null,
            "order": null,
            "overflow": null,
            "overflow_x": null,
            "overflow_y": null,
            "padding": null,
            "right": null,
            "top": null,
            "visibility": null,
            "width": null
          }
        },
        "f872b76694ce43ada3b6937bb638bcd8": {
          "model_module": "@jupyter-widgets/controls",
          "model_name": "ProgressStyleModel",
          "model_module_version": "1.5.0",
          "state": {
            "_model_module": "@jupyter-widgets/controls",
            "_model_module_version": "1.5.0",
            "_model_name": "ProgressStyleModel",
            "_view_count": null,
            "_view_module": "@jupyter-widgets/base",
            "_view_module_version": "1.2.0",
            "_view_name": "StyleView",
            "bar_color": null,
            "description_width": ""
          }
        },
        "ad2819dc689246268f54a9ead60ced12": {
          "model_module": "@jupyter-widgets/base",
          "model_name": "LayoutModel",
          "model_module_version": "1.2.0",
          "state": {
            "_model_module": "@jupyter-widgets/base",
            "_model_module_version": "1.2.0",
            "_model_name": "LayoutModel",
            "_view_count": null,
            "_view_module": "@jupyter-widgets/base",
            "_view_module_version": "1.2.0",
            "_view_name": "LayoutView",
            "align_content": null,
            "align_items": null,
            "align_self": null,
            "border": null,
            "bottom": null,
            "display": null,
            "flex": null,
            "flex_flow": null,
            "grid_area": null,
            "grid_auto_columns": null,
            "grid_auto_flow": null,
            "grid_auto_rows": null,
            "grid_column": null,
            "grid_gap": null,
            "grid_row": null,
            "grid_template_areas": null,
            "grid_template_columns": null,
            "grid_template_rows": null,
            "height": null,
            "justify_content": null,
            "justify_items": null,
            "left": null,
            "margin": null,
            "max_height": null,
            "max_width": null,
            "min_height": null,
            "min_width": null,
            "object_fit": null,
            "object_position": null,
            "order": null,
            "overflow": null,
            "overflow_x": null,
            "overflow_y": null,
            "padding": null,
            "right": null,
            "top": null,
            "visibility": null,
            "width": null
          }
        },
        "ccb7c1239df748ac8db393138d434ccd": {
          "model_module": "@jupyter-widgets/controls",
          "model_name": "DescriptionStyleModel",
          "model_module_version": "1.5.0",
          "state": {
            "_model_module": "@jupyter-widgets/controls",
            "_model_module_version": "1.5.0",
            "_model_name": "DescriptionStyleModel",
            "_view_count": null,
            "_view_module": "@jupyter-widgets/base",
            "_view_module_version": "1.2.0",
            "_view_name": "StyleView",
            "description_width": ""
          }
        }
      }
    }
  },
  "nbformat": 4,
  "nbformat_minor": 0
}