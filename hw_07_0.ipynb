{
  "nbformat": 4,
  "nbformat_minor": 0,
  "metadata": {
    "colab": {
      "provenance": []
    },
    "kernelspec": {
      "name": "python3",
      "display_name": "Python 3"
    },
    "language_info": {
      "name": "python"
    }
  },
  "cells": [
    {
      "cell_type": "markdown",
      "source": [
        "# HW_7.0"
      ],
      "metadata": {
        "id": "hK_7a_7QrLb2"
      }
    },
    {
      "cell_type": "code",
      "source": [
        "pip install surprise\n"
      ],
      "metadata": {
        "colab": {
          "base_uri": "https://localhost:8080/"
        },
        "id": "_ALK1WRCMeHb",
        "outputId": "bebd8b13-58fc-4a68-9d3e-36ba2f6f2b23"
      },
      "execution_count": 3,
      "outputs": [
        {
          "output_type": "stream",
          "name": "stdout",
          "text": [
            "Collecting surprise\n",
            "  Downloading surprise-0.1-py2.py3-none-any.whl (1.8 kB)\n",
            "Collecting scikit-surprise (from surprise)\n",
            "  Downloading scikit-surprise-1.1.3.tar.gz (771 kB)\n",
            "\u001b[2K     \u001b[90m━━━━━━━━━━━━━━━━━━━━━━━━━━━━━━━━━━━━━━━\u001b[0m \u001b[32m772.0/772.0 kB\u001b[0m \u001b[31m6.3 MB/s\u001b[0m eta \u001b[36m0:00:00\u001b[0m\n",
            "\u001b[?25h  Preparing metadata (setup.py) ... \u001b[?25l\u001b[?25hdone\n",
            "Requirement already satisfied: joblib>=1.0.0 in /usr/local/lib/python3.10/dist-packages (from scikit-surprise->surprise) (1.3.2)\n",
            "Requirement already satisfied: numpy>=1.17.3 in /usr/local/lib/python3.10/dist-packages (from scikit-surprise->surprise) (1.23.5)\n",
            "Requirement already satisfied: scipy>=1.3.2 in /usr/local/lib/python3.10/dist-packages (from scikit-surprise->surprise) (1.10.1)\n",
            "Building wheels for collected packages: scikit-surprise\n",
            "  Building wheel for scikit-surprise (setup.py) ... \u001b[?25l\u001b[?25hdone\n",
            "  Created wheel for scikit-surprise: filename=scikit_surprise-1.1.3-cp310-cp310-linux_x86_64.whl size=2811598 sha256=98833dc6e7c6cf26378cc9a62b996e51ca15a22db3bc51c75ff6b08ee41eb482\n",
            "  Stored in directory: /root/.cache/pip/wheels/a5/ca/a8/4e28def53797fdc4363ca4af740db15a9c2f1595ebc51fb445\n",
            "Successfully built scikit-surprise\n",
            "Installing collected packages: scikit-surprise, surprise\n",
            "Successfully installed scikit-surprise-1.1.3 surprise-0.1\n"
          ]
        }
      ]
    },
    {
      "cell_type": "code",
      "source": [
        "import pandas as pd\n",
        "import numpy as np\n",
        "from surprise import Dataset, Reader\n",
        "from surprise import SVDpp, SVD, NMF\n",
        "from surprise.model_selection import train_test_split, cross_validate, GridSearchCV\n",
        "from surprise import accuracy\n",
        "\n",
        "\n",
        "data = Dataset.load_builtin('ml-100k')\n",
        "data\n"
      ],
      "metadata": {
        "colab": {
          "base_uri": "https://localhost:8080/"
        },
        "id": "LwX__GA2Px7V",
        "outputId": "4654908f-9889-4582-ab4a-7d25f3ef9c1a"
      },
      "execution_count": 4,
      "outputs": [
        {
          "output_type": "stream",
          "name": "stdout",
          "text": [
            "Dataset ml-100k could not be found. Do you want to download it? [Y/n] y\n",
            "Trying to download dataset from https://files.grouplens.org/datasets/movielens/ml-100k.zip...\n",
            "Done! Dataset ml-100k has been saved to /root/.surprise_data/ml-100k\n"
          ]
        },
        {
          "output_type": "execute_result",
          "data": {
            "text/plain": [
              "<surprise.dataset.DatasetAutoFolds at 0x7efd8a0a7f40>"
            ]
          },
          "metadata": {},
          "execution_count": 4
        }
      ]
    },
    {
      "cell_type": "code",
      "source": [
        "# Run 5-fold cross-validation SVD and print results.\n",
        "cvd_results = cross_validate(SVD(), data, measures=['RMSE', 'MAE'], cv=5, verbose=True)\n",
        "\n",
        "print(\"Mean RMSE: {:.4f}\".format(np.mean(cvd_results['test_rmse'])))\n",
        "print(\"Mean MAE: {:.4f}\".format(np.mean(cvd_results['test_mae'])))\n",
        "print(\"Mean fit time: {:.4f}\".format(np.mean(cvd_results['fit_time'])))\n",
        "print(\"Mean test time: {:.4f}\".format(np.mean(cvd_results['test_time'])))\n"
      ],
      "metadata": {
        "colab": {
          "base_uri": "https://localhost:8080/"
        },
        "id": "li6-tCeVSwGq",
        "outputId": "affde9bf-9139-4c3c-d058-9d6798b1c829"
      },
      "execution_count": 5,
      "outputs": [
        {
          "output_type": "stream",
          "name": "stdout",
          "text": [
            "Evaluating RMSE, MAE of algorithm SVD on 5 split(s).\n",
            "\n",
            "                  Fold 1  Fold 2  Fold 3  Fold 4  Fold 5  Mean    Std     \n",
            "RMSE (testset)    0.9245  0.9369  0.9331  0.9416  0.9378  0.9348  0.0058  \n",
            "MAE (testset)     0.7314  0.7406  0.7362  0.7380  0.7386  0.7369  0.0031  \n",
            "Fit time          1.32    2.01    1.35    1.34    1.33    1.47    0.27    \n",
            "Test time         0.14    0.34    0.12    0.21    0.13    0.19    0.08    \n",
            "Mean RMSE: 0.9348\n",
            "Mean MAE: 0.7369\n",
            "Mean fit time: 1.4713\n",
            "Mean test time: 0.1868\n"
          ]
        }
      ]
    },
    {
      "cell_type": "code",
      "source": [
        "# Run 5-fold cross-validation SVDpp and print results.\n",
        "cvdpp_results = cross_validate(SVDpp(), data, measures=['RMSE', 'MAE'], cv=5, verbose=True)\n",
        "\n",
        "print(\"Mean RMSE: {:.4f}\".format(np.mean(cvdpp_results['test_rmse'])))\n",
        "print(\"Mean MAE: {:.4f}\".format(np.mean(cvdpp_results['test_mae'])))\n",
        "print(\"Mean fit time: {:.4f}\".format(np.mean(cvdpp_results['fit_time'])))\n",
        "print(\"Mean test time: {:.4f}\".format(np.mean(cvdpp_results['test_time'])))"
      ],
      "metadata": {
        "colab": {
          "base_uri": "https://localhost:8080/"
        },
        "id": "Veyr3y9lUEU2",
        "outputId": "186ea823-597b-4850-9a36-3bd087aaf9d5"
      },
      "execution_count": 6,
      "outputs": [
        {
          "output_type": "stream",
          "name": "stdout",
          "text": [
            "Evaluating RMSE, MAE of algorithm SVDpp on 5 split(s).\n",
            "\n",
            "                  Fold 1  Fold 2  Fold 3  Fold 4  Fold 5  Mean    Std     \n",
            "RMSE (testset)    0.9191  0.9218  0.9246  0.9193  0.9127  0.9195  0.0039  \n",
            "MAE (testset)     0.7214  0.7236  0.7223  0.7215  0.7160  0.7210  0.0026  \n",
            "Fit time          27.64   26.30   26.27   26.49   26.06   26.55   0.56    \n",
            "Test time         5.23    4.18    4.47    4.08    4.05    4.40    0.44    \n",
            "Mean RMSE: 0.9195\n",
            "Mean MAE: 0.7210\n",
            "Mean fit time: 26.5537\n",
            "Mean test time: 4.3991\n"
          ]
        }
      ]
    },
    {
      "cell_type": "code",
      "source": [
        "# Run 5-fold cross-validation NMF and print results.\n",
        "nmf_results = cross_validate(NMF(), data, measures=['rmse', 'mae'], cv=5, verbose=True)\n",
        "\n",
        "print(\"Mean RMSE: {:.4f}\".format(np.mean(nmf_results['test_rmse'])))\n",
        "print(\"Mean MAE: {:.4f}\".format(np.mean(nmf_results['test_mae'])))\n",
        "print(\"Mean fit time: {:.4f}\".format(np.mean(nmf_results['fit_time'])))\n",
        "print(\"Mean test time: {:.4f}\".format(np.mean(nmf_results['test_time'])))"
      ],
      "metadata": {
        "colab": {
          "base_uri": "https://localhost:8080/"
        },
        "id": "nw5z6qvVVn6V",
        "outputId": "defd789b-1b0b-4506-9118-ffa0545b7aee"
      },
      "execution_count": 7,
      "outputs": [
        {
          "output_type": "stream",
          "name": "stdout",
          "text": [
            "Evaluating RMSE, MAE of algorithm NMF on 5 split(s).\n",
            "\n",
            "                  Fold 1  Fold 2  Fold 3  Fold 4  Fold 5  Mean    Std     \n",
            "RMSE (testset)    0.9689  0.9639  0.9507  0.9653  0.9589  0.9616  0.0063  \n",
            "MAE (testset)     0.7615  0.7570  0.7485  0.7610  0.7520  0.7560  0.0051  \n",
            "Fit time          2.84    2.08    2.08    2.08    2.11    2.24    0.30    \n",
            "Test time         0.10    0.11    0.12    0.11    0.14    0.12    0.01    \n",
            "Mean RMSE: 0.9616\n",
            "Mean MAE: 0.7560\n",
            "Mean fit time: 2.2380\n",
            "Mean test time: 0.1174\n"
          ]
        }
      ]
    },
    {
      "cell_type": "code",
      "source": [
        "rmse_results = {\n",
        "    'SVD': np.mean(cvd_results['test_rmse']),\n",
        "    'SVD++': np.mean(cvdpp_results['test_rmse']),\n",
        "    'NMF': np.mean(nmf_results['test_rmse'])\n",
        "}\n",
        "\n",
        "# Визначення алгоритму з найменшим RMSE\n",
        "best_algorithm = min(rmse_results, key=rmse_results.get)\n",
        "\n",
        "print(f\"Найкращий алгоритм: {best_algorithm} з RMSE = {rmse_results[best_algorithm]:.4f}\")\n"
      ],
      "metadata": {
        "colab": {
          "base_uri": "https://localhost:8080/"
        },
        "id": "h-xwbZ-xddaT",
        "outputId": "68417c0e-5b34-424a-9928-f0e461ecd9c2"
      },
      "execution_count": 8,
      "outputs": [
        {
          "output_type": "stream",
          "name": "stdout",
          "text": [
            "Найкращий алгоритм: SVD++ з RMSE = 0.9195\n"
          ]
        }
      ]
    },
    {
      "cell_type": "code",
      "source": [
        "import matplotlib.pyplot as plt\n",
        "\n",
        "metrics = ['RMSE', 'MAE', 'Fit Time', 'Test Time']\n",
        "values_svd = [np.mean(cvd_results['test_rmse']),\n",
        "              np.mean(cvd_results['test_mae']),\n",
        "              np.mean(cvd_results['fit_time']),\n",
        "              np.mean(cvd_results['test_time'])]\n",
        "\n",
        "values_svdpp = [np.mean(cvdpp_results['test_rmse']),\n",
        "                np.mean(cvdpp_results['test_mae']),\n",
        "                np.mean(cvdpp_results['fit_time']),\n",
        "                np.mean(cvdpp_results['test_time'])]\n",
        "\n",
        "values_nmf = [np.mean(nmf_results['test_rmse']),\n",
        "              np.mean(nmf_results['test_mae']),\n",
        "              np.mean(nmf_results['fit_time']),\n",
        "              np.mean(nmf_results['test_time'])]\n",
        "\n",
        "bar_width = 0.25\n",
        "r1 = np.arange(len(values_svd))\n",
        "r2 = [x + bar_width for x in r1]\n",
        "r3 = [x + bar_width for x in r2]\n",
        "\n",
        "plt.figure(figsize=(10,7))\n",
        "plt.bar(r1, values_svd, width=bar_width, color='blue', edgecolor='grey', label='SVD')\n",
        "plt.bar(r2, values_svdpp, width=bar_width, color='red', edgecolor='grey', label='SVD++')\n",
        "plt.bar(r3, values_nmf, width=bar_width, color='green', edgecolor='grey', label='NMF')\n",
        "\n",
        "plt.title('Comparison of SVD, SVD++ and NMF', fontweight='bold')\n",
        "plt.xlabel('Metrics', fontweight='bold')\n",
        "plt.ylabel('Values', fontweight='bold')\n",
        "plt.xticks([r + bar_width for r in range(len(values_svd))], metrics)\n",
        "plt.legend()\n",
        "\n",
        "plt.tight_layout()\n",
        "plt.show()\n"
      ],
      "metadata": {
        "colab": {
          "base_uri": "https://localhost:8080/",
          "height": 707
        },
        "id": "Uk4w4yTvtiM1",
        "outputId": "3cc4e135-866a-4e26-ad10-52ea17f17166"
      },
      "execution_count": 9,
      "outputs": [
        {
          "output_type": "display_data",
          "data": {
            "text/plain": [
              "<Figure size 1000x700 with 1 Axes>"
            ],
            "image/png": "[encoded data removed]"
          },
          "metadata": {}
        }
      ]
    },
    {
      "cell_type": "markdown",
      "source": [
        "SVD++ маює найнижчі значення RMSE та MAE, але він найбільш витратний по часу виконання."
      ],
      "metadata": {
        "id": "Ut-8zngOrEwH"
      }
    }
  ]
}
