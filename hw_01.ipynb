{
  "cells": [
    {
      "cell_type": "code",
      "execution_count": 7,
      "metadata": {
        "id": "vzoDlIiMyCCC"
      },
      "outputs": [],
      "source": [
        "import numpy as np\n",
        "\n"
      ]
    },
    {
      "cell_type": "markdown",
      "metadata": {
        "id": "mZXGHkNLz-tx"
      },
      "source": [
        "1. Створіть одновимірний масив (вектор) з першими 10-ма натуральними числами та виведіть його значення."
      ]
    },
    {
      "cell_type": "code",
      "execution_count": 10,
      "metadata": {
        "colab": {
          "base_uri": "https://localhost:8080/"
        },
        "id": "r2jQxCSc0Ca-",
        "outputId": "ddaf9a16-0b86-4d50-8667-9e9a359b3951"
      },
      "outputs": [
        {
          "output_type": "stream",
          "name": "stdout",
          "text": [
            "[ 1  2  3  4  5  6  7  8  9 10]\n"
          ]
        }
      ],
      "source": [
        "vector = np.array([i for i in range(1, 11)])\n",
        "\n",
        "print(vector)"
      ]
    },
    {
      "cell_type": "markdown",
      "metadata": {
        "id": "Ty88LM4-0_-t"
      },
      "source": [
        "2. Створіть двовимірний масив (матрицю) розміром 3x3, заповніть його нулями та виведіть його значення."
      ]
    },
    {
      "cell_type": "code",
      "execution_count": null,
      "metadata": {
        "colab": {
          "base_uri": "https://localhost:8080/"
        },
        "id": "vxUS5usi1PgW",
        "outputId": "f9a37c98-9a84-416b-ee38-2c0202e6b845"
      },
      "outputs": [
        {
          "name": "stdout",
          "output_type": "stream",
          "text": [
            "[[0 0 0]\n",
            " [0 0 0]\n",
            " [0 0 0]]\n"
          ]
        }
      ],
      "source": [
        "mtx = np.zeros((3, 3), dtype=int)\n",
        "\n",
        "print(mtx)"
      ]
    },
    {
      "cell_type": "markdown",
      "metadata": {
        "id": "Tck9HoLa1TW1"
      },
      "source": [
        "3. Створіть масив розміром 5x5, заповніть його випадковими цілими числами в діапазоні від 1 до 10 та виведіть його значення."
      ]
    },
    {
      "cell_type": "code",
      "execution_count": 9,
      "metadata": {
        "colab": {
          "base_uri": "https://localhost:8080/"
        },
        "id": "SQtOgo0i1aWd",
        "outputId": "ab0f67ab-c093-46f3-dfa5-20aa31fa19a8"
      },
      "outputs": [
        {
          "output_type": "stream",
          "name": "stdout",
          "text": [
            "[[8 4 6 1 5]\n",
            " [3 5 6 4 4]\n",
            " [7 9 4 7 2]\n",
            " [3 9 7 5 6]\n",
            " [4 2 2 9 6]]\n"
          ]
        }
      ],
      "source": [
        "mtx = np.random.randint(1, 10 , (5 , 5))\n",
        "\n",
        "print(mtx)"
      ]
    },
    {
      "cell_type": "markdown",
      "metadata": {
        "id": "i5QFqIfX1fAa"
      },
      "source": [
        "4.Створіть масив розміром 4x4, заповніть його випадковими дійсними числами в діапазоні від 0 до 1 та виведіть його значення."
      ]
    },
    {
      "cell_type": "code",
      "execution_count": null,
      "metadata": {
        "colab": {
          "base_uri": "https://localhost:8080/"
        },
        "id": "A3-BZ5oz1q2h",
        "outputId": "44bc653a-2217-46ef-f219-9ad2d1974939"
      },
      "outputs": [
        {
          "name": "stdout",
          "output_type": "stream",
          "text": [
            "[[0.65463178 0.08033825 0.12460911 0.67890803]\n",
            " [0.58531938 0.48774071 0.71304493 0.3834277 ]\n",
            " [0.60336944 0.92864385 0.56972056 0.43110292]\n",
            " [0.2467185  0.06716777 0.64487004 0.34632342]]\n"
          ]
        }
      ],
      "source": [
        "mtx = np.random.rand(4, 4)\n",
        "\n",
        "print(mtx)"
      ]
    },
    {
      "cell_type": "markdown",
      "metadata": {
        "id": "ZIup4cpc1uEQ"
      },
      "source": [
        "5.Створіть два одновимірних масиви розміром 5, заповніть їх випадковими цілими числами в діапазоні від 1 до 10 та виконайте на них поелементні операції додавання, віднімання та множення."
      ]
    },
    {
      "cell_type": "code",
      "execution_count": null,
      "metadata": {
        "colab": {
          "base_uri": "https://localhost:8080/"
        },
        "id": "Kpukr2Yq1x8F",
        "outputId": "8b4bfcb6-5fb1-4267-c989-620e8ae7dcc1"
      },
      "outputs": [
        {
          "name": "stdout",
          "output_type": "stream",
          "text": [
            "a: [1 4 1 3 1]\n",
            "b: [2 7 2 7 9]\n",
            "\n",
            "a + b = [ 3 11  3 10 10]\n",
            "a - b = [-1 -3 -1 -4 -8]\n",
            "a * b = [ 2 28  2 21  9]\n"
          ]
        }
      ],
      "source": [
        "a = np.random.randint(1, 10, (5))\n",
        "b = np.random.randint(1, 10, (5))\n",
        "\n",
        "print(f'a: {a}')\n",
        "print(f'b: {b}')\n",
        "print()\n",
        "print(f'a + b = {a + b}')\n",
        "print(f'a - b = {a - b}')\n",
        "print(f'a * b = {a * b}')"
      ]
    },
    {
      "cell_type": "markdown",
      "metadata": {
        "id": "Zoa53o9v1znp"
      },
      "source": [
        "6.Створіть два вектори розміром 7, заповніть довільними числами та знайдіть їх скалярний добуток."
      ]
    },
    {
      "cell_type": "code",
      "execution_count": null,
      "metadata": {
        "colab": {
          "base_uri": "https://localhost:8080/"
        },
        "id": "iQrpdbGA12xc",
        "outputId": "a7e744ac-b8de-4f10-8329-21f66b5447ff"
      },
      "outputs": [
        {
          "name": "stdout",
          "output_type": "stream",
          "text": [
            "a: [1 7 1 6 4]\n",
            "b: [5 6 7 8 9]\n",
            "\n",
            "скалярний добуток = 138\n"
          ]
        }
      ],
      "source": [
        "a = np.random.randint(1, 10, (5))\n",
        "b = np.random.randint(1, 10, (5))\n",
        "\n",
        "print(f'a: {a}')\n",
        "print(f'b: {b}')\n",
        "print()\n",
        "print(f'скалярний добуток = {np.dot(a, b)}')"
      ]
    },
    {
      "cell_type": "markdown",
      "metadata": {
        "id": "okAOpwU514ZX"
      },
      "source": [
        "7.Створіть дві матриці розміром 2x2 та 2x3, заповніть їх випадковими цілими числами в діапазоні від 1 до 10 та перемножте їх між собою."
      ]
    },
    {
      "cell_type": "code",
      "execution_count": null,
      "metadata": {
        "colab": {
          "base_uri": "https://localhost:8080/"
        },
        "id": "_JA9X8_B18JN",
        "outputId": "c6fb5225-b6c9-4467-f2f7-615e1d1871c6"
      },
      "outputs": [
        {
          "name": "stdout",
          "output_type": "stream",
          "text": [
            "mtx1:\n",
            "[[5 7]\n",
            " [4 2]]\n",
            "\n",
            "mtx2:\n",
            "[[4 7 6]\n",
            " [8 4 2]]\n",
            "\n",
            "Перемноження матриць:\n",
            "[[76 63 44]\n",
            " [32 36 28]]\n"
          ]
        }
      ],
      "source": [
        "mtx1 = np.random.randint(1, 10, (2, 2))\n",
        "mtx2 = np.random.randint(1, 10, (2, 3))\n",
        "\n",
        "print(f'mtx1:\\n{mtx1}')\n",
        "print()\n",
        "print(f'mtx2:\\n{mtx2}')\n",
        "print()\n",
        "print(f'Перемноження матриць:\\n{np.dot(mtx1, mtx2)}')"
      ]
    },
    {
      "cell_type": "markdown",
      "metadata": {
        "id": "U0PPM-8U19b8"
      },
      "source": [
        "8.Створіть матрицю розміром 3x3, заповніть її випадковими цілими числами в діапазоні від 1 до 10 та знайдіть її обернену матрицю."
      ]
    },
    {
      "cell_type": "code",
      "execution_count": null,
      "metadata": {
        "colab": {
          "base_uri": "https://localhost:8080/"
        },
        "id": "JtJieHw-2Aoo",
        "outputId": "b14b0485-31b1-46ff-84a2-13a770883175"
      },
      "outputs": [
        {
          "name": "stdout",
          "output_type": "stream",
          "text": [
            "mtx :\n",
            "[[5 8 6]\n",
            " [5 9 5]\n",
            " [2 7 4]]\n",
            "\n",
            "Обернена mtx :\n",
            "[[ 0.03703704  0.37037037 -0.51851852]\n",
            " [-0.37037037  0.2962963   0.18518519]\n",
            " [ 0.62962963 -0.7037037   0.18518519]]\n"
          ]
        }
      ],
      "source": [
        "mtx = np.random.randint(1, 10, (3, 3))\n",
        "\n",
        "print(f'mtx:\\n{mtx}')\n",
        "print()\n",
        "print(f'Обернена mtx:\\n{np.linalg.inv(mtx)}')"
      ]
    },
    {
      "cell_type": "markdown",
      "metadata": {
        "id": "Bncpco9c2CQ9"
      },
      "source": [
        "9.Створіть матрицю розміром 4x4, заповніть її випадковими дійсними числами в діапазоні від 0 до 1 та транспонуйте її."
      ]
    },
    {
      "cell_type": "code",
      "execution_count": 132,
      "metadata": {
        "colab": {
          "base_uri": "https://localhost:8080/"
        },
        "id": "3IWUUl9f2E66",
        "outputId": "1cb70619-24c4-4d5c-a8d6-0e5cf48bab52"
      },
      "outputs": [
        {
          "output_type": "stream",
          "name": "stdout",
          "text": [
            "mtx:\n",
            "[[0.83463248 0.63756189 0.51999813 0.7585856 ]\n",
            " [0.02375429 0.69879481 0.85068165 0.64986943]\n",
            " [0.98344986 0.43224439 0.82464578 0.45675433]\n",
            " [0.63158713 0.79744981 0.11134297 0.99760651]]\n",
            "\n",
            "Транспонтована mtx:\n",
            "[[0.83463248 0.02375429 0.98344986 0.63158713]\n",
            " [0.63756189 0.69879481 0.43224439 0.79744981]\n",
            " [0.51999813 0.85068165 0.82464578 0.11134297]\n",
            " [0.7585856  0.64986943 0.45675433 0.99760651]]\n"
          ]
        }
      ],
      "source": [
        "mtx = np.random.random((4, 4))\n",
        "\n",
        "print(f'mtx:\\n{mtx}')\n",
        "print()\n",
        "print(f'Транспонтована mtx:\\n{mtx.T}')"
      ]
    },
    {
      "cell_type": "markdown",
      "metadata": {
        "id": "VNUNAQ3_2GZ5"
      },
      "source": [
        "10.Створіть матрицю розміром 3x4 та вектор розміром 4, заповніть їх випадковими цілими числами в діапазоні від 1 до 10 та перемножте матрицю на вектор."
      ]
    },
    {
      "cell_type": "code",
      "execution_count": null,
      "metadata": {
        "colab": {
          "base_uri": "https://localhost:8080/"
        },
        "id": "PBz1LFAw2JHu",
        "outputId": "b1d69c1a-7ae6-4bf3-8b07-4428c20aedb3"
      },
      "outputs": [
        {
          "name": "stdout",
          "output_type": "stream",
          "text": [
            "mtx :\n",
            "[[4 9 1 6]\n",
            " [7 1 9 9]\n",
            " [9 6 9 9]]\n",
            "mtx :\n",
            "[2 3 3 6]\n",
            "\n",
            "Перемноження mtx * vect :\n",
            "[[ 8 27  3 36]\n",
            " [14  3 27 54]\n",
            " [18 18 27 54]]\n"
          ]
        }
      ],
      "source": [
        "mtx = np.random.randint(1, 10, size=(3, 4))\n",
        "vect = np.random.randint(1, 10, (4))\n",
        "\n",
        "print(f'mtx:\\n{mtx}')\n",
        "print(f'vect:\\n{vect}')\n",
        "print()\n",
        "print(f'Перемноження mtx * vect:\\n{mtx * vect}')"
      ]
    },
    {
      "cell_type": "markdown",
      "metadata": {
        "id": "ZDlMp5MT2KOW"
      },
      "source": [
        "11.Створіть матрицю розміром 2x3 та вектор розміром 3, заповніть їх випадковими дійсними числами в діапазоні від 0 до 1 та перемножте матрицю на вектор."
      ]
    },
    {
      "cell_type": "code",
      "execution_count": 133,
      "metadata": {
        "colab": {
          "base_uri": "https://localhost:8080/"
        },
        "id": "d8IGXvy92NFl",
        "outputId": "fe219567-3aaa-44ab-d8da-0e4073fe603c"
      },
      "outputs": [
        {
          "output_type": "stream",
          "name": "stdout",
          "text": [
            "mtx:\n",
            "[[0.49210244 0.98887322 0.13896894 0.36431997]\n",
            " [0.04082472 0.74733696 0.78208614 0.78534342]\n",
            " [0.11618321 0.56580518 0.78741417 0.48955448]]\n",
            "vect:\n",
            "[0.69698983 0.56993827 0.1895019  0.84244979]\n",
            "\n",
            "Перемноження mtx * vect:\n",
            "[[0.3429904  0.56359669 0.02633488 0.30692128]\n",
            " [0.02845442 0.42593593 0.14820681 0.6616124 ]\n",
            " [0.08097852 0.32247403 0.14921648 0.41242507]]\n"
          ]
        }
      ],
      "source": [
        "mtx = np.random.random((3, 4))\n",
        "vect = np.random.random((4))\n",
        "\n",
        "print(f'mtx:\\n{mtx}')\n",
        "print(f'vect:\\n{vect}')\n",
        "print()\n",
        "print(f'Перемноження mtx * vect:\\n{mtx * vect}')"
      ]
    },
    {
      "cell_type": "markdown",
      "metadata": {
        "id": "RwfPR2mT2OIx"
      },
      "source": [
        "12.Створіть дві матриці розміром 2x2, заповніть їх випадковими цілими числами в діапазоні від 1 до 10 та виконайте їхнє поелементне множення."
      ]
    },
    {
      "cell_type": "code",
      "execution_count": null,
      "metadata": {
        "colab": {
          "base_uri": "https://localhost:8080/"
        },
        "id": "X98Rw44h2Ra6",
        "outputId": "27fd2af8-4a36-4200-cde7-0c4446bc6260"
      },
      "outputs": [
        {
          "name": "stdout",
          "output_type": "stream",
          "text": [
            "mtx :\n",
            "[[7 5]\n",
            " [2 9]]\n",
            "mtx :\n",
            "[[7 3]\n",
            " [6 5]]\n",
            "\n",
            "Перемноження mtx * vect :\n",
            "[[49 15]\n",
            " [12 45]]\n"
          ]
        }
      ],
      "source": [
        "mtx1 = np.random.randint(1, 10, (2, 2))\n",
        "mtx2 = np.random.randint(1, 10, (2, 2))\n",
        "\n",
        "print(f'mtx1:\\n{mtx1}')\n",
        "print(f'mtx2:\\n{mtx2}')\n",
        "print()\n",
        "print(f'Перемноження mtx1 * mtx2:\\n{mtx1 * mtx2}')"
      ]
    },
    {
      "cell_type": "markdown",
      "metadata": {
        "id": "wVSNC20t2TIz"
      },
      "source": [
        "13.Створіть дві матриці розміром 2x2, заповніть їх випадковими цілими числами в діапазоні від 1 до 10 та знайдіть їх добуток."
      ]
    },
    {
      "cell_type": "code",
      "execution_count": null,
      "metadata": {
        "colab": {
          "base_uri": "https://localhost:8080/"
        },
        "id": "sMiM2xcL2Wls",
        "outputId": "2b126a43-957f-4fff-b12a-72ed471be888"
      },
      "outputs": [
        {
          "name": "stdout",
          "output_type": "stream",
          "text": [
            "mtx1 :\n",
            "[[3 9]\n",
            " [3 2]]\n",
            "mtx2 :\n",
            "[[7 6]\n",
            " [4 1]]\n",
            "\n",
            "Добуток :\n",
            "[[57 27]\n",
            " [29 20]]\n"
          ]
        }
      ],
      "source": [
        "mtx1 = np.random.randint(1, 10, (2, 2))\n",
        "mtx2 = np.random.randint(1, 10, (2, 2))\n",
        "\n",
        "print(f'mtx1:\\n{mtx1}')\n",
        "print(f'mtx2:\\n{mtx2}')\n",
        "print()\n",
        "print(f'Добуток:\\n{np.dot(mtx1, mtx2)}')"
      ]
    },
    {
      "cell_type": "markdown",
      "metadata": {
        "id": "gH0CALrI2YnE"
      },
      "source": [
        "14.Створіть матрицю розміром 5x5, заповніть її випадковими цілими числами в діапазоні від 1 до 100 та знайдіть суму елементів матриці."
      ]
    },
    {
      "cell_type": "code",
      "execution_count": null,
      "metadata": {
        "colab": {
          "base_uri": "https://localhost:8080/"
        },
        "id": "_TNLPnKy2bJY",
        "outputId": "ce8b1f15-4e1b-4667-a1ff-3aa7664c47b5"
      },
      "outputs": [
        {
          "name": "stdout",
          "output_type": "stream",
          "text": [
            "mtx :\n",
            "[[49 60 74 91 85]\n",
            " [43 57 20  4 82]\n",
            " [83 80 16 13 67]\n",
            " [22 25 38  7 61]\n",
            " [95 47 70 73 73]]\n",
            "\n",
            "Сума mtx :\n",
            "1335\n"
          ]
        }
      ],
      "source": [
        "mtx = np.random.randint(1, 100, (5, 5))\n",
        "\n",
        "print(f'mtx:\\n{mtx}')\n",
        "print()\n",
        "print(f'Сума mtx:\\n{np.sum(mtx)}')"
      ]
    },
    {
      "cell_type": "markdown",
      "metadata": {
        "id": "7BKPtvs02cVh"
      },
      "source": [
        "15.Створіть дві матриці розміром 4x4, заповніть їх випадковими цілими числами в діапазоні від 1 до 10 та знайдіть їхню різницю."
      ]
    },
    {
      "cell_type": "code",
      "execution_count": null,
      "metadata": {
        "colab": {
          "base_uri": "https://localhost:8080/"
        },
        "id": "s5miRAGn2fQ-",
        "outputId": "12b4c1a0-1a48-4898-a6ea-db17bf9cac29"
      },
      "outputs": [
        {
          "name": "stdout",
          "output_type": "stream",
          "text": [
            "mtx1 :\n",
            "[[5 2 6 5]\n",
            " [3 2 2 1]\n",
            " [1 4 4 6]\n",
            " [8 2 3 2]]\n",
            "mtx2 :\n",
            "[[6 4 6 3]\n",
            " [3 1 1 7]\n",
            " [5 7 8 7]\n",
            " [4 8 1 5]]\n",
            "\n",
            "Різниця :\n",
            "[[-1 -2  0  2]\n",
            " [ 0  1  1 -6]\n",
            " [-4 -3 -4 -1]\n",
            " [ 4 -6  2 -3]]\n"
          ]
        }
      ],
      "source": [
        "mtx1 = np.random.randint(1, 10, (4, 4))\n",
        "mtx2 = np.random.randint(1, 10, (4, 4))\n",
        "\n",
        "print(f'mtx1:\\n{mtx1}')\n",
        "print(f'mtx2:\\n{mtx2}')\n",
        "print()\n",
        "print(f'Різниця:\\n{np.subtract(mtx1, mtx2)}')"
      ]
    },
    {
      "cell_type": "markdown",
      "metadata": {
        "id": "JUXR_7hS2geb"
      },
      "source": [
        "16.Створіть матрицю розміром 3x3, заповніть її випадковими дійсними числами в діапазоні від 0 до 1 та знайдіть вектор-стовпчик, що містить суму елементів кожного рядка матриці."
      ]
    },
    {
      "cell_type": "code",
      "execution_count": 131,
      "metadata": {
        "colab": {
          "base_uri": "https://localhost:8080/"
        },
        "id": "h8CbxbsH2kzZ",
        "outputId": "13ea42f1-d34c-4213-c0f6-fd9b97bac1b9"
      },
      "outputs": [
        {
          "output_type": "stream",
          "name": "stdout",
          "text": [
            "mtx:\n",
            "[[0.59560146 0.066064   0.98232357]\n",
            " [0.23228133 0.76142632 0.47439767]\n",
            " [0.51057205 0.44816616 0.03489115]]\n",
            "\n",
            "mtx:\n",
            "[1.64398903 1.46810533 0.99362936]\n"
          ]
        }
      ],
      "source": [
        "mtx = np.random.random((3, 3))\n",
        "\n",
        "print(f'mtx:\\n{mtx}')\n",
        "print()\n",
        "print(f'mtx:\\n{np.sum(mtx, axis=1)}')"
      ]
    },
    {
      "cell_type": "markdown",
      "metadata": {
        "id": "UCiiU_6w2mdU"
      },
      "source": [
        "17.Створіть матрицю розміром 3x4 з довільними цілими числами і створінь матрицю з квадратами цих чисел."
      ]
    },
    {
      "cell_type": "code",
      "execution_count": 120,
      "metadata": {
        "id": "Hk0CFKr82pm-",
        "colab": {
          "base_uri": "https://localhost:8080/"
        },
        "outputId": "7052e5b6-2728-4c36-b8f9-61637c5c4249"
      },
      "outputs": [
        {
          "output_type": "stream",
          "name": "stdout",
          "text": [
            "mtx :\n",
            "[[20 88 41 37]\n",
            " [70 84 34 26]\n",
            " [21 52 37 66]]\n",
            "\n",
            "mtx_square :\n",
            "[[ 400 7744 1681 1369]\n",
            " [4900 7056 1156  676]\n",
            " [ 441 2704 1369 4356]]\n"
          ]
        }
      ],
      "source": [
        "mtx = np.random.randint(1, 100, (3, 4))\n",
        "\n",
        "print(f'mtx:\\n{mtx}')\n",
        "print()\n",
        "print(f'mtx_square:\\n{np.square(mtx)}')\n"
      ]
    },
    {
      "cell_type": "markdown",
      "metadata": {
        "id": "TjqxS8aU2qmC"
      },
      "source": [
        "18.Створіть вектор розміром 4, заповніть його випадковими цілими числами в діапазоні від 1 до 50 та знайдіть вектор з квадратними коренями цих чисел."
      ]
    },
    {
      "cell_type": "code",
      "execution_count": 122,
      "metadata": {
        "id": "ZVAce2ea2uId",
        "colab": {
          "base_uri": "https://localhost:8080/"
        },
        "outputId": "d6e34e46-8c1a-4b95-f612-504d0efecc9e"
      },
      "outputs": [
        {
          "output_type": "stream",
          "name": "stdout",
          "text": [
            "vect:\n",
            "[33 13 13 36]\n",
            "\n",
            "vect sqrt:\n",
            "[5.74456265 3.60555128 3.60555128 6.        ]\n"
          ]
        }
      ],
      "source": [
        "vect = np.random.randint(1, 50, (4))\n",
        "\n",
        "print(f'vect:\\n{vect}')\n",
        "print()\n",
        "print(f'vect sqrt:\\n{np.sqrt(vect)}')\n"
      ]
    }
  ],
  "metadata": {
    "colab": {
      "provenance": []
    },
    "kernelspec": {
      "display_name": "Python 3",
      "name": "python3"
    },
    "language_info": {
      "name": "python"
    }
  },
  "nbformat": 4,
  "nbformat_minor": 0
}