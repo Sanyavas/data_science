{
  "cells": [
    {
      "cell_type": "markdown",
      "source": [
        "# **Елементи Лінійної Алгебри**\n",
        "\n",
        "Основні поняття в лінійній алгебрі включають в себе вектори, матриці, лінійні перетворення, векторні простори, лінійні системи рівнянь, власні значення та вектори, діагоналізацію матриць та багато іншого."
      ],
      "metadata": {
        "id": "3b22kmybu2kq"
      }
    },
    {
      "cell_type": "markdown",
      "source": [
        "### **Встановлення бібліотеки numpy**"
      ],
      "metadata": {
        "id": "9Hftp2cavPvx"
      }
    },
    {
      "cell_type": "code",
      "source": [
        "# Install numpy using pip (usually not necessary in Google Colab, as numpy comes pre-installed) with the specific version 1.24.2\n",
        "!pip install numpy==1.24.2"
      ],
      "metadata": {
        "id": "V1xi1ZGgjgaq",
        "colab": {
          "base_uri": "https://localhost:8080/",
          "height": 363
        },
        "outputId": "4b4e755f-f5e0-4345-a9eb-c61125cb59c4"
      },
      "execution_count": 1,
      "outputs": [
        {
          "output_type": "stream",
          "name": "stdout",
          "text": [
            "Looking in indexes: https://pypi.org/simple, https://us-python.pkg.dev/colab-wheels/public/simple/\n",
            "Collecting numpy==1.24.2\n",
            "  Downloading numpy-1.24.2-cp310-cp310-manylinux_2_17_x86_64.manylinux2014_x86_64.whl (17.3 MB)\n",
            "\u001b[2K     \u001b[90m━━━━━━━━━━━━━━━━━━━━━━━━━━━━━━━━━━━━━━━━\u001b[0m \u001b[32m17.3/17.3 MB\u001b[0m \u001b[31m73.1 MB/s\u001b[0m eta \u001b[36m0:00:00\u001b[0m\n",
            "\u001b[?25hInstalling collected packages: numpy\n",
            "  Attempting uninstall: numpy\n",
            "    Found existing installation: numpy 1.22.4\n",
            "    Uninstalling numpy-1.22.4:\n",
            "      Successfully uninstalled numpy-1.22.4\n",
            "\u001b[31mERROR: pip's dependency resolver does not currently take into account all the packages that are installed. This behaviour is the source of the following dependency conflicts.\n",
            "numba 0.56.4 requires numpy<1.24,>=1.18, but you have numpy 1.24.2 which is incompatible.\n",
            "tensorflow 2.12.0 requires numpy<1.24,>=1.22, but you have numpy 1.24.2 which is incompatible.\u001b[0m\u001b[31m\n",
            "\u001b[0mSuccessfully installed numpy-1.24.2\n"
          ]
        },
        {
          "output_type": "display_data",
          "data": {
            "application/vnd.colab-display-data+json": {
              "pip_warning": {
                "packages": [
                  "numpy"
                ]
              }
            }
          },
          "metadata": {}
        }
      ]
    },
    {
      "cell_type": "code",
      "source": [
        "# Reinstall numpy using pip with the latest version\n",
        "!pip install numpy --upgrade"
      ],
      "metadata": {
        "id": "tpmw3tdV1fS1",
        "colab": {
          "base_uri": "https://localhost:8080/",
          "height": 381
        },
        "outputId": "14a1e32b-7fb3-4314-aed3-d76a1edf1154"
      },
      "execution_count": 1,
      "outputs": [
        {
          "output_type": "stream",
          "name": "stdout",
          "text": [
            "Looking in indexes: https://pypi.org/simple, https://us-python.pkg.dev/colab-wheels/public/simple/\n",
            "Requirement already satisfied: numpy in /usr/local/lib/python3.10/dist-packages (1.24.2)\n",
            "Collecting numpy\n",
            "  Downloading numpy-1.25.0-cp310-cp310-manylinux_2_17_x86_64.manylinux2014_x86_64.whl (17.6 MB)\n",
            "\u001b[2K     \u001b[90m━━━━━━━━━━━━━━━━━━━━━━━━━━━━━━━━━━━━━━━━\u001b[0m \u001b[32m17.6/17.6 MB\u001b[0m \u001b[31m46.2 MB/s\u001b[0m eta \u001b[36m0:00:00\u001b[0m\n",
            "\u001b[?25hInstalling collected packages: numpy\n",
            "  Attempting uninstall: numpy\n",
            "    Found existing installation: numpy 1.24.2\n",
            "    Uninstalling numpy-1.24.2:\n",
            "      Successfully uninstalled numpy-1.24.2\n",
            "\u001b[31mERROR: pip's dependency resolver does not currently take into account all the packages that are installed. This behaviour is the source of the following dependency conflicts.\n",
            "numba 0.56.4 requires numpy<1.24,>=1.18, but you have numpy 1.25.0 which is incompatible.\n",
            "tensorflow 2.12.0 requires numpy<1.24,>=1.22, but you have numpy 1.25.0 which is incompatible.\u001b[0m\u001b[31m\n",
            "\u001b[0mSuccessfully installed numpy-1.25.0\n"
          ]
        },
        {
          "output_type": "display_data",
          "data": {
            "application/vnd.colab-display-data+json": {
              "pip_warning": {
                "packages": [
                  "numpy"
                ]
              }
            }
          },
          "metadata": {}
        }
      ]
    },
    {
      "cell_type": "code",
      "source": [
        "# Import numpy as np\n",
        "import numpy as np\n",
        "np.__version__"
      ],
      "metadata": {
        "id": "SahxkU0ujgOs",
        "colab": {
          "base_uri": "https://localhost:8080/",
          "height": 36
        },
        "outputId": "3863673a-ad71-4e9c-8eb8-45c5dc05ce0f"
      },
      "execution_count": 2,
      "outputs": [
        {
          "output_type": "execute_result",
          "data": {
            "text/plain": [
              "'1.25.0'"
            ],
            "application/vnd.google.colaboratory.intrinsic+json": {
              "type": "string"
            }
          },
          "metadata": {},
          "execution_count": 2
        }
      ]
    },
    {
      "cell_type": "code",
      "source": [
        "!pip show numpy"
      ],
      "metadata": {
        "colab": {
          "base_uri": "https://localhost:8080/"
        },
        "id": "QoI4VVI60wmn",
        "outputId": "7e0272fb-cd87-43c4-ec14-ad98a01d9dfc"
      },
      "execution_count": 3,
      "outputs": [
        {
          "output_type": "stream",
          "name": "stdout",
          "text": [
            "Name: numpy\n",
            "Version: 1.25.0\n",
            "Summary: Fundamental package for array computing in Python\n",
            "Home-page: https://www.numpy.org\n",
            "Author: Travis E. Oliphant et al.\n",
            "Author-email: \n",
            "License: BSD-3-Clause\n",
            "Location: /usr/local/lib/python3.10/dist-packages\n",
            "Requires: \n",
            "Required-by: albumentations, altair, arviz, astropy, autograd, blis, bokeh, chex, cmdstanpy, contourpy, cufflinks, cvxpy, datascience, db-dtypes, dopamine-rl, ecos, flax, folium, gensim, gym, h5py, holoviews, hyperopt, imageio, imbalanced-learn, imgaug, jax, jaxlib, librosa, lightgbm, matplotlib, matplotlib-venn, missingno, mizani, ml-dtypes, mlxtend, moviepy, music21, nibabel, numba, numexpr, opencv-contrib-python, opencv-python, opencv-python-headless, opt-einsum, optax, orbax-checkpoint, osqp, pandas, pandas-gbq, patsy, plotnine, prophet, pyarrow, pycocotools, pyerfa, pymc, pytensor, python-louvain, PyWavelets, qdldl, qudida, scikit-image, scikit-learn, scipy, scs, seaborn, shapely, sklearn-pandas, soxr, spacy, statsmodels, tables, tensorboard, tensorflow, tensorflow-datasets, tensorflow-hub, tensorflow-probability, tensorstore, thinc, tifffile, torchtext, torchvision, wordcloud, xarray, xarray-einstats, xgboost, yellowbrick, yfinance\n"
          ]
        }
      ]
    },
    {
      "cell_type": "markdown",
      "source": [
        "## **Вектори**\n",
        "\n",
        "Будь-яку точку нашої координатної площини можна представити у вигляді вектора, який будемо записувати у вигляді стовця **v** = \\begin{bmatrix} x \\\\ y \\\\ \\end{bmatrix}\n",
        "\n"
      ],
      "metadata": {
        "id": "J6z9YkyswGf_"
      }
    },
    {
      "cell_type": "markdown",
      "source": [
        "Тобто, **вектор-стовпець** можемо представити таким чином:\n",
        "**x** = \\begin{bmatrix} 4 \\\\ 5 \\\\ 2 \\\\ 4 \\\\ 6 \\\\ \\end{bmatrix}\n",
        "\n",
        "де **x** - це вектор, що містить 5 елементів 4, 5, 2, 4, 6 і належить лінійному простору R<sup>5</sup>.\n",
        "\n",
        "\n",
        "\n"
      ],
      "metadata": {
        "id": "YpdA0I6mywrB"
      }
    },
    {
      "cell_type": "markdown",
      "source": [
        "А **вектор-рядок** часто позначають так:\n",
        "**x** = \\begin{bmatrix} 4 \\ 5 \\ 2 \\ 4 \\ 6 \\ \\end{bmatrix}\n",
        "де **x** — це вектор-рядок, що також містить п'ять елементів 4, 5, 2, 4, 6,проте належить лінійному простору R<sup>1x5</sup>"
      ],
      "metadata": {
        "id": "-v-3d3ksyzRv"
      }
    },
    {
      "cell_type": "markdown",
      "source": [
        "**Основні операції, котрі ми можемо робити з векторами**:\n",
        "\n",
        "* додавання/віднімання скаляра та вектора\n",
        "* множити вектор на скаляр (число)\n",
        "* додавати два вектори\n",
        "* віднімати два вектори\n",
        "* шукати скалярний добуток двох векторів"
      ],
      "metadata": {
        "id": "S7d6h2lkykpy"
      }
    },
    {
      "cell_type": "markdown",
      "source": [
        "### **Створення масивів та матриць в `numpy`**"
      ],
      "metadata": {
        "id": "IhoPYEkMzKr_"
      }
    },
    {
      "cell_type": "code",
      "source": [
        "help(np.array)"
      ],
      "metadata": {
        "id": "OVr_eKY41zNP"
      },
      "execution_count": null,
      "outputs": []
    },
    {
      "cell_type": "code",
      "source": [
        "# create a np.array vector with 5 elements from 1 to 5 with dtype=float\n",
        "a = np.array(object=[1,2,3,4,5], dtype=float)\n",
        "\n",
        "# print the vector\n",
        "print(a)\n",
        "\n",
        "a"
      ],
      "metadata": {
        "id": "byGVHbtGzN2I",
        "colab": {
          "base_uri": "https://localhost:8080/"
        },
        "outputId": "4a18cd21-18cc-450d-c828-5b43b1c3f4ce"
      },
      "execution_count": 6,
      "outputs": [
        {
          "output_type": "stream",
          "name": "stdout",
          "text": [
            "[1. 2. 3. 4. 5.]\n"
          ]
        },
        {
          "output_type": "execute_result",
          "data": {
            "text/plain": [
              "array([1., 2., 3., 4., 5.])"
            ]
          },
          "metadata": {},
          "execution_count": 6
        }
      ]
    },
    {
      "cell_type": "markdown",
      "source": [
        "### **Додавання/віднімання скаляра та вектора**"
      ],
      "metadata": {
        "id": "UjVHO9XBy9w3"
      }
    },
    {
      "cell_type": "code",
      "source": [
        "# create a np.array vector with 5 elements from 1 to 5 with dtype=float\n",
        "a = np.array(object=[1,2,3,4,5], dtype=float)\n",
        "\n",
        "# print the vector\n",
        "print(a)\n"
      ],
      "metadata": {
        "id": "6EXaw79ljijN",
        "colab": {
          "base_uri": "https://localhost:8080/"
        },
        "outputId": "f78cd2ed-ea2f-423a-8045-082b2edc288d"
      },
      "execution_count": 7,
      "outputs": [
        {
          "output_type": "stream",
          "name": "stdout",
          "text": [
            "[1. 2. 3. 4. 5.]\n"
          ]
        }
      ]
    },
    {
      "cell_type": "code",
      "source": [
        "# add a constant to a vector and print it\n",
        "print(a + 1)\n",
        "\n",
        "# subtract a constant from a vector and print it\n",
        "print(a - 1)\n",
        "\n",
        "# do the same but with constant vectors\n",
        "print(a + np.array([1,1,1,1,1]))\n",
        "print(a - np.array([1,1,1,1,1]))\n",
        "\n"
      ],
      "metadata": {
        "id": "jxOLPgEcy1zi",
        "colab": {
          "base_uri": "https://localhost:8080/"
        },
        "outputId": "8fb05336-946a-43a6-c047-a90952226a2d"
      },
      "execution_count": 14,
      "outputs": [
        {
          "output_type": "stream",
          "name": "stdout",
          "text": [
            "[2. 3. 4. 5. 6.]\n",
            "[0. 1. 2. 3. 4.]\n",
            "[2. 3. 4. 5. 6.]\n",
            "[0. 1. 2. 3. 4.]\n"
          ]
        }
      ]
    },
    {
      "cell_type": "markdown",
      "source": [
        "### **Множення на скаляр**\n",
        "\n",
        "Коли ми множимо вектор на скаляр, то отримуємо вектор, який належить цьому ж лінійному простору R<sup>a</sup>, що й початковий вектор.\n",
        "\n",
        "$$\\lambda \\cdot \\mathbf{a} \\in \\mathbb{R}$$\n",
        "\n",
        "  \n",
        "А результатом буде те, що кожен елемент вектора, тобто координати, будуть помножені на число $$\\lambda$$"
      ],
      "metadata": {
        "id": "2swTi61u0B-v"
      }
    },
    {
      "cell_type": "code",
      "source": [
        "# create a np.array vector with 5 elements from 1 to 5 with dtype=float\n",
        "a = np.array(object=[1,2,3,4,5], dtype=float)\n",
        "\n",
        "# print the vector\n",
        "print(a)\n"
      ],
      "metadata": {
        "id": "YaWRY37qv1Mw",
        "colab": {
          "base_uri": "https://localhost:8080/"
        },
        "outputId": "8c581b6e-f37b-4984-fb6d-0b42f085350d"
      },
      "execution_count": 15,
      "outputs": [
        {
          "output_type": "stream",
          "name": "stdout",
          "text": [
            "[1. 2. 3. 4. 5.]\n"
          ]
        }
      ]
    },
    {
      "cell_type": "code",
      "source": [
        "# Multiply the vector a by a scalar and assign the result to b\n",
        "b = a * 10\n",
        "\n",
        "# print the vector b\n",
        "print(b)\n"
      ],
      "metadata": {
        "id": "k02fDCZHv1BA",
        "colab": {
          "base_uri": "https://localhost:8080/"
        },
        "outputId": "abbf9a34-7359-4551-c647-4d513774b411"
      },
      "execution_count": 17,
      "outputs": [
        {
          "output_type": "stream",
          "name": "stdout",
          "text": [
            "[10. 20. 30. 40. 50.]\n"
          ]
        }
      ]
    },
    {
      "cell_type": "markdown",
      "source": [
        "### **Додавання та віднімання двох векторів**"
      ],
      "metadata": {
        "id": "K8Pm6FtX2kG6"
      }
    },
    {
      "cell_type": "code",
      "source": [
        "# create a np.array vector with 5 elements from 1 to 5 with dtype=float\n",
        "a = np.array([1,2,3,4,5])\n",
        "\n",
        "# create a np.array vector with 5 elements from 1 to 5 with dtype=float\n",
        "b = np.array([1,2,3,4,5])\n",
        "\n",
        "# print the size of the vector a, and b\n",
        "print(a.size)\n",
        "print(b.size)\n"
      ],
      "metadata": {
        "id": "n5sbAe9-v00u",
        "colab": {
          "base_uri": "https://localhost:8080/"
        },
        "outputId": "0972d83d-33de-4ec8-a944-1e1af811a371"
      },
      "execution_count": 23,
      "outputs": [
        {
          "output_type": "stream",
          "name": "stdout",
          "text": [
            "5\n",
            "5\n"
          ]
        }
      ]
    },
    {
      "cell_type": "code",
      "source": [
        "# add vectors a and b, and print it out\n",
        "print(a + b)\n",
        "\n",
        "# subtract the vector b from the vector a, and print it out\n",
        "print(a - b)\n"
      ],
      "metadata": {
        "id": "9TE3wf3Jv0qP",
        "colab": {
          "base_uri": "https://localhost:8080/"
        },
        "outputId": "640e09b3-e8dc-426e-8046-b717951e16f1"
      },
      "execution_count": 24,
      "outputs": [
        {
          "output_type": "stream",
          "name": "stdout",
          "text": [
            "[ 2  4  6  8 10]\n",
            "[0 0 0 0 0]\n"
          ]
        }
      ]
    },
    {
      "cell_type": "markdown",
      "source": [
        "### **Скалярний добуток, по-елементне множення та ділення векторів**\n",
        "\n",
        "Скалярним добутком двох векторів буде сума попарно перемножених відповідних координат цих двох векторів. Для прикладу обчислимо скалярний добуток двох тривимірних векторів **x** і **y** у явному вигляді. Так, часом вектори позначають в літературі просто як жирні друковані літери, і таке позначення зустрічається на рівні зі стрілочкою:\n",
        "\n",
        "**x** · **y** = x₁y₁ + x₂y₂ + x₃y₃\n",
        "\n",
        "У цьому виразі **x** і **y** - вектори, а x₁, x₂, x₃ і y₁, y₂, y₃ - їх відповідні координати. Крапка позначає скалярний добуток.\n"
      ],
      "metadata": {
        "id": "Uoc0MaKq7Eyu"
      }
    },
    {
      "cell_type": "code",
      "source": [
        "# create a np.array vector with 5 elements from 1 to 5 with dtype=float\n",
        "a = np.array([1,2,3,4,5])\n",
        "\n",
        "# create a np.array vector with 5 elements from 1 to 5 with dtype=float\n",
        "b = np.array([-1,-2,-3,-4,-5])\n"
      ],
      "metadata": {
        "id": "GA-xu07mv0cj"
      },
      "execution_count": 36,
      "outputs": []
    },
    {
      "cell_type": "code",
      "source": [
        "print(a)\n",
        "print(b)\n",
        "c = a[0] * b[0] + a[1] * b[1] + a[2] * b[2] + a[3] * b[3] + a[4] * b[4]\n",
        "c"
      ],
      "metadata": {
        "colab": {
          "base_uri": "https://localhost:8080/"
        },
        "id": "CzF-4jJT4DSL",
        "outputId": "8ae36b8c-a845-4c4f-ec1e-8952895e4e95"
      },
      "execution_count": 40,
      "outputs": [
        {
          "output_type": "stream",
          "name": "stdout",
          "text": [
            "[1 2 3 4 5]\n",
            "[-1 -2 -3 -4 -5]\n"
          ]
        },
        {
          "output_type": "execute_result",
          "data": {
            "text/plain": [
              "-55"
            ]
          },
          "metadata": {},
          "execution_count": 40
        }
      ]
    },
    {
      "cell_type": "code",
      "source": [
        "# multiply the vector a by the vector b and print it out\n",
        "c = a * b\n",
        "print(c)"
      ],
      "metadata": {
        "id": "vFb_TuxZvz-W",
        "colab": {
          "base_uri": "https://localhost:8080/"
        },
        "outputId": "dfcd649e-1376-4ff4-dc3b-f54231a7826d"
      },
      "execution_count": 39,
      "outputs": [
        {
          "output_type": "stream",
          "name": "stdout",
          "text": [
            "[ -1  -4  -9 -16 -25]\n"
          ]
        }
      ]
    },
    {
      "cell_type": "code",
      "source": [
        "# calculate a dot product and assign the result to the vector c\n",
        "c = np.dot(a, b)\n",
        "\n",
        "# use a magic function\n",
        "d = a@b\n",
        "\n",
        "# print the result\n",
        "print(c)\n",
        "print(d)\n"
      ],
      "metadata": {
        "id": "lnJJzETN8RBe",
        "colab": {
          "base_uri": "https://localhost:8080/"
        },
        "outputId": "afc96c14-c2f2-4196-b197-669f2e2bdccb"
      },
      "execution_count": 42,
      "outputs": [
        {
          "output_type": "stream",
          "name": "stdout",
          "text": [
            "-55\n",
            "-55\n"
          ]
        }
      ]
    },
    {
      "cell_type": "code",
      "source": [
        "# divide the vector a by the vector b, and assign the result to the vector c\n",
        "c = a / b\n",
        "\n",
        "# print the result\n",
        "print(c)\n"
      ],
      "metadata": {
        "id": "gOPo1iUh8nzr",
        "colab": {
          "base_uri": "https://localhost:8080/"
        },
        "outputId": "e8fa5dd0-e3ec-480d-94d6-9013cb082d83"
      },
      "execution_count": 44,
      "outputs": [
        {
          "output_type": "stream",
          "name": "stdout",
          "text": [
            "[-1. -1. -1. -1. -1.]\n"
          ]
        }
      ]
    },
    {
      "cell_type": "markdown",
      "source": [
        "### **Базис векторів**\n",
        "\n",
        "У лінійній алгебрі базис векторів — це набір векторів, що використовуються для опису інших векторів у лінійному просторі. Кожен вектор в просторі можна представити унікальною лінійною комбінацією базисних векторів з деякими коефіцієнтами.\n",
        "\n",
        "Наприклад, в двовимірному просторі, вектори (1,0) та (0,1) можуть служити базисом. Будь-який інший вектор у цьому просторі можна представити як лінійну комбінацію цих базисних векторів зі своїми власними коефіцієнтами. Наприклад, вектор (3,4) можна представити як 3∗(1,0)+4∗(0,1).\n"
      ],
      "metadata": {
        "id": "_Bto2yIM9X-S"
      }
    },
    {
      "cell_type": "markdown",
      "source": [
        "## **Матриці**\n",
        "\n",
        "Матрицею розмірності m×n називатиметься сукупність чисел, які будуть розміщені у таблиці з **m рядочків** та **n стовпчиків**:\n",
        "\n",
        "\\begin{bmatrix}\n",
        "a_{11} & a_{12} & \\dots & a_{1n} \\\\\n",
        "a_{21} & a_{22} & \\dots & a_{2n} \\\\\n",
        "\\vdots & \\vdots & \\ddots & \\vdots \\\\\n",
        "a_{m1} & a_{m2} & \\dots & a_{mn}\n",
        "\\end{bmatrix}\n",
        "\n",
        "Числа **a<sub>ij</sub> називаються елементами матриці**. Таким чином, перший індекс **i** елементу відповідає за **номер рядка**, у якому розміщений даний елемент, а другий індекс **j — номер стовця**.\n",
        "\n",
        "Така матриця буде належати лінійному простору **R<sup>m×n</sup>**.\n"
      ],
      "metadata": {
        "id": "IG11pKux929k"
      }
    },
    {
      "cell_type": "code",
      "source": [
        "# Create a numpy matrix with a specific data type = int\n",
        "A = np.array([[1, 2],[1,2]], dtype=bool)\n",
        "\n",
        "# Display the result\n",
        "print(A)\n"
      ],
      "metadata": {
        "id": "x_fH8zUJ9Xjo",
        "colab": {
          "base_uri": "https://localhost:8080/"
        },
        "outputId": "a9e59d11-2cde-42da-e849-c006c8e3146b"
      },
      "execution_count": 55,
      "outputs": [
        {
          "output_type": "stream",
          "name": "stdout",
          "text": [
            "[[ True  True]\n",
            " [ True  True]]\n"
          ]
        }
      ]
    },
    {
      "cell_type": "markdown",
      "source": [
        "### **Розмірність матриці**"
      ],
      "metadata": {
        "id": "WVMmFLiMEn-F"
      }
    },
    {
      "cell_type": "code",
      "source": [
        "# Check the dimensions of the matrix, and print it out\n",
        "print(A.shape)\n",
        "\n",
        "# Check the dimension of the vector, and print it out\n",
        "print(a.shape)\n"
      ],
      "metadata": {
        "id": "owYYwyXDH5ZG",
        "colab": {
          "base_uri": "https://localhost:8080/"
        },
        "outputId": "9e402d0e-3a44-4804-f5b3-8f84bd8cabcc"
      },
      "execution_count": 69,
      "outputs": [
        {
          "output_type": "stream",
          "name": "stdout",
          "text": [
            "(2, 2)\n",
            "(3,)\n"
          ]
        }
      ]
    },
    {
      "cell_type": "markdown",
      "metadata": {
        "id": "F0aYLW0WKl6i"
      },
      "source": [
        "### **Усі атрибути масиву ndarray для інспекції зведені в таблиці**\n",
        "\n",
        "Атрибут | Опис\n",
        "--- | ---\n",
        "`shape` | Розміри масиву: розмір масиву вздовж кожної з його осей, повертається як кортеж цілих чисел\n",
        "`ndim` | Кількість осей (вимірів). Зверніть увагу: `ndim` == `len(shape)`\n",
        "`size` | Загальна кількість елементів у масиві, рівна добутку елементів кортежу `shape`\n",
        "`dtype` | Тип даних масиву (див. нижче)\n",
        "`data` | «Буфер» у пам'яті, що містить дійсні елементи масиву\n",
        "`itemsize` | Розмір у байтах кожного елемента"
      ]
    },
    {
      "cell_type": "code",
      "execution_count": 70,
      "metadata": {
        "id": "iZ4UOsLsi5-I",
        "outputId": "0154fe35-9784-4dfa-f3ca-fca8e7ec0ea6",
        "colab": {
          "base_uri": "https://localhost:8080/"
        }
      },
      "outputs": [
        {
          "output_type": "stream",
          "name": "stdout",
          "text": [
            "shape: (2, 2)\n",
            "ndim: 2\n",
            "size: 4\n",
            "dtype: bool\n",
            "itemsize: 1\n"
          ]
        }
      ],
      "source": [
        "print(f\"shape: {A.shape}\")\n",
        "print(f\"ndim: {A.ndim}\")\n",
        "print(f\"size: {A.size}\")\n",
        "print(f\"dtype: {A.dtype}\")\n",
        "print(f\"itemsize: {A.itemsize}\")"
      ]
    },
    {
      "cell_type": "markdown",
      "source": [
        "### **По-елементне множення матриць**"
      ],
      "metadata": {
        "id": "tFUas7i9I10y"
      }
    },
    {
      "cell_type": "code",
      "source": [
        "# Create a matrix A\n",
        "A = np.array([[1,2], [1,2]], dtype=float)\n",
        "print(A)\n",
        "\n",
        "# Create a matrix B\n",
        "B = np.array([[-1, -2], [-1, -2]], dtype=float)\n",
        "print(B)\n",
        "\n",
        "# Multiply the matrix A and B, and assign the result to C\n",
        "C = A * B\n",
        "\n",
        "# print the matrix C\n",
        "print(C)\n"
      ],
      "metadata": {
        "id": "npWa62129Xdb",
        "colab": {
          "base_uri": "https://localhost:8080/"
        },
        "outputId": "03720f8e-b81a-4a89-8f5c-a758e3793105"
      },
      "execution_count": 74,
      "outputs": [
        {
          "output_type": "stream",
          "name": "stdout",
          "text": [
            "[[1. 2.]\n",
            " [1. 2.]]\n",
            "[[-1. -2.]\n",
            " [-1. -2.]]\n",
            "[[-1. -4.]\n",
            " [-1. -4.]]\n"
          ]
        }
      ]
    },
    {
      "cell_type": "markdown",
      "source": [
        "### **Матричний добуток**\n",
        "\n",
        "Якщо у нас є дві матриці A та B, де **A<sub>m×n</sub>** (тобто має **m рядків і n стовпців**), а **B<sub>n×p</sub>** (має **n рядків і p стовпців**), то їх добуток **A*B буде матрицею C<sub>m×p</sub>**, де кожен елемент нової матриці **c<sub>ij</sub> обчислюється як скалярний добуток** i-ого рядка матриці A, тобто **a<sub>i</sub>**, та j-ого стовпця матриці B - **b<sub>j</sub>**.\n",
        "\n",
        "**Математичну формулу можна записати так:**\n",
        "\n",
        "A = \\begin{bmatrix} a_{11} & a_{12} \\\\ a_{21} & a_{22} \\end{bmatrix}\n",
        "B = \\begin{bmatrix} b_{11} & b_{12} \\\\ b_{21} & b_{22} \\end{bmatrix}\n",
        "\n",
        "**Множення матриць А та В можно представити таким чином:**\n",
        "\n",
        "A*B = \\begin{bmatrix} a_{11} & a_{12} \\\\ a_{21} & a_{22} \\end{bmatrix}\n",
        "*\n",
        "\\begin{bmatrix} b_{11} & b_{12} \\\\ b_{21} & b_{22} \\end{bmatrix}\n",
        "=\n",
        "\\begin{bmatrix} a_{11}b_{11} + a_{12}b_{21} & a_{11}b_{12} + a_{12}b_{22} \\\\ a_{21}b_{11} + a_{22}b_{21} & a_{21}b_{12} + a_{22}b_{22} \\end{bmatrix}\n"
      ],
      "metadata": {
        "id": "w4DMsgB4JX08"
      }
    },
    {
      "cell_type": "code",
      "source": [
        "print(A * B)\n",
        "print(np.multiply(A, B))\n",
        "\n",
        "print(np.dot(A, B))\n"
      ],
      "metadata": {
        "colab": {
          "base_uri": "https://localhost:8080/"
        },
        "id": "sbO9dkE--9Lp",
        "outputId": "5e93f8d4-0302-493c-99aa-dd3c757ff928"
      },
      "execution_count": 89,
      "outputs": [
        {
          "output_type": "stream",
          "name": "stdout",
          "text": [
            "[[1 4 9]\n",
            " [1 4 9]\n",
            " [1 4 9]]\n",
            "[[1 4 9]\n",
            " [1 4 9]\n",
            " [1 4 9]]\n",
            "[[ 6 12 18]\n",
            " [ 6 12 18]\n",
            " [ 6 12 18]]\n"
          ]
        }
      ]
    },
    {
      "cell_type": "code",
      "source": [
        "# create a matrix A(2x3)\n",
        "A = np.array([[1,2,3],[1,2,3],[1,2,3]])\n",
        "\n",
        "# create a matrix B(3x1)\n",
        "B = np.array([[1, 2, 3],[1,2,3],[1,2,3]])\n",
        "print(A)\n",
        "print(B)\n",
        "\n",
        "# calculate a matrix multiplication, and assign the result to C\n",
        "C = np.dot(A, B)\n",
        "\n",
        "# print the matrix C\n",
        "print(C)\n",
        "\n",
        "# use a magic function\n",
        "D = A@B\n",
        "\n",
        "# print the matrix D\n",
        "print(D)\n"
      ],
      "metadata": {
        "id": "8dMCfLvZ9Xa2",
        "colab": {
          "base_uri": "https://localhost:8080/"
        },
        "outputId": "4b3c20a6-377f-466c-b223-438377f476ae"
      },
      "execution_count": 86,
      "outputs": [
        {
          "output_type": "stream",
          "name": "stdout",
          "text": [
            "[[1 2 3]\n",
            " [1 2 3]\n",
            " [1 2 3]]\n",
            "[[1 2 3]\n",
            " [1 2 3]\n",
            " [1 2 3]]\n",
            "[[ 6 12 18]\n",
            " [ 6 12 18]\n",
            " [ 6 12 18]]\n",
            "[[ 6 12 18]\n",
            " [ 6 12 18]\n",
            " [ 6 12 18]]\n"
          ]
        }
      ]
    },
    {
      "cell_type": "markdown",
      "source": [
        "### **Транспонування та зміна форми матриць в numpy**\n",
        "\n",
        "A = \\begin{bmatrix} a_{11} & a_{12} & a_{13} \\\\ a_{21} & a_{22} & a_{23} \\\\ a_{31} & a_{32} & a_{33} \\end{bmatrix}\n",
        "\n",
        "Транспонована матриця А<sup>T</sup>:\n",
        "\n",
        "A<sup>T</sup> = \\begin{bmatrix} a_{11} & a_{21} & a_{31} \\\\ a_{12} & a_{22} & a_{32} \\\\ a_{13} & a_{23} & a_{33} \\end{bmatrix}\n"
      ],
      "metadata": {
        "id": "DkBUqxueOxsE"
      }
    },
    {
      "cell_type": "code",
      "source": [
        "# Create a matrix A(3x3)\n",
        "A = np.array([[1,2,3], [4,5,6], [7,8,9]])\n",
        "\n",
        "# print the matrix A\n",
        "print(A)\n",
        "\n",
        "# transpose the matrix A, and assign the result to B\n",
        "B = A.T\n",
        "\n",
        "# print the result\n",
        "print(B)\n",
        "\n",
        "C = np.transpose(A)\n",
        "print(C)\n"
      ],
      "metadata": {
        "id": "7G8CBldq9XYV",
        "colab": {
          "base_uri": "https://localhost:8080/"
        },
        "outputId": "b1d3543b-f883-4193-8776-d845eafd9802"
      },
      "execution_count": 93,
      "outputs": [
        {
          "output_type": "stream",
          "name": "stdout",
          "text": [
            "[[1 2 3]\n",
            " [4 5 6]\n",
            " [7 8 9]]\n",
            "[[1 4 7]\n",
            " [2 5 8]\n",
            " [3 6 9]]\n",
            "[[1 4 7]\n",
            " [2 5 8]\n",
            " [3 6 9]]\n"
          ]
        }
      ]
    },
    {
      "cell_type": "markdown",
      "source": [
        "### Reshaping the matrix"
      ],
      "metadata": {
        "id": "gfE5ZTtSQUY0"
      }
    },
    {
      "cell_type": "code",
      "source": [
        "# Create a matrix A(3x4)\n",
        "A = np.array([[1,2,3,4], [1,2,3,4], [1,2,3,4]])\n",
        "print(A)\n",
        "\n",
        "# Reshape the matrix to A(4x3)\n",
        "print(A.reshape(4, 3))\n",
        "print(A.reshape(6, 2))\n",
        "print(A.reshape(2, 6))\n",
        "\n",
        "# Flatten the matrix\n",
        "print(A.flatten())\n",
        "\n"
      ],
      "metadata": {
        "id": "WaXaGgZ99XVf",
        "colab": {
          "base_uri": "https://localhost:8080/"
        },
        "outputId": "d99ea4a9-2e20-453c-d6be-3a1243807fd0"
      },
      "execution_count": 102,
      "outputs": [
        {
          "output_type": "stream",
          "name": "stdout",
          "text": [
            "[[1 2 3 4]\n",
            " [1 2 3 4]\n",
            " [1 2 3 4]]\n",
            "[[1 2 3]\n",
            " [4 1 2]\n",
            " [3 4 1]\n",
            " [2 3 4]]\n",
            "[[1 2]\n",
            " [3 4]\n",
            " [1 2]\n",
            " [3 4]\n",
            " [1 2]\n",
            " [3 4]]\n",
            "[[1 2 3 4 1 2]\n",
            " [3 4 1 2 3 4]]\n",
            "[1 2 3 4 1 2 3 4 1 2 3 4]\n"
          ]
        }
      ]
    },
    {
      "cell_type": "markdown",
      "source": [
        "### **Одинична матриця**\n",
        "\n",
        "I = \\begin{bmatrix} 1 & 0 & 0 \\\\ 0 & 1 & 0 \\\\ 0 & 0 & 1 \\end{bmatrix}\n",
        "\n",
        "A = \\begin{bmatrix} 1 & 2 & 3 \\\\ 4 & 5 & 6 \\\\ 7 & 8 & 9 \\end{bmatrix}\n",
        "\n",
        "Множення на одиничну матрицю не змінює матрицю:\n",
        "$$A \\cdot I = I \\cdot A = A$$\n",
        "\n"
      ],
      "metadata": {
        "id": "YsBNmYlERAdT"
      }
    },
    {
      "cell_type": "code",
      "source": [
        "# Create an identity matrix I\n",
        "I = np.eye(3, k=0)\n",
        "I = np.identity(3)\n",
        "print(I)\n",
        "\n",
        "# Create a matrix A\n",
        "A = np.array([[1,2,3], [4,5,6], [7,8,9]])\n",
        "print(A)\n",
        "\n",
        "# multiply I by A, and A by I, and assign the results to C and D\n",
        "C = np.dot(A, I)\n",
        "D = np.dot(I, A)\n",
        "\n",
        "# print C and D\n",
        "print(C)\n",
        "print(D)\n",
        "print(C==A)\n",
        "print(C==D)\n"
      ],
      "metadata": {
        "id": "1faZ3wB59XSw",
        "colab": {
          "base_uri": "https://localhost:8080/"
        },
        "outputId": "6b83a371-fea1-44f0-d1aa-2ffbb4dd6a2e"
      },
      "execution_count": 112,
      "outputs": [
        {
          "output_type": "stream",
          "name": "stdout",
          "text": [
            "[[1. 0. 0.]\n",
            " [0. 1. 0.]\n",
            " [0. 0. 1.]]\n",
            "[[1 2 3]\n",
            " [4 5 6]\n",
            " [7 8 9]]\n",
            "[[1. 2. 3.]\n",
            " [4. 5. 6.]\n",
            " [7. 8. 9.]]\n",
            "[[1. 2. 3.]\n",
            " [4. 5. 6.]\n",
            " [7. 8. 9.]]\n",
            "[[ True  True  True]\n",
            " [ True  True  True]\n",
            " [ True  True  True]]\n",
            "[[ True  True  True]\n",
            " [ True  True  True]\n",
            " [ True  True  True]]\n"
          ]
        }
      ]
    },
    {
      "cell_type": "markdown",
      "source": [
        "### **Обернена матриця**\n",
        "\n",
        "Обернена матриця - це спеціальний тип квадратної матриці, для якої добуток з вихідною матрицею (в будь-якому порядку) дає одиничну матрицю.\n",
        "\n",
        "Якщо матриця A має обернену матрицю, то її позначають як A<sup>-1</sup>, і вона володіє властивістю:\n",
        "\n",
        "$$ A \\cdot A^{-1} = A^{-1} \\cdot A = I $$\n",
        "\n",
        "де I - це одинична матриця.\n"
      ],
      "metadata": {
        "id": "eSOtST1cSeOd"
      }
    },
    {
      "cell_type": "code",
      "source": [
        "# Create a matrix A\n",
        "A = np.array([[1,2,3], [4,5,6], [7,8,10]])\n",
        "\n",
        "# Create an inverse matrix of A\n",
        "A_inv = np.linalg.inv(A)\n",
        "\n",
        "# print the inverse matrix\n",
        "print(A_inv)\n",
        "print(np.linalg.inv(A_inv))\n"
      ],
      "metadata": {
        "id": "TIhanSa0SbIX",
        "colab": {
          "base_uri": "https://localhost:8080/"
        },
        "outputId": "189da172-a448-460d-fdee-82af65eb6e3b"
      },
      "execution_count": 115,
      "outputs": [
        {
          "output_type": "stream",
          "name": "stdout",
          "text": [
            "[[-0.66666667 -1.33333333  1.        ]\n",
            " [-0.66666667  3.66666667 -2.        ]\n",
            " [ 1.         -2.          1.        ]]\n",
            "[[ 1.  2.  3.]\n",
            " [ 4.  5.  6.]\n",
            " [ 7.  8. 10.]]\n"
          ]
        }
      ]
    },
    {
      "cell_type": "markdown",
      "source": [
        "### **Властивості операцій з матрицями**\n",
        "\n",
        "\\begin{align*}\n",
        "A + B & = B + A & \\text{(Комутативність додавання)} \\\\\n",
        "A + (B + C) & = (A + B) + C & \\text{(Асоціативність додавання)} \\\\\n",
        "A \\cdot (B \\cdot C) & = (A \\cdot B) \\cdot C & \\text{(Асоціативність множення)} \\\\\n",
        "A \\cdot (B + C) & = A \\cdot B + A \\cdot C & \\text{(Дистрибутивність)} \\\\\n",
        "(A + B)^T & = A^T + B^T & \\text{(Транспонування суми)} \\\\\n",
        "(AB)^T & = B^T A^T & \\text{(Транспонування добутку)} \\\\\n",
        "(A^T)^T & = A & \\text{(Двічі транспонована матриця)} \\\\\n",
        "(A^{-1})^{-1} & = A & \\text{(Обернена до оберненої матриці)} \\\\\n",
        "(AB)^{-1} & = B^{-1} A^{-1} & \\text{(Обернена до добутку матриць)} \\\\\n",
        "I^{-1} & = I & \\text{(Обернена до одиничної матриці)}\n",
        "\\end{align*}\n"
      ],
      "metadata": {
        "id": "riPKjSGzUPWC"
      }
    },
    {
      "cell_type": "code",
      "source": [],
      "metadata": {
        "id": "11M4Gbz9Sa7H"
      },
      "execution_count": null,
      "outputs": []
    },
    {
      "cell_type": "code",
      "source": [],
      "metadata": {
        "id": "aZbCKqj39XML"
      },
      "execution_count": null,
      "outputs": []
    },
    {
      "cell_type": "code",
      "source": [],
      "metadata": {
        "id": "Yi-i6-k69XEk"
      },
      "execution_count": null,
      "outputs": []
    },
    {
      "cell_type": "code",
      "source": [],
      "metadata": {
        "id": "xVa6c52G9W7j"
      },
      "execution_count": null,
      "outputs": []
    },
    {
      "cell_type": "code",
      "execution_count": null,
      "metadata": {
        "id": "m2w920h7KWVl"
      },
      "outputs": [],
      "source": []
    }
  ],
  "metadata": {
    "colab": {
      "provenance": [],
      "toc_visible": true
    },
    "kernelspec": {
      "display_name": "Python 3 (ipykernel)",
      "language": "python",
      "name": "python3"
    },
    "language_info": {
      "codemirror_mode": {
        "name": "ipython",
        "version": 3
      },
      "file_extension": ".py",
      "mimetype": "text/x-python",
      "name": "python",
      "nbconvert_exporter": "python",
      "pygments_lexer": "ipython3",
      "version": "3.9.16"
    }
  },
  "nbformat": 4,
  "nbformat_minor": 0
}
