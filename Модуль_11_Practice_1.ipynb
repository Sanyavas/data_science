{
  "cells": [
    {
      "cell_type": "markdown",
      "id": "printable-split",
      "metadata": {
        "id": "printable-split"
      },
      "source": [
        "\n",
        "# **Задачі в NLP**\n",
        "\n",
        "Протягом цього завдання ми побачимо різні способи обробки послідовних даних, а саме як деякі шари Keras, такі як `GRU`, `Conv` та `LSTM`, можуть використовуватися для вирішення проблем у цій області.\n",
        "\n",
        "Для цього завдання використаємо варіацію набору даних [Sentiment140](http://help.sentiment140.com/home), який містить 1,6 мільйона твітів разом з їх відповідним настроєм (0 для негативного та 4 для позитивного).\n"
      ]
    },
    {
      "cell_type": "code",
      "execution_count": 1,
      "id": "greater-synthesis",
      "metadata": {
        "id": "greater-synthesis"
      },
      "outputs": [],
      "source": [
        "\n",
        "import csv\n",
        "import random\n",
        "import numpy as np\n",
        "import tensorflow as tf\n",
        "from tensorflow.keras.preprocessing.text import Tokenizer\n",
        "from tensorflow.keras.preprocessing.sequence import pad_sequences\n",
        "import matplotlib.pyplot as plt\n"
      ]
    },
    {
      "cell_type": "markdown",
      "id": "nutritional-yield",
      "metadata": {
        "id": "nutritional-yield"
      },
      "source": [
        "## **Визначення глобальних змінних**\n",
        "\n",
        "- `EMBEDDING_DIM`: Розмір щільного вбудовування (Embedding), який буде використовуватися в шарі вбудовування (Embedding) моделі. За замовчуванням 100.\n",
        "\n",
        "- `MAXLEN`: Максимальна довжина всіх послідовностей. За замовчуванням 16.\n",
        "\n",
        "- `TRUNCATING`: Стратегія обрізання (обрізати або перед, або після кожної послідовності). За замовчуванням 'post'.\n",
        "\n",
        "- `PADDING`: Стратегія доповнення (додавати або перед, або після кожної послідовності). За замовчуванням 'post'.\n",
        "\n",
        "- `OOV_TOKEN`: Токен для заміни слів, яких немає в словнику, під час викликів text_to_sequence. За замовчуванням \\\"\\<OOV>\\\".\n",
        "\n",
        "- `MAX_EXAMPLES`: Максимальна кількість прикладів для використання. За замовчуванням 160000 (10% від оригінальної кількості прикладів).\n",
        "\n",
        "- `TRAINING_SPLIT`: Частка даних, використовуваних для навчання. За замовчуванням 0.9.\n"
      ]
    },
    {
      "cell_type": "code",
      "execution_count": 2,
      "id": "occasional-penalty",
      "metadata": {
        "id": "occasional-penalty"
      },
      "outputs": [],
      "source": [
        "EMBEDDING_DIM = 100\n",
        "MAXLEN = 16\n",
        "TRUNCATING = 'post'\n",
        "PADDING = 'post'\n",
        "OOV_TOKEN = \"<OOV>\"\n",
        "MAX_EXAMPLES = 160000\n",
        "TRAINING_SPLIT = 0.9"
      ]
    },
    {
      "cell_type": "markdown",
      "id": "applied-rubber",
      "metadata": {
        "id": "applied-rubber"
      },
      "source": [
        "## **Дослідження набору даних**\n",
        "\n",
        "Набір даних надається у файлі csv.\n",
        "\n",
        "Кожен рядок цього файлу містить наступні значення, розділені комами:\n",
        "\n",
        "- target: полярність твіту (0 = негативний, 4 = позитивний)\n",
        "\n",
        "- ids: ID твіту\n",
        "\n",
        "- date: дата твіту\n",
        "\n",
        "- flag: Запит. Якщо запиту немає, то це значення NO_QUERY.\n",
        "\n",
        "- user: користувач, який написав твіт\n",
        "\n",
        "- text: текст твіту\n",
        "\n",
        "Подивіться на перші два приклади:"
      ]
    },
    {
      "cell_type": "markdown",
      "source": [
        "# **Data Loading**"
      ],
      "metadata": {
        "id": "uhMtRn4g1SpY"
      },
      "id": "uhMtRn4g1SpY"
    },
    {
      "cell_type": "code",
      "source": [
        "\"\"\"This code downloads data from Dropbox\"\"\"\n",
        "\n",
        "# Download the data from Dropbox\n",
        "# and save it as 'data.zip'\n",
        "!wget https://www.dropbox.com/scl/fi/dfbuzr1caq69ch8f1j30q/data1.zip?rlkey=zohfdfr8o7jubxjacxdqbzdvv&dl=0 -O data1.zip\n"
      ],
      "metadata": {
        "colab": {
          "base_uri": "https://localhost:8080/"
        },
        "id": "5IvfzMYGzF7Q",
        "outputId": "40c8f451-d99b-4f96-fdec-fdc90eacc66d"
      },
      "id": "5IvfzMYGzF7Q",
      "execution_count": 3,
      "outputs": [
        {
          "output_type": "stream",
          "name": "stdout",
          "text": [
            "/bin/bash: line 1: -O: command not found\n",
            "--2023-09-06 16:38:36--  https://www.dropbox.com/scl/fi/dfbuzr1caq69ch8f1j30q/data1.zip?rlkey=zohfdfr8o7jubxjacxdqbzdvv\n",
            "Resolving www.dropbox.com (www.dropbox.com)... 162.125.2.18, 2620:100:6017:18::a27d:212\n",
            "Connecting to www.dropbox.com (www.dropbox.com)|162.125.2.18|:443... connected.\n",
            "HTTP request sent, awaiting response... 302 Found\n",
            "Location: https://www.dropbox.com/e/scl/fi/dfbuzr1caq69ch8f1j30q/data1.zip?rlkey=zohfdfr8o7jubxjacxdqbzdvv [following]\n",
            "--2023-09-06 16:38:37--  https://www.dropbox.com/e/scl/fi/dfbuzr1caq69ch8f1j30q/data1.zip?rlkey=zohfdfr8o7jubxjacxdqbzdvv\n",
            "Reusing existing connection to www.dropbox.com:443.\n",
            "HTTP request sent, awaiting response... 302 Found\n",
            "Location: https://ucadb9e861a8a00bb9bd5d9dc4ce.dl.dropboxusercontent.com/cd/0/inline/CDPoq6kfG0iCAbfgSpycrUIZFJPnUJ4Gv_lwrzyPkcCiXX3fkNMBkYqeHLc3FCuKlzseU5Jo92wPu73cYg8CJmy5xhFuDkxZ0MaUlq40TFU4dutDMYIX9a0Ri8K24ywIUImhzonZE-K3dg6h0t9F9TdD/file# [following]\n",
            "--2023-09-06 16:38:37--  https://ucadb9e861a8a00bb9bd5d9dc4ce.dl.dropboxusercontent.com/cd/0/inline/CDPoq6kfG0iCAbfgSpycrUIZFJPnUJ4Gv_lwrzyPkcCiXX3fkNMBkYqeHLc3FCuKlzseU5Jo92wPu73cYg8CJmy5xhFuDkxZ0MaUlq40TFU4dutDMYIX9a0Ri8K24ywIUImhzonZE-K3dg6h0t9F9TdD/file\n",
            "Resolving ucadb9e861a8a00bb9bd5d9dc4ce.dl.dropboxusercontent.com (ucadb9e861a8a00bb9bd5d9dc4ce.dl.dropboxusercontent.com)... 162.125.66.15, 2620:100:6017:15::a27d:20f\n",
            "Connecting to ucadb9e861a8a00bb9bd5d9dc4ce.dl.dropboxusercontent.com (ucadb9e861a8a00bb9bd5d9dc4ce.dl.dropboxusercontent.com)|162.125.66.15|:443... connected.\n",
            "HTTP request sent, awaiting response... 302 Found\n",
            "Location: /cd/0/inline2/CDPXqvd96YZc4HkofncEMHXJ0w7GlQk135hS25ZGyfEYjjpJzUVWIqFDIWQ3M-BhwHXB6UGeIKAknHVnNJyBFV65CdOGAAoCRtHay9LiDifp0mM6umnBxN-kRQJZzASmG3qHVZeDRQBBvu-W5SipuMSZFCP5LkHm7qLjMabE112GW6yim97SIHxaD-I5HCd_qe3gOPRKcvLS6zu85mfunGGpzqhjChwN0Uu4v4xiEa27DMHFB0yvph8lcaF4j3WyJ48UgWyOfF8NJ1VhfVbYtexvS6RexTlcRtS0canI6VkrSVsnctrlhdYYNZBuPclRwB82uXd80AmNjJmERJH7FFattVBSfXATtNvQzUjHNZNsB9sUpMklqDAJe4a75dBkZ3o/file [following]\n",
            "--2023-09-06 16:38:38--  https://ucadb9e861a8a00bb9bd5d9dc4ce.dl.dropboxusercontent.com/cd/0/inline2/CDPXqvd96YZc4HkofncEMHXJ0w7GlQk135hS25ZGyfEYjjpJzUVWIqFDIWQ3M-BhwHXB6UGeIKAknHVnNJyBFV65CdOGAAoCRtHay9LiDifp0mM6umnBxN-kRQJZzASmG3qHVZeDRQBBvu-W5SipuMSZFCP5LkHm7qLjMabE112GW6yim97SIHxaD-I5HCd_qe3gOPRKcvLS6zu85mfunGGpzqhjChwN0Uu4v4xiEa27DMHFB0yvph8lcaF4j3WyJ48UgWyOfF8NJ1VhfVbYtexvS6RexTlcRtS0canI6VkrSVsnctrlhdYYNZBuPclRwB82uXd80AmNjJmERJH7FFattVBSfXATtNvQzUjHNZNsB9sUpMklqDAJe4a75dBkZ3o/file\n",
            "Reusing existing connection to ucadb9e861a8a00bb9bd5d9dc4ce.dl.dropboxusercontent.com:443.\n",
            "HTTP request sent, awaiting response... 200 OK\n",
            "Length: 223654224 (213M) [application/zip]\n",
            "Saving to: ‘data1.zip?rlkey=zohfdfr8o7jubxjacxdqbzdvv’\n",
            "\n",
            "data1.zip?rlkey=zoh 100%[===================>] 213.29M  19.7MB/s    in 13s     \n",
            "\n",
            "2023-09-06 16:38:52 (16.1 MB/s) - ‘data1.zip?rlkey=zohfdfr8o7jubxjacxdqbzdvv’ saved [223654224/223654224]\n",
            "\n"
          ]
        }
      ]
    },
    {
      "cell_type": "code",
      "source": [
        "from zipfile import ZipFile\n",
        "\n",
        "def extract_zip_data(zipfilepath, target_dir):\n",
        "  # Extract the zip file to the target directory\n",
        "  with ZipFile(str(zipfilepath), 'r') as zipObj:\n",
        "    zipObj.extractall(path=str(target_dir))\n",
        "\n",
        "extract_zip_data(zipfilepath=\"/content/data1.zip?rlkey=zohfdfr8o7jubxjacxdqbzdvv\", target_dir=\"./\")\n"
      ],
      "metadata": {
        "id": "6BBA0Rw-zRg7"
      },
      "id": "6BBA0Rw-zRg7",
      "execution_count": 4,
      "outputs": []
    },
    {
      "cell_type": "code",
      "execution_count": 5,
      "id": "critical-emission",
      "metadata": {
        "colab": {
          "base_uri": "https://localhost:8080/"
        },
        "id": "critical-emission",
        "outputId": "15da92f7-6db3-478a-f85b-627edab7faa2"
      },
      "outputs": [
        {
          "output_type": "stream",
          "name": "stdout",
          "text": [
            "----------------------------------\n",
            "Перший рядок:\n",
            "\n",
            "\"0\",\"1467810369\",\"Mon Apr 06 22:19:45 PDT 2009\",\"NO_QUERY\",\"_TheSpecialOne_\",\"@switchfoot http://twitpic.com/2y1zl - Awww, that's a bummer.  You shoulda got David Carr of Third Day to do it. ;D\"\n",
            "\n",
            "----------------------------------\n",
            "Другий рядок:\n",
            "\n",
            "\"0\",\"1467810672\",\"Mon Apr 06 22:19:49 PDT 2009\",\"NO_QUERY\",\"scotthamilton\",\"is upset that he can't update his Facebook by texting it... and might cry as a result  School today also. Blah!\"\n",
            "\n",
            "----------------------------------\n"
          ]
        }
      ],
      "source": [
        "filename = \"./data/training_cleaned.csv\"\n",
        "\n",
        "with open(filename, 'r') as csvfile:\n",
        "  print('----------------------------------')\n",
        "  print(f\"Перший рядок:\\n\\n{csvfile.readline()}\")\n",
        "  print('----------------------------------')\n",
        "  print(f\"Другий рядок:\\n\\n{csvfile.readline()}\")\n",
        "  print('----------------------------------')\n"
      ]
    },
    {
      "cell_type": "code",
      "source": [
        "\n",
        "sentences = []\n",
        "labels = []\n",
        "with open(filename, 'r', encoding=\"utf8\") as csvfile:\n",
        "    reader = csv.reader(csvfile, delimiter=\",\")\n",
        "    for line in reader:\n",
        "        labels.append(1 if line[0] == \"4\" else 0)\n",
        "        sentences.append(line[-1])\n"
      ],
      "metadata": {
        "id": "IktCTbVfz2xz"
      },
      "id": "IktCTbVfz2xz",
      "execution_count": 6,
      "outputs": []
    },
    {
      "cell_type": "code",
      "source": [
        "labels[-10:], sentences[-10:]"
      ],
      "metadata": {
        "colab": {
          "base_uri": "https://localhost:8080/"
        },
        "id": "0OE8bFRe0GMj",
        "outputId": "a645e4e3-8391-48cd-ed3d-564977d3dc91"
      },
      "id": "0OE8bFRe0GMj",
      "execution_count": 65,
      "outputs": [
        {
          "output_type": "execute_result",
          "data": {
            "text/plain": [
              "((1, 0, 1, 0, 1, 0, 0, 0, 0, 0),\n",
              " ('NEW MOON trailer is out. Soooo sexcited! ',\n",
              "  '@Esquiremodel lol...and I jus realized ur not followin me  :feelins hurt: http://myloc.me/12JL',\n",
              "  \"@sophiespooooner poor lamb! How was indonesia my luverr? I'm off to Cyprus tomorrow \",\n",
              "  '@sharre gosh, drama on my ravelry?  makes me glad I just go there to chat and post pictures!',\n",
              "  \"@ddlovato hey demi can't wait to see you I'm new York.. your def such a great performer \",\n",
              "  '@pramodbaddurkar @sheetalk m doing report work!!!! uffffffff!!! ',\n",
              "  'I am sitting at home, exhausted from cheerleading! ',\n",
              "  '@cejohns12 I would only eliminate ONE photo, but you know that already. ',\n",
              "  'I think I have ran outta music to play lmao  ...cant go to any STL clubx because I wanna live past tonight ugh I wish I was in SOMEWHERE !',\n",
              "  'my phone just died  bout to watch some true blood and pass out'))"
            ]
          },
          "metadata": {},
          "execution_count": 65
        }
      ]
    },
    {
      "cell_type": "code",
      "execution_count": 8,
      "id": "banned-medicare",
      "metadata": {
        "colab": {
          "base_uri": "https://localhost:8080/"
        },
        "id": "banned-medicare",
        "outputId": "56e9c9e2-a47e-4cbb-d779-5d3c6587da60"
      },
      "outputs": [
        {
          "output_type": "stream",
          "name": "stdout",
          "text": [
            "Shape 1600000\n",
            "5-ий рядок:\n",
            "@nationwideclass no, it's not behaving at all. i'm mad. why am i here? because I can't see you all over there. \n",
            "\n",
            "101-ий рядок:\n",
            " Body Of Missing Northern Calif. Girl Found: Police have found the remains of a missing Northern California girl .. http://tr.im/imji\n",
            "\n",
            "Target для 5, 101-го рядків:\n",
            "(0, 0)\n"
          ]
        }
      ],
      "source": [
        "print(f\"Shape {len(sentences)}\")\n",
        "\n",
        "print(f\"5-ий рядок:\\n{sentences[4]}\\n\")\n",
        "print(f\"101-ий рядок:\\n{sentences[100]}\")\n",
        "\n",
        "print(f\"\\nTarget для 5, 101-го рядків:\\n{labels[4], labels[100]}\")"
      ]
    },
    {
      "cell_type": "code",
      "execution_count": 9,
      "id": "framed-holmes",
      "metadata": {
        "colab": {
          "base_uri": "https://localhost:8080/"
        },
        "id": "framed-holmes",
        "outputId": "e8ae8f04-18e4-4061-8254-b82e17a8bdc1"
      },
      "outputs": [
        {
          "output_type": "stream",
          "name": "stdout",
          "text": [
            "160000 речень і 160000 labels після рандомного вибору\n",
            "\n"
          ]
        }
      ],
      "source": [
        "MAX_EXAMPLES = 160000\n",
        "\n",
        "# Bundle the two lists into a single one\n",
        "sentences_and_labels = list(zip(sentences, labels))\n",
        "\n",
        "# Perform random sampling\n",
        "random.seed(0)\n",
        "sentences_and_labels = random.sample(sentences_and_labels, MAX_EXAMPLES)\n",
        "# sentences_and_labels = random.sample(sentences_and_labels, 50000)\n",
        "\n",
        "# Unpack back into separate lists\n",
        "sentences, labels = zip(*sentences_and_labels)\n",
        "\n",
        "print(f\"{len(sentences)} речень і {len(labels)} labels після рандомного вибору\\n\")"
      ]
    },
    {
      "cell_type": "markdown",
      "id": "contained-bridge",
      "metadata": {
        "id": "contained-bridge"
      },
      "source": [
        "## **Training-Validation-Split**\n"
      ]
    },
    {
      "cell_type": "code",
      "execution_count": 10,
      "id": "elegant-medicare",
      "metadata": {
        "id": "elegant-medicare"
      },
      "outputs": [],
      "source": [
        "TRAINING_SPLIT = 0.9\n",
        "\n",
        "# Compute the number of sentences that will be used for training (should be an integer)\n",
        "train_size = int(len(labels) * TRAINING_SPLIT)\n",
        "\n",
        "# Split the sentences and labels into train/validation splits\n",
        "train_sentences = sentences[:train_size]\n",
        "train_labels = labels[:train_size]\n",
        "train_labels = np.array(train_labels)\n",
        "\n",
        "val_sentences = sentences[train_size:]\n",
        "val_labels = labels[train_size:]\n",
        "val_labels = np.array(val_labels)\n"
      ]
    },
    {
      "cell_type": "code",
      "execution_count": 12,
      "id": "green-finding",
      "metadata": {
        "colab": {
          "base_uri": "https://localhost:8080/"
        },
        "id": "green-finding",
        "outputId": "475b063c-5ead-4d39-d038-c13f5fef1775"
      },
      "outputs": [
        {
          "output_type": "stream",
          "name": "stdout",
          "text": [
            "144000 твітів для тренування.\n",
            "\n",
            "144000 labels для тренування.\n",
            "\n",
            "16000 твітів для валідації.\n",
            "\n",
            "16000 labels для валідації.\n"
          ]
        }
      ],
      "source": [
        "\n",
        "print(f\"{len(train_sentences)} твітів для тренування.\\n\")\n",
        "print(f\"{len(train_labels)} labels для тренування.\\n\")\n",
        "print(f\"{len(val_sentences)} твітів для валідації.\\n\")\n",
        "print(f\"{len(val_labels)} labels для валідації.\")\n"
      ]
    },
    {
      "cell_type": "markdown",
      "id": "wired-fifteen",
      "metadata": {
        "id": "wired-fifteen"
      },
      "source": [
        "## **Токенізація послідовностей, їх обмеження та розширення**\n"
      ]
    },
    {
      "cell_type": "code",
      "execution_count": 15,
      "id": "atmospheric-shakespeare",
      "metadata": {
        "id": "atmospheric-shakespeare"
      },
      "outputs": [],
      "source": [
        "OOV_TOKEN = \"<OOV>\" # out of vocabulary\n",
        "\n",
        "# Instantiate the Tokenizer class, passing in the correct values for num_words and oov_token\n",
        "tokenizer = Tokenizer(num_words=10000, oov_token=OOV_TOKEN)\n",
        "\n",
        "# Fit the tokenizer to the training sentences\n",
        "tokenizer.fit_on_texts(train_sentences)\n",
        "\n",
        "word_index = tokenizer.word_index\n",
        "VOCAB_SIZE = len(word_index)\n"
      ]
    },
    {
      "cell_type": "code",
      "source": [
        "import pandas as pd\n",
        "df = pd.DataFrame(word_index, index=[\"indexes\"])\n",
        "df.T.head(50)\n"
      ],
      "metadata": {
        "colab": {
          "base_uri": "https://localhost:8080/",
          "height": 1000
        },
        "id": "x8u180IaZSfJ",
        "outputId": "8e5d7af2-bbeb-4f88-abe7-050839a3d6c9"
      },
      "id": "x8u180IaZSfJ",
      "execution_count": 33,
      "outputs": [
        {
          "output_type": "execute_result",
          "data": {
            "text/plain": [
              "       indexes\n",
              "<OOV>        1\n",
              "i            2\n",
              "to           3\n",
              "the          4\n",
              "a            5\n",
              "my           6\n",
              "and          7\n",
              "you          8\n",
              "is           9\n",
              "it          10\n",
              "for         11\n",
              "in          12\n",
              "of          13\n",
              "on          14\n",
              "me          15\n",
              "so          16\n",
              "have        17\n",
              "that        18\n",
              "but         19\n",
              "i'm         20\n",
              "just        21\n",
              "with        22\n",
              "be          23\n",
              "at          24\n",
              "not         25\n",
              "was         26\n",
              "this        27\n",
              "now         28\n",
              "up          29\n",
              "good        30\n",
              "day         31\n",
              "get         32\n",
              "out         33\n",
              "all         34\n",
              "are         35\n",
              "like        36\n",
              "no          37\n",
              "go          38\n",
              "http        39\n",
              "quot        40\n",
              "do          41\n",
              "today       42\n",
              "too         43\n",
              "going       44\n",
              "your        45\n",
              "love        46\n",
              "work        47\n",
              "it's        48\n",
              "got         49\n",
              "lol         50"
            ],
            "text/html": [
              "\n",
              "  <div id=\"df-4657745b-3ab3-428c-bcd3-afc302f10e0d\" class=\"colab-df-container\">\n",
              "    <div>\n",
              "<style scoped>\n",
              "    .dataframe tbody tr th:only-of-type {\n",
              "        vertical-align: middle;\n",
              "    }\n",
              "\n",
              "    .dataframe tbody tr th {\n",
              "        vertical-align: top;\n",
              "    }\n",
              "\n",
              "    .dataframe thead th {\n",
              "        text-align: right;\n",
              "    }\n",
              "</style>\n",
              "<table border=\"1\" class=\"dataframe\">\n",
              "  <thead>\n",
              "    <tr style=\"text-align: right;\">\n",
              "      <th></th>\n",
              "      <th>indexes</th>\n",
              "    </tr>\n",
              "  </thead>\n",
              "  <tbody>\n",
              "    <tr>\n",
              "      <th>&lt;OOV&gt;</th>\n",
              "      <td>1</td>\n",
              "    </tr>\n",
              "    <tr>\n",
              "      <th>i</th>\n",
              "      <td>2</td>\n",
              "    </tr>\n",
              "    <tr>\n",
              "      <th>to</th>\n",
              "      <td>3</td>\n",
              "    </tr>\n",
              "    <tr>\n",
              "      <th>the</th>\n",
              "      <td>4</td>\n",
              "    </tr>\n",
              "    <tr>\n",
              "      <th>a</th>\n",
              "      <td>5</td>\n",
              "    </tr>\n",
              "    <tr>\n",
              "      <th>my</th>\n",
              "      <td>6</td>\n",
              "    </tr>\n",
              "    <tr>\n",
              "      <th>and</th>\n",
              "      <td>7</td>\n",
              "    </tr>\n",
              "    <tr>\n",
              "      <th>you</th>\n",
              "      <td>8</td>\n",
              "    </tr>\n",
              "    <tr>\n",
              "      <th>is</th>\n",
              "      <td>9</td>\n",
              "    </tr>\n",
              "    <tr>\n",
              "      <th>it</th>\n",
              "      <td>10</td>\n",
              "    </tr>\n",
              "    <tr>\n",
              "      <th>for</th>\n",
              "      <td>11</td>\n",
              "    </tr>\n",
              "    <tr>\n",
              "      <th>in</th>\n",
              "      <td>12</td>\n",
              "    </tr>\n",
              "    <tr>\n",
              "      <th>of</th>\n",
              "      <td>13</td>\n",
              "    </tr>\n",
              "    <tr>\n",
              "      <th>on</th>\n",
              "      <td>14</td>\n",
              "    </tr>\n",
              "    <tr>\n",
              "      <th>me</th>\n",
              "      <td>15</td>\n",
              "    </tr>\n",
              "    <tr>\n",
              "      <th>so</th>\n",
              "      <td>16</td>\n",
              "    </tr>\n",
              "    <tr>\n",
              "      <th>have</th>\n",
              "      <td>17</td>\n",
              "    </tr>\n",
              "    <tr>\n",
              "      <th>that</th>\n",
              "      <td>18</td>\n",
              "    </tr>\n",
              "    <tr>\n",
              "      <th>but</th>\n",
              "      <td>19</td>\n",
              "    </tr>\n",
              "    <tr>\n",
              "      <th>i'm</th>\n",
              "      <td>20</td>\n",
              "    </tr>\n",
              "    <tr>\n",
              "      <th>just</th>\n",
              "      <td>21</td>\n",
              "    </tr>\n",
              "    <tr>\n",
              "      <th>with</th>\n",
              "      <td>22</td>\n",
              "    </tr>\n",
              "    <tr>\n",
              "      <th>be</th>\n",
              "      <td>23</td>\n",
              "    </tr>\n",
              "    <tr>\n",
              "      <th>at</th>\n",
              "      <td>24</td>\n",
              "    </tr>\n",
              "    <tr>\n",
              "      <th>not</th>\n",
              "      <td>25</td>\n",
              "    </tr>\n",
              "    <tr>\n",
              "      <th>was</th>\n",
              "      <td>26</td>\n",
              "    </tr>\n",
              "    <tr>\n",
              "      <th>this</th>\n",
              "      <td>27</td>\n",
              "    </tr>\n",
              "    <tr>\n",
              "      <th>now</th>\n",
              "      <td>28</td>\n",
              "    </tr>\n",
              "    <tr>\n",
              "      <th>up</th>\n",
              "      <td>29</td>\n",
              "    </tr>\n",
              "    <tr>\n",
              "      <th>good</th>\n",
              "      <td>30</td>\n",
              "    </tr>\n",
              "    <tr>\n",
              "      <th>day</th>\n",
              "      <td>31</td>\n",
              "    </tr>\n",
              "    <tr>\n",
              "      <th>get</th>\n",
              "      <td>32</td>\n",
              "    </tr>\n",
              "    <tr>\n",
              "      <th>out</th>\n",
              "      <td>33</td>\n",
              "    </tr>\n",
              "    <tr>\n",
              "      <th>all</th>\n",
              "      <td>34</td>\n",
              "    </tr>\n",
              "    <tr>\n",
              "      <th>are</th>\n",
              "      <td>35</td>\n",
              "    </tr>\n",
              "    <tr>\n",
              "      <th>like</th>\n",
              "      <td>36</td>\n",
              "    </tr>\n",
              "    <tr>\n",
              "      <th>no</th>\n",
              "      <td>37</td>\n",
              "    </tr>\n",
              "    <tr>\n",
              "      <th>go</th>\n",
              "      <td>38</td>\n",
              "    </tr>\n",
              "    <tr>\n",
              "      <th>http</th>\n",
              "      <td>39</td>\n",
              "    </tr>\n",
              "    <tr>\n",
              "      <th>quot</th>\n",
              "      <td>40</td>\n",
              "    </tr>\n",
              "    <tr>\n",
              "      <th>do</th>\n",
              "      <td>41</td>\n",
              "    </tr>\n",
              "    <tr>\n",
              "      <th>today</th>\n",
              "      <td>42</td>\n",
              "    </tr>\n",
              "    <tr>\n",
              "      <th>too</th>\n",
              "      <td>43</td>\n",
              "    </tr>\n",
              "    <tr>\n",
              "      <th>going</th>\n",
              "      <td>44</td>\n",
              "    </tr>\n",
              "    <tr>\n",
              "      <th>your</th>\n",
              "      <td>45</td>\n",
              "    </tr>\n",
              "    <tr>\n",
              "      <th>love</th>\n",
              "      <td>46</td>\n",
              "    </tr>\n",
              "    <tr>\n",
              "      <th>work</th>\n",
              "      <td>47</td>\n",
              "    </tr>\n",
              "    <tr>\n",
              "      <th>it's</th>\n",
              "      <td>48</td>\n",
              "    </tr>\n",
              "    <tr>\n",
              "      <th>got</th>\n",
              "      <td>49</td>\n",
              "    </tr>\n",
              "    <tr>\n",
              "      <th>lol</th>\n",
              "      <td>50</td>\n",
              "    </tr>\n",
              "  </tbody>\n",
              "</table>\n",
              "</div>\n",
              "    <div class=\"colab-df-buttons\">\n",
              "\n",
              "  <div class=\"colab-df-container\">\n",
              "    <button class=\"colab-df-convert\" onclick=\"convertToInteractive('df-4657745b-3ab3-428c-bcd3-afc302f10e0d')\"\n",
              "            title=\"Convert this dataframe to an interactive table.\"\n",
              "            style=\"display:none;\">\n",
              "\n",
              "  <svg xmlns=\"http://www.w3.org/2000/svg\" height=\"24px\" viewBox=\"0 -960 960 960\">\n",
              "    <path d=\"M120-120v-720h720v720H120Zm60-500h600v-160H180v160Zm220 220h160v-160H400v160Zm0 220h160v-160H400v160ZM180-400h160v-160H180v160Zm440 0h160v-160H620v160ZM180-180h160v-160H180v160Zm440 0h160v-160H620v160Z\"/>\n",
              "  </svg>\n",
              "    </button>\n",
              "\n",
              "  <style>\n",
              "    .colab-df-container {\n",
              "      display:flex;\n",
              "      gap: 12px;\n",
              "    }\n",
              "\n",
              "    .colab-df-convert {\n",
              "      background-color: #E8F0FE;\n",
              "      border: none;\n",
              "      border-radius: 50%;\n",
              "      cursor: pointer;\n",
              "      display: none;\n",
              "      fill: #1967D2;\n",
              "      height: 32px;\n",
              "      padding: 0 0 0 0;\n",
              "      width: 32px;\n",
              "    }\n",
              "\n",
              "    .colab-df-convert:hover {\n",
              "      background-color: #E2EBFA;\n",
              "      box-shadow: 0px 1px 2px rgba(60, 64, 67, 0.3), 0px 1px 3px 1px rgba(60, 64, 67, 0.15);\n",
              "      fill: #174EA6;\n",
              "    }\n",
              "\n",
              "    .colab-df-buttons div {\n",
              "      margin-bottom: 4px;\n",
              "    }\n",
              "\n",
              "    [theme=dark] .colab-df-convert {\n",
              "      background-color: #3B4455;\n",
              "      fill: #D2E3FC;\n",
              "    }\n",
              "\n",
              "    [theme=dark] .colab-df-convert:hover {\n",
              "      background-color: #434B5C;\n",
              "      box-shadow: 0px 1px 3px 1px rgba(0, 0, 0, 0.15);\n",
              "      filter: drop-shadow(0px 1px 2px rgba(0, 0, 0, 0.3));\n",
              "      fill: #FFFFFF;\n",
              "    }\n",
              "  </style>\n",
              "\n",
              "    <script>\n",
              "      const buttonEl =\n",
              "        document.querySelector('#df-4657745b-3ab3-428c-bcd3-afc302f10e0d button.colab-df-convert');\n",
              "      buttonEl.style.display =\n",
              "        google.colab.kernel.accessAllowed ? 'block' : 'none';\n",
              "\n",
              "      async function convertToInteractive(key) {\n",
              "        const element = document.querySelector('#df-4657745b-3ab3-428c-bcd3-afc302f10e0d');\n",
              "        const dataTable =\n",
              "          await google.colab.kernel.invokeFunction('convertToInteractive',\n",
              "                                                    [key], {});\n",
              "        if (!dataTable) return;\n",
              "\n",
              "        const docLinkHtml = 'Like what you see? Visit the ' +\n",
              "          '<a target=\"_blank\" href=https://colab.research.google.com/notebooks/data_table.ipynb>data table notebook</a>'\n",
              "          + ' to learn more about interactive tables.';\n",
              "        element.innerHTML = '';\n",
              "        dataTable['output_type'] = 'display_data';\n",
              "        await google.colab.output.renderOutput(dataTable, element);\n",
              "        const docLink = document.createElement('div');\n",
              "        docLink.innerHTML = docLinkHtml;\n",
              "        element.appendChild(docLink);\n",
              "      }\n",
              "    </script>\n",
              "  </div>\n",
              "\n",
              "\n",
              "<div id=\"df-34b6b5d3-213c-425d-aaa2-a056c12b5414\">\n",
              "  <button class=\"colab-df-quickchart\" onclick=\"quickchart('df-34b6b5d3-213c-425d-aaa2-a056c12b5414')\"\n",
              "            title=\"Suggest charts.\"\n",
              "            style=\"display:none;\">\n",
              "\n",
              "<svg xmlns=\"http://www.w3.org/2000/svg\" height=\"24px\"viewBox=\"0 0 24 24\"\n",
              "     width=\"24px\">\n",
              "    <g>\n",
              "        <path d=\"M19 3H5c-1.1 0-2 .9-2 2v14c0 1.1.9 2 2 2h14c1.1 0 2-.9 2-2V5c0-1.1-.9-2-2-2zM9 17H7v-7h2v7zm4 0h-2V7h2v10zm4 0h-2v-4h2v4z\"/>\n",
              "    </g>\n",
              "</svg>\n",
              "  </button>\n",
              "\n",
              "<style>\n",
              "  .colab-df-quickchart {\n",
              "      --bg-color: #E8F0FE;\n",
              "      --fill-color: #1967D2;\n",
              "      --hover-bg-color: #E2EBFA;\n",
              "      --hover-fill-color: #174EA6;\n",
              "      --disabled-fill-color: #AAA;\n",
              "      --disabled-bg-color: #DDD;\n",
              "  }\n",
              "\n",
              "  [theme=dark] .colab-df-quickchart {\n",
              "      --bg-color: #3B4455;\n",
              "      --fill-color: #D2E3FC;\n",
              "      --hover-bg-color: #434B5C;\n",
              "      --hover-fill-color: #FFFFFF;\n",
              "      --disabled-bg-color: #3B4455;\n",
              "      --disabled-fill-color: #666;\n",
              "  }\n",
              "\n",
              "  .colab-df-quickchart {\n",
              "    background-color: var(--bg-color);\n",
              "    border: none;\n",
              "    border-radius: 50%;\n",
              "    cursor: pointer;\n",
              "    display: none;\n",
              "    fill: var(--fill-color);\n",
              "    height: 32px;\n",
              "    padding: 0;\n",
              "    width: 32px;\n",
              "  }\n",
              "\n",
              "  .colab-df-quickchart:hover {\n",
              "    background-color: var(--hover-bg-color);\n",
              "    box-shadow: 0 1px 2px rgba(60, 64, 67, 0.3), 0 1px 3px 1px rgba(60, 64, 67, 0.15);\n",
              "    fill: var(--button-hover-fill-color);\n",
              "  }\n",
              "\n",
              "  .colab-df-quickchart-complete:disabled,\n",
              "  .colab-df-quickchart-complete:disabled:hover {\n",
              "    background-color: var(--disabled-bg-color);\n",
              "    fill: var(--disabled-fill-color);\n",
              "    box-shadow: none;\n",
              "  }\n",
              "\n",
              "  .colab-df-spinner {\n",
              "    border: 2px solid var(--fill-color);\n",
              "    border-color: transparent;\n",
              "    border-bottom-color: var(--fill-color);\n",
              "    animation:\n",
              "      spin 1s steps(1) infinite;\n",
              "  }\n",
              "\n",
              "  @keyframes spin {\n",
              "    0% {\n",
              "      border-color: transparent;\n",
              "      border-bottom-color: var(--fill-color);\n",
              "      border-left-color: var(--fill-color);\n",
              "    }\n",
              "    20% {\n",
              "      border-color: transparent;\n",
              "      border-left-color: var(--fill-color);\n",
              "      border-top-color: var(--fill-color);\n",
              "    }\n",
              "    30% {\n",
              "      border-color: transparent;\n",
              "      border-left-color: var(--fill-color);\n",
              "      border-top-color: var(--fill-color);\n",
              "      border-right-color: var(--fill-color);\n",
              "    }\n",
              "    40% {\n",
              "      border-color: transparent;\n",
              "      border-right-color: var(--fill-color);\n",
              "      border-top-color: var(--fill-color);\n",
              "    }\n",
              "    60% {\n",
              "      border-color: transparent;\n",
              "      border-right-color: var(--fill-color);\n",
              "    }\n",
              "    80% {\n",
              "      border-color: transparent;\n",
              "      border-right-color: var(--fill-color);\n",
              "      border-bottom-color: var(--fill-color);\n",
              "    }\n",
              "    90% {\n",
              "      border-color: transparent;\n",
              "      border-bottom-color: var(--fill-color);\n",
              "    }\n",
              "  }\n",
              "</style>\n",
              "\n",
              "  <script>\n",
              "    async function quickchart(key) {\n",
              "      const quickchartButtonEl =\n",
              "        document.querySelector('#' + key + ' button');\n",
              "      quickchartButtonEl.disabled = true;  // To prevent multiple clicks.\n",
              "      quickchartButtonEl.classList.add('colab-df-spinner');\n",
              "      try {\n",
              "        const charts = await google.colab.kernel.invokeFunction(\n",
              "            'suggestCharts', [key], {});\n",
              "      } catch (error) {\n",
              "        console.error('Error during call to suggestCharts:', error);\n",
              "      }\n",
              "      quickchartButtonEl.classList.remove('colab-df-spinner');\n",
              "      quickchartButtonEl.classList.add('colab-df-quickchart-complete');\n",
              "    }\n",
              "    (() => {\n",
              "      let quickchartButtonEl =\n",
              "        document.querySelector('#df-34b6b5d3-213c-425d-aaa2-a056c12b5414 button');\n",
              "      quickchartButtonEl.style.display =\n",
              "        google.colab.kernel.accessAllowed ? 'block' : 'none';\n",
              "    })();\n",
              "  </script>\n",
              "</div>\n",
              "    </div>\n",
              "  </div>\n"
            ]
          },
          "metadata": {},
          "execution_count": 33
        }
      ]
    },
    {
      "cell_type": "code",
      "execution_count": 16,
      "id": "included-entertainment",
      "metadata": {
        "colab": {
          "base_uri": "https://localhost:8080/"
        },
        "id": "included-entertainment",
        "outputId": "9c9628df-13b8-428d-c078-7af02be80cd9"
      },
      "outputs": [
        {
          "output_type": "stream",
          "name": "stdout",
          "text": [
            "Словник налічує 128580 слів\n",
            "\n",
            "<OOV> токен в словнику\n",
            "\n",
            "індекс слова 'great' - 100\n"
          ]
        }
      ],
      "source": [
        "\n",
        "print(f\"Словник налічує {VOCAB_SIZE} слів\\n\")\n",
        "print(\"<OOV> токен в словнику\" if \"<OOV>\" in word_index else \"<OOV> токену немає в словнику\")\n",
        "print(f\"\\nіндекс слова 'great' - {word_index['great']}\")\n"
      ]
    },
    {
      "cell_type": "code",
      "execution_count": 28,
      "id": "attractive-cooper",
      "metadata": {
        "id": "attractive-cooper"
      },
      "outputs": [],
      "source": [
        "MAXLEN = 16\n",
        "TRUNCATING = 'post'\n",
        "PADDING = 'post'\n",
        "\n",
        "# Convert sentences to sequences\n",
        "sequences = tokenizer.texts_to_sequences(sentences)\n",
        "\n",
        "# Pad the sequences using the correct padding, truncating and maxlen\n",
        "pad_trunc_sequences = pad_sequences(sequences, maxlen=MAXLEN, padding=PADDING, truncating=TRUNCATING)\n"
      ]
    },
    {
      "cell_type": "code",
      "source": [
        "sequences[:3], pad_trunc_sequences[:3]"
      ],
      "metadata": {
        "colab": {
          "base_uri": "https://localhost:8080/"
        },
        "id": "LvsNcOzkZ2Fv",
        "outputId": "5c36e10a-d0b9-499b-c40d-58fabdd34867"
      },
      "id": "LvsNcOzkZ2Fv",
      "execution_count": 30,
      "outputs": [
        {
          "output_type": "execute_result",
          "data": {
            "text/plain": [
              "([[1, 8, 35, 369, 156, 267, 9458, 14, 1, 426],\n",
              "  [7,\n",
              "   4369,\n",
              "   3,\n",
              "   556,\n",
              "   11,\n",
              "   2107,\n",
              "   11,\n",
              "   6,\n",
              "   1,\n",
              "   251,\n",
              "   29,\n",
              "   4,\n",
              "   30,\n",
              "   47,\n",
              "   6857,\n",
              "   475,\n",
              "   64,\n",
              "   44,\n",
              "   14,\n",
              "   12,\n",
              "   2107,\n",
              "   412,\n",
              "   891,\n",
              "   54],\n",
              "  [1, 163, 8, 163, 8, 163, 8]],\n",
              " array([[   1,    8,   35,  369,  156,  267, 9458,   14,    1,  426,    0,\n",
              "            0,    0,    0,    0,    0],\n",
              "        [   7, 4369,    3,  556,   11, 2107,   11,    6,    1,  251,   29,\n",
              "            4,   30,   47, 6857,  475],\n",
              "        [   1,  163,    8,  163,    8,  163,    8,    0,    0,    0,    0,\n",
              "            0,    0,    0,    0,    0]], dtype=int32))"
            ]
          },
          "metadata": {},
          "execution_count": 30
        }
      ]
    },
    {
      "cell_type": "code",
      "execution_count": 31,
      "id": "extra-mention",
      "metadata": {
        "id": "extra-mention"
      },
      "outputs": [],
      "source": [
        "# Convert sentences to sequences\n",
        "train_sequences = tokenizer.texts_to_sequences(train_sentences)\n",
        "\n",
        "# Pad the sequences using the correct padding, truncating and maxlen\n",
        "train_pad_trunc_seq = pad_sequences(train_sequences, maxlen=MAXLEN, padding=PADDING, truncating=TRUNCATING)\n",
        "\n",
        "# Convert sentences to sequences\n",
        "val_sequences = tokenizer.texts_to_sequences(val_sentences)\n",
        "\n",
        "# Pad the sequences using the correct padding, truncating and maxlen\n",
        "val_pad_trunc_seq = pad_sequences(val_sequences, maxlen=MAXLEN, padding=PADDING, truncating=TRUNCATING)\n"
      ]
    },
    {
      "cell_type": "markdown",
      "source": [
        "https://uk.wikipedia.org/wiki/TF-IDF"
      ],
      "metadata": {
        "id": "YMG4mgUrb2nq"
      },
      "id": "YMG4mgUrb2nq"
    },
    {
      "cell_type": "code",
      "source": [
        "print(f\"Тренувальна послідовність: {train_pad_trunc_seq.shape}\\n\")\n",
        "print(f\"Валідаційна послідновність: {val_pad_trunc_seq.shape}\")"
      ],
      "metadata": {
        "colab": {
          "base_uri": "https://localhost:8080/"
        },
        "id": "_kmZtclQ35TI",
        "outputId": "862d7734-c8d7-43b1-db0a-8856f03aba26"
      },
      "id": "_kmZtclQ35TI",
      "execution_count": 32,
      "outputs": [
        {
          "output_type": "stream",
          "name": "stdout",
          "text": [
            "Тренувальна послідовність: (144000, 16)\n",
            "\n",
            "Валідаційна послідновність: (16000, 16)\n"
          ]
        }
      ]
    },
    {
      "cell_type": "markdown",
      "id": "corresponding-choir",
      "metadata": {
        "id": "corresponding-choir"
      },
      "source": [
        "# Використання попередньо визначених вбудовувань (Embeddings)\n",
        "\n",
        "Цього разу не будемо навчати вбудовування з даних, а будемо використовувати попередньо навчені вектори слів.\n",
        "\n",
        "Зокрема, будете використовувати 100-вимірну версію [GloVe](https://nlp.stanford.edu/projects/glove/) від Стенфорду."
      ]
    },
    {
      "cell_type": "code",
      "execution_count": 34,
      "id": "continental-pittsburgh",
      "metadata": {
        "id": "continental-pittsburgh"
      },
      "outputs": [],
      "source": [
        "# Define path to file containing the embeddings\n",
        "GLOVE_FILE = './data/glove.6B.100d.txt'\n",
        "\n",
        "# Initialize an empty embeddings index dictionary\n",
        "GLOVE_EMBEDDINGS = {}\n",
        "\n",
        "# Read file and fill GLOVE_EMBEDDINGS with its contents\n",
        "with open(GLOVE_FILE, encoding=\"utf-8\") as f:\n",
        "    for line in f:\n",
        "        values = line.split()\n",
        "        word = values[0]\n",
        "        coefs = np.asarray(values[1:], dtype='float32')\n",
        "        GLOVE_EMBEDDINGS[word] = coefs"
      ]
    },
    {
      "cell_type": "code",
      "execution_count": 35,
      "id": "awful-mouse",
      "metadata": {
        "colab": {
          "base_uri": "https://localhost:8080/"
        },
        "id": "awful-mouse",
        "outputId": "b9e82948-6210-45f8-c69a-cb616b00d83e"
      },
      "outputs": [
        {
          "output_type": "stream",
          "name": "stdout",
          "text": [
            "Векторна репрезентація `great` виглядає так:\n",
            "\n",
            "[-0.013786   0.38216    0.53236    0.15261   -0.29694   -0.20558\n",
            " -0.41846   -0.58437   -0.77355   -0.87866   -0.37858   -0.18516\n",
            " -0.128     -0.20584   -0.22925   -0.42599    0.3725     0.26077\n",
            " -1.0702     0.62916   -0.091469   0.70348   -0.4973    -0.77691\n",
            "  0.66045    0.09465   -0.44893    0.018917   0.33146   -0.35022\n",
            " -0.35789    0.030313   0.22253   -0.23236   -0.19719   -0.0053125\n",
            " -0.25848    0.58081   -0.10705   -0.17845   -0.16206    0.087086\n",
            "  0.63029   -0.76649    0.51619    0.14073    1.019     -0.43136\n",
            "  0.46138   -0.43585   -0.47568    0.19226    0.36065    0.78987\n",
            "  0.088945  -2.7814    -0.15366    0.01015    1.1798     0.15168\n",
            " -0.050112   1.2626    -0.77527    0.36031    0.95761   -0.11385\n",
            "  0.28035   -0.02591    0.31246   -0.15424    0.3778    -0.13599\n",
            "  0.2946    -0.31579    0.42943    0.086969   0.019169  -0.27242\n",
            " -0.31696    0.37327    0.61997    0.13889    0.17188    0.30363\n",
            " -1.2776     0.044423  -0.52736   -0.88536   -0.19428   -0.61947\n",
            " -0.10146   -0.26301   -0.061707   0.36627   -0.95223   -0.39346\n",
            " -0.69183   -1.0426     0.28855    0.63056  ]\n"
          ]
        }
      ],
      "source": [
        "test_word = 'great'\n",
        "\n",
        "test_vector = GLOVE_EMBEDDINGS[test_word]\n",
        "\n",
        "print(f\"Векторна репрезентація `{test_word}` виглядає так:\\n\\n{test_vector}\")"
      ]
    },
    {
      "cell_type": "code",
      "execution_count": 36,
      "id": "published-surgery",
      "metadata": {
        "colab": {
          "base_uri": "https://localhost:8080/"
        },
        "id": "published-surgery",
        "outputId": "e7fd051c-8ec8-4a34-ed2f-03e137a92332"
      },
      "outputs": [
        {
          "output_type": "stream",
          "name": "stdout",
          "text": [
            "Розмір слова: (100,)\n"
          ]
        }
      ],
      "source": [
        "print(f\"Розмір слова: {test_vector.shape}\")"
      ]
    },
    {
      "cell_type": "markdown",
      "id": "handy-chuck",
      "metadata": {
        "id": "handy-chuck"
      },
      "source": [
        "\n",
        "## Представлення слів у словнику за допомогою вбудовувань (Embeddings)\n",
        "\n",
        "Збережімо векторне представлення кожного слова у словнику в масиві numpy.\n",
        "\n",
        "Декілька речей, на які варто звернути увагу:\n",
        "- Якщо слово у вашому словнику відсутнє в `GLOVE_EMBEDDINGS`, представлення цього слова залишається як колонка нулів.\n",
        "- `word_index` починає рахувати з 1, тому потрібно буде додати додаткову колонку зліва в масиві `EMBEDDINGS_MATRIX`. Саме тому додаємо 1 до `VOCAB_SIZE` нижче:"
      ]
    },
    {
      "cell_type": "code",
      "source": [
        "EMBEDDING_DIM = 100\n",
        "\n",
        "# Initialize an empty numpy array with the appropriate size\n",
        "EMBEDDINGS_MATRIX = np.zeros((VOCAB_SIZE+1, EMBEDDING_DIM))\n",
        "EMBEDDINGS_MATRIX.shape\n"
      ],
      "metadata": {
        "colab": {
          "base_uri": "https://localhost:8080/"
        },
        "id": "sPv0GwQ75rEe",
        "outputId": "be5f7b86-8fcd-43c1-d4e1-c87b0c03d17c"
      },
      "id": "sPv0GwQ75rEe",
      "execution_count": 37,
      "outputs": [
        {
          "output_type": "execute_result",
          "data": {
            "text/plain": [
              "(128581, 100)"
            ]
          },
          "metadata": {},
          "execution_count": 37
        }
      ]
    },
    {
      "cell_type": "code",
      "execution_count": 38,
      "id": "crazy-process",
      "metadata": {
        "id": "crazy-process"
      },
      "outputs": [],
      "source": [
        "\n",
        "# Iterate all of the words in the vocabulary and if the vector representation for\n",
        "# each word exists within GloVe's representations, save it in the EMBEDDINGS_MATRIX array\n",
        "for word, i in word_index.items():\n",
        "    embedding_vector = GLOVE_EMBEDDINGS.get(word)\n",
        "    if embedding_vector is not None:\n",
        "        EMBEDDINGS_MATRIX[i] = embedding_vector"
      ]
    },
    {
      "cell_type": "code",
      "source": [
        "EMBEDDINGS_MATRIX[1:3]"
      ],
      "metadata": {
        "colab": {
          "base_uri": "https://localhost:8080/"
        },
        "id": "U1FnThqt53t-",
        "outputId": "be0037d1-7ac7-4e17-d6ca-dc9ebcf44d85"
      },
      "id": "U1FnThqt53t-",
      "execution_count": 40,
      "outputs": [
        {
          "output_type": "execute_result",
          "data": {
            "text/plain": [
              "array([[ 0.        ,  0.        ,  0.        ,  0.        ,  0.        ,\n",
              "         0.        ,  0.        ,  0.        ,  0.        ,  0.        ,\n",
              "         0.        ,  0.        ,  0.        ,  0.        ,  0.        ,\n",
              "         0.        ,  0.        ,  0.        ,  0.        ,  0.        ,\n",
              "         0.        ,  0.        ,  0.        ,  0.        ,  0.        ,\n",
              "         0.        ,  0.        ,  0.        ,  0.        ,  0.        ,\n",
              "         0.        ,  0.        ,  0.        ,  0.        ,  0.        ,\n",
              "         0.        ,  0.        ,  0.        ,  0.        ,  0.        ,\n",
              "         0.        ,  0.        ,  0.        ,  0.        ,  0.        ,\n",
              "         0.        ,  0.        ,  0.        ,  0.        ,  0.        ,\n",
              "         0.        ,  0.        ,  0.        ,  0.        ,  0.        ,\n",
              "         0.        ,  0.        ,  0.        ,  0.        ,  0.        ,\n",
              "         0.        ,  0.        ,  0.        ,  0.        ,  0.        ,\n",
              "         0.        ,  0.        ,  0.        ,  0.        ,  0.        ,\n",
              "         0.        ,  0.        ,  0.        ,  0.        ,  0.        ,\n",
              "         0.        ,  0.        ,  0.        ,  0.        ,  0.        ,\n",
              "         0.        ,  0.        ,  0.        ,  0.        ,  0.        ,\n",
              "         0.        ,  0.        ,  0.        ,  0.        ,  0.        ,\n",
              "         0.        ,  0.        ,  0.        ,  0.        ,  0.        ,\n",
              "         0.        ,  0.        ,  0.        ,  0.        ,  0.        ],\n",
              "       [-0.046539  ,  0.61966002,  0.56647003, -0.46584001, -1.18900001,\n",
              "         0.44599   ,  0.066035  ,  0.31909999,  0.14679   , -0.22119001,\n",
              "         0.79238999,  0.29905   ,  0.16073   ,  0.025324  ,  0.18678001,\n",
              "        -0.31000999, -0.28108001,  0.60514998, -1.0654    ,  0.52476001,\n",
              "         0.064152  ,  1.03579998, -0.40779001, -0.38011   ,  0.30801001,\n",
              "         0.59964001, -0.26991001, -0.76034999,  0.94221997, -0.46919   ,\n",
              "        -0.18278   ,  0.90652001,  0.79671001,  0.24824999,  0.25713   ,\n",
              "         0.6232    , -0.44768   ,  0.65357   ,  0.76902002, -0.51229   ,\n",
              "        -0.44332999, -0.21867   ,  0.38370001, -1.14830005, -0.94397998,\n",
              "        -0.15062   ,  0.30012   , -0.57805997,  0.20175   , -1.65910006,\n",
              "        -0.079195  ,  0.026423  ,  0.22051001,  0.99713999, -0.57538998,\n",
              "        -2.72659993,  0.31448001,  0.70521998,  1.43809998,  0.99125999,\n",
              "         0.13976   ,  1.34739995, -1.1753    ,  0.0039503 ,  1.02980006,\n",
              "         0.064637  ,  0.90886998,  0.82871997, -0.47003001, -0.10575   ,\n",
              "         0.5916    , -0.42210001,  0.57331002, -0.54114002,  0.10768   ,\n",
              "         0.39783999, -0.048744  ,  0.064596  , -0.61436999, -0.28600001,\n",
              "         0.50669998, -0.49757999, -0.81569999,  0.16407999, -1.96300006,\n",
              "        -0.26693001, -0.37593001, -0.95846999, -0.85839999, -0.71577001,\n",
              "        -0.32343   , -0.43121001,  0.41391999,  0.28374001, -0.70931   ,\n",
              "         0.15003   , -0.2154    , -0.37616   , -0.032502  ,  0.80620003]])"
            ]
          },
          "metadata": {},
          "execution_count": 40
        }
      ]
    },
    {
      "cell_type": "markdown",
      "id": "missing-solution",
      "metadata": {
        "id": "missing-solution"
      },
      "source": [
        "\n",
        "## **Модель**\n",
        "\n",
        "Декілька речей, на які варто звернути увагу / підказки:\n",
        "- Перший шар надається, щоб ви могли побачити, як налаштований шар вбудовування при використанні попередньо навчених вбудовувань.\n",
        "- Ви можете спробувати різні комбінації шарів, таких як:\n",
        "    - `Conv1D`\n",
        "    - `Dropout`\n",
        "    - `GlobalMaxPooling1D`    \n",
        "    - `MaxPooling1D`    \n",
        "    - `LSTM`    \n",
        "    - `Bidirectional(LSTM)`\n",
        "\n",
        "- Останні шари повинні бути `Dense` шарами.\n",
        "\n",
        "- Спробуйте архітектуру, яка, на вашу думку, не буде перенавчатися.\n",
        "\n",
        "- Спочатку спробуйте простіші архітектури, щоб уникнути тривалого часу навчання. Архітектури, які здатні вирішити цю проблему, зазвичай мають близько 3-4 шарів (не враховуючи останні два `Dense` шари).\n",
        "\n",
        "- Включіть принаймні один шар `Dropout`, щоб запобігти перенавчанню.\n"
      ]
    },
    {
      "cell_type": "markdown",
      "source": [
        "![image](https://www.researchgate.net/publication/358477638/figure/fig2/AS:1121638762459137@1644430928439/The-three-architectures-which-are-LSTM-GRU-RNN-models-are-illustrated-Except-LSTM.ppm)\n"
      ],
      "metadata": {
        "id": "lOmQGoufhVA_"
      },
      "id": "lOmQGoufhVA_"
    },
    {
      "cell_type": "code",
      "source": [
        "\n",
        "model = tf.keras.Sequential([\n",
        "    # This is how you need to set the Embedding layer when using pre-trained embeddings\n",
        "    tf.keras.layers.Embedding(VOCAB_SIZE+1, EMBEDDING_DIM, input_length=MAXLEN,\n",
        "                              weights=[EMBEDDINGS_MATRIX], trainable=False),\n",
        "    tf.keras.layers.Conv1D(filters=64, kernel_size=5, activation=\"relu\"),\n",
        "    tf.keras.layers.MaxPooling1D(2),\n",
        "    tf.keras.layers.Dropout(0.3),\n",
        "    tf.keras.layers.Bidirectional(tf.keras.layers.LSTM(16)),\n",
        "    tf.keras.layers.Dropout(0.3),\n",
        "    tf.keras.layers.Dense(16, activation=\"relu\"),\n",
        "    tf.keras.layers.Dropout(0.3),\n",
        "    tf.keras.layers.Dense(1, activation=\"sigmoid\")\n",
        "])\n"
      ],
      "metadata": {
        "id": "MT046EMy7IuC"
      },
      "id": "MT046EMy7IuC",
      "execution_count": 41,
      "outputs": []
    },
    {
      "cell_type": "code",
      "execution_count": 42,
      "id": "representative-taylor",
      "metadata": {
        "id": "representative-taylor"
      },
      "outputs": [],
      "source": [
        "model.compile(loss=tf.losses.binary_crossentropy,\n",
        "              optimizer=tf.optimizers.Adam(),\n",
        "              metrics=['accuracy'])\n"
      ]
    },
    {
      "cell_type": "code",
      "source": [
        "print(model.summary())\n"
      ],
      "metadata": {
        "colab": {
          "base_uri": "https://localhost:8080/"
        },
        "id": "i_09Sc0_7bjf",
        "outputId": "f55d2bb5-265e-4c59-f119-ab4f159a95a2"
      },
      "id": "i_09Sc0_7bjf",
      "execution_count": 44,
      "outputs": [
        {
          "output_type": "stream",
          "name": "stdout",
          "text": [
            "Model: \"sequential\"\n",
            "_________________________________________________________________\n",
            " Layer (type)                Output Shape              Param #   \n",
            "=================================================================\n",
            " embedding (Embedding)       (None, 16, 100)           12858100  \n",
            "                                                                 \n",
            " conv1d (Conv1D)             (None, 12, 64)            32064     \n",
            "                                                                 \n",
            " max_pooling1d (MaxPooling1D  (None, 6, 64)            0         \n",
            " )                                                               \n",
            "                                                                 \n",
            " dropout (Dropout)           (None, 6, 64)             0         \n",
            "                                                                 \n",
            " bidirectional (Bidirectiona  (None, 32)               10368     \n",
            " l)                                                              \n",
            "                                                                 \n",
            " dropout_1 (Dropout)         (None, 32)                0         \n",
            "                                                                 \n",
            " dense (Dense)               (None, 16)                528       \n",
            "                                                                 \n",
            " dropout_2 (Dropout)         (None, 16)                0         \n",
            "                                                                 \n",
            " dense_1 (Dense)             (None, 1)                 17        \n",
            "                                                                 \n",
            "=================================================================\n",
            "Total params: 12,901,077\n",
            "Trainable params: 42,977\n",
            "Non-trainable params: 12,858,100\n",
            "_________________________________________________________________\n",
            "None\n"
          ]
        }
      ]
    },
    {
      "cell_type": "code",
      "execution_count": 45,
      "id": "explicit-tokyo",
      "metadata": {
        "colab": {
          "base_uri": "https://localhost:8080/"
        },
        "id": "explicit-tokyo",
        "outputId": "178b1b01-5f6a-4cd9-dded-faeae703c3eb"
      },
      "outputs": [
        {
          "output_type": "stream",
          "name": "stdout",
          "text": [
            "Epoch 1/20\n",
            "4500/4500 [==============================] - 44s 7ms/step - loss: 0.5774 - accuracy: 0.6969 - val_loss: 0.5525 - val_accuracy: 0.7129\n",
            "Epoch 2/20\n",
            "4500/4500 [==============================] - 32s 7ms/step - loss: 0.5368 - accuracy: 0.7297 - val_loss: 0.5170 - val_accuracy: 0.7426\n",
            "Epoch 3/20\n",
            "4500/4500 [==============================] - 30s 7ms/step - loss: 0.5221 - accuracy: 0.7417 - val_loss: 0.5062 - val_accuracy: 0.7516\n",
            "Epoch 4/20\n",
            "4500/4500 [==============================] - 31s 7ms/step - loss: 0.5108 - accuracy: 0.7493 - val_loss: 0.5051 - val_accuracy: 0.7493\n",
            "Epoch 5/20\n",
            "4500/4500 [==============================] - 31s 7ms/step - loss: 0.5011 - accuracy: 0.7550 - val_loss: 0.5128 - val_accuracy: 0.7406\n",
            "Epoch 6/20\n",
            "4500/4500 [==============================] - 29s 6ms/step - loss: 0.4958 - accuracy: 0.7596 - val_loss: 0.5029 - val_accuracy: 0.7525\n",
            "Epoch 7/20\n",
            "4500/4500 [==============================] - 29s 7ms/step - loss: 0.4892 - accuracy: 0.7640 - val_loss: 0.5128 - val_accuracy: 0.7463\n",
            "Epoch 8/20\n",
            "4500/4500 [==============================] - 29s 6ms/step - loss: 0.4826 - accuracy: 0.7676 - val_loss: 0.5159 - val_accuracy: 0.7473\n",
            "Epoch 9/20\n",
            "4500/4500 [==============================] - 30s 7ms/step - loss: 0.4801 - accuracy: 0.7700 - val_loss: 0.4967 - val_accuracy: 0.7577\n",
            "Epoch 10/20\n",
            "4500/4500 [==============================] - 30s 7ms/step - loss: 0.4748 - accuracy: 0.7723 - val_loss: 0.5007 - val_accuracy: 0.7533\n",
            "Epoch 11/20\n",
            "4500/4500 [==============================] - 35s 8ms/step - loss: 0.4720 - accuracy: 0.7739 - val_loss: 0.5036 - val_accuracy: 0.7502\n",
            "Epoch 12/20\n",
            "4500/4500 [==============================] - 30s 7ms/step - loss: 0.4686 - accuracy: 0.7763 - val_loss: 0.5032 - val_accuracy: 0.7538\n",
            "Epoch 13/20\n",
            "4500/4500 [==============================] - 31s 7ms/step - loss: 0.4650 - accuracy: 0.7795 - val_loss: 0.4965 - val_accuracy: 0.7561\n",
            "Epoch 14/20\n",
            "4500/4500 [==============================] - 32s 7ms/step - loss: 0.4629 - accuracy: 0.7799 - val_loss: 0.5020 - val_accuracy: 0.7562\n",
            "Epoch 15/20\n",
            "4500/4500 [==============================] - 31s 7ms/step - loss: 0.4591 - accuracy: 0.7839 - val_loss: 0.5014 - val_accuracy: 0.7520\n",
            "Epoch 16/20\n",
            "4500/4500 [==============================] - 30s 7ms/step - loss: 0.4569 - accuracy: 0.7839 - val_loss: 0.5054 - val_accuracy: 0.7528\n",
            "Epoch 17/20\n",
            "4500/4500 [==============================] - 31s 7ms/step - loss: 0.4553 - accuracy: 0.7862 - val_loss: 0.5043 - val_accuracy: 0.7569\n",
            "Epoch 18/20\n",
            "4500/4500 [==============================] - 29s 6ms/step - loss: 0.4520 - accuracy: 0.7881 - val_loss: 0.5018 - val_accuracy: 0.7548\n",
            "Epoch 19/20\n",
            "4500/4500 [==============================] - 29s 6ms/step - loss: 0.4503 - accuracy: 0.7871 - val_loss: 0.5106 - val_accuracy: 0.7527\n",
            "Epoch 20/20\n",
            "4500/4500 [==============================] - 30s 7ms/step - loss: 0.4497 - accuracy: 0.7887 - val_loss: 0.5077 - val_accuracy: 0.7516\n"
          ]
        }
      ],
      "source": [
        "# Train the model and save the training history\n",
        "history = model.fit(train_pad_trunc_seq,\n",
        "                    train_labels,\n",
        "                    epochs=20,\n",
        "                    validation_data=(val_pad_trunc_seq, val_labels))\n"
      ]
    },
    {
      "cell_type": "code",
      "execution_count": 46,
      "id": "golden-stretch",
      "metadata": {
        "colab": {
          "base_uri": "https://localhost:8080/",
          "height": 718
        },
        "id": "golden-stretch",
        "outputId": "8404bc09-17f9-4f30-e0d9-f359477fc7d9"
      },
      "outputs": [
        {
          "output_type": "display_data",
          "data": {
            "text/plain": [
              "<Figure size 1500x800 with 1 Axes>"
            ],
            "image/png": "[encoded data removed]"
          },
          "metadata": {}
        }
      ],
      "source": [
        "loss = history.history['loss']\n",
        "val_loss = history.history['val_loss']\n",
        "\n",
        "epochs = np.arange(1, len(loss) + 1)\n",
        "\n",
        "plt.figure(figsize=(15, 8))\n",
        "plt.plot(epochs, loss, 'r')\n",
        "plt.plot(epochs, val_loss, 'b')\n",
        "plt.title('Training and validation loss')\n",
        "plt.grid()\n",
        "plt.xlabel(\"Epochs\")\n",
        "plt.ylabel(\"Loss\")\n",
        "plt.legend([\"Loss\", \"Validation Loss\"])\n",
        "plt.show()\n"
      ]
    },
    {
      "cell_type": "code",
      "execution_count": 47,
      "id": "controlling-climb",
      "metadata": {
        "colab": {
          "base_uri": "https://localhost:8080/",
          "height": 718
        },
        "id": "controlling-climb",
        "outputId": "6ac9dd78-1e31-4d8b-97d6-9ed56169f8ea"
      },
      "outputs": [
        {
          "output_type": "display_data",
          "data": {
            "text/plain": [
              "<Figure size 1500x800 with 1 Axes>"
            ],
            "image/png": "[encoded data removed]"
          },
          "metadata": {}
        }
      ],
      "source": [
        "acc = history.history['accuracy']\n",
        "val_acc = history.history['val_accuracy']\n",
        "\n",
        "plt.figure(figsize=(15, 8))\n",
        "plt.plot(epochs, acc, 'r')\n",
        "plt.plot(epochs, val_acc, 'b')\n",
        "plt.title('Training and validation accuracy')\n",
        "plt.grid()\n",
        "plt.xlabel(\"Epochs\")\n",
        "plt.ylabel(\"Accuracy\")\n",
        "plt.legend([\"Accuracy\", \"Validation Accuracy\"])\n",
        "plt.show()"
      ]
    },
    {
      "cell_type": "code",
      "source": [
        "preds = model.predict(val_pad_trunc_seq)"
      ],
      "metadata": {
        "colab": {
          "base_uri": "https://localhost:8080/"
        },
        "id": "5hkRxn2o8UYa",
        "outputId": "313d4b72-0f4b-4dca-9850-d3950dcccd51"
      },
      "id": "5hkRxn2o8UYa",
      "execution_count": 48,
      "outputs": [
        {
          "output_type": "stream",
          "name": "stdout",
          "text": [
            "500/500 [==============================] - 2s 3ms/step\n"
          ]
        }
      ]
    },
    {
      "cell_type": "code",
      "source": [
        "preds_df = pd.DataFrame(preds, columns=[\"pred\"])\n",
        "preds_df\n"
      ],
      "metadata": {
        "colab": {
          "base_uri": "https://localhost:8080/",
          "height": 424
        },
        "id": "tzkxq5M88UnL",
        "outputId": "8beb84b3-db54-4fc4-e520-332927d38460"
      },
      "id": "tzkxq5M88UnL",
      "execution_count": 50,
      "outputs": [
        {
          "output_type": "execute_result",
          "data": {
            "text/plain": [
              "           pred\n",
              "0      0.943480\n",
              "1      0.649760\n",
              "2      0.321761\n",
              "3      0.020683\n",
              "4      0.056026\n",
              "...         ...\n",
              "15995  0.404304\n",
              "15996  0.080315\n",
              "15997  0.762585\n",
              "15998  0.619079\n",
              "15999  0.090815\n",
              "\n",
              "[16000 rows x 1 columns]"
            ],
            "text/html": [
              "\n",
              "  <div id=\"df-d4c8753f-4274-40cb-a3c4-9e8c66c3ffea\" class=\"colab-df-container\">\n",
              "    <div>\n",
              "<style scoped>\n",
              "    .dataframe tbody tr th:only-of-type {\n",
              "        vertical-align: middle;\n",
              "    }\n",
              "\n",
              "    .dataframe tbody tr th {\n",
              "        vertical-align: top;\n",
              "    }\n",
              "\n",
              "    .dataframe thead th {\n",
              "        text-align: right;\n",
              "    }\n",
              "</style>\n",
              "<table border=\"1\" class=\"dataframe\">\n",
              "  <thead>\n",
              "    <tr style=\"text-align: right;\">\n",
              "      <th></th>\n",
              "      <th>pred</th>\n",
              "    </tr>\n",
              "  </thead>\n",
              "  <tbody>\n",
              "    <tr>\n",
              "      <th>0</th>\n",
              "      <td>0.943480</td>\n",
              "    </tr>\n",
              "    <tr>\n",
              "      <th>1</th>\n",
              "      <td>0.649760</td>\n",
              "    </tr>\n",
              "    <tr>\n",
              "      <th>2</th>\n",
              "      <td>0.321761</td>\n",
              "    </tr>\n",
              "    <tr>\n",
              "      <th>3</th>\n",
              "      <td>0.020683</td>\n",
              "    </tr>\n",
              "    <tr>\n",
              "      <th>4</th>\n",
              "      <td>0.056026</td>\n",
              "    </tr>\n",
              "    <tr>\n",
              "      <th>...</th>\n",
              "      <td>...</td>\n",
              "    </tr>\n",
              "    <tr>\n",
              "      <th>15995</th>\n",
              "      <td>0.404304</td>\n",
              "    </tr>\n",
              "    <tr>\n",
              "      <th>15996</th>\n",
              "      <td>0.080315</td>\n",
              "    </tr>\n",
              "    <tr>\n",
              "      <th>15997</th>\n",
              "      <td>0.762585</td>\n",
              "    </tr>\n",
              "    <tr>\n",
              "      <th>15998</th>\n",
              "      <td>0.619079</td>\n",
              "    </tr>\n",
              "    <tr>\n",
              "      <th>15999</th>\n",
              "      <td>0.090815</td>\n",
              "    </tr>\n",
              "  </tbody>\n",
              "</table>\n",
              "<p>16000 rows × 1 columns</p>\n",
              "</div>\n",
              "    <div class=\"colab-df-buttons\">\n",
              "\n",
              "  <div class=\"colab-df-container\">\n",
              "    <button class=\"colab-df-convert\" onclick=\"convertToInteractive('df-d4c8753f-4274-40cb-a3c4-9e8c66c3ffea')\"\n",
              "            title=\"Convert this dataframe to an interactive table.\"\n",
              "            style=\"display:none;\">\n",
              "\n",
              "  <svg xmlns=\"http://www.w3.org/2000/svg\" height=\"24px\" viewBox=\"0 -960 960 960\">\n",
              "    <path d=\"M120-120v-720h720v720H120Zm60-500h600v-160H180v160Zm220 220h160v-160H400v160Zm0 220h160v-160H400v160ZM180-400h160v-160H180v160Zm440 0h160v-160H620v160ZM180-180h160v-160H180v160Zm440 0h160v-160H620v160Z\"/>\n",
              "  </svg>\n",
              "    </button>\n",
              "\n",
              "  <style>\n",
              "    .colab-df-container {\n",
              "      display:flex;\n",
              "      gap: 12px;\n",
              "    }\n",
              "\n",
              "    .colab-df-convert {\n",
              "      background-color: #E8F0FE;\n",
              "      border: none;\n",
              "      border-radius: 50%;\n",
              "      cursor: pointer;\n",
              "      display: none;\n",
              "      fill: #1967D2;\n",
              "      height: 32px;\n",
              "      padding: 0 0 0 0;\n",
              "      width: 32px;\n",
              "    }\n",
              "\n",
              "    .colab-df-convert:hover {\n",
              "      background-color: #E2EBFA;\n",
              "      box-shadow: 0px 1px 2px rgba(60, 64, 67, 0.3), 0px 1px 3px 1px rgba(60, 64, 67, 0.15);\n",
              "      fill: #174EA6;\n",
              "    }\n",
              "\n",
              "    .colab-df-buttons div {\n",
              "      margin-bottom: 4px;\n",
              "    }\n",
              "\n",
              "    [theme=dark] .colab-df-convert {\n",
              "      background-color: #3B4455;\n",
              "      fill: #D2E3FC;\n",
              "    }\n",
              "\n",
              "    [theme=dark] .colab-df-convert:hover {\n",
              "      background-color: #434B5C;\n",
              "      box-shadow: 0px 1px 3px 1px rgba(0, 0, 0, 0.15);\n",
              "      filter: drop-shadow(0px 1px 2px rgba(0, 0, 0, 0.3));\n",
              "      fill: #FFFFFF;\n",
              "    }\n",
              "  </style>\n",
              "\n",
              "    <script>\n",
              "      const buttonEl =\n",
              "        document.querySelector('#df-d4c8753f-4274-40cb-a3c4-9e8c66c3ffea button.colab-df-convert');\n",
              "      buttonEl.style.display =\n",
              "        google.colab.kernel.accessAllowed ? 'block' : 'none';\n",
              "\n",
              "      async function convertToInteractive(key) {\n",
              "        const element = document.querySelector('#df-d4c8753f-4274-40cb-a3c4-9e8c66c3ffea');\n",
              "        const dataTable =\n",
              "          await google.colab.kernel.invokeFunction('convertToInteractive',\n",
              "                                                    [key], {});\n",
              "        if (!dataTable) return;\n",
              "\n",
              "        const docLinkHtml = 'Like what you see? Visit the ' +\n",
              "          '<a target=\"_blank\" href=https://colab.research.google.com/notebooks/data_table.ipynb>data table notebook</a>'\n",
              "          + ' to learn more about interactive tables.';\n",
              "        element.innerHTML = '';\n",
              "        dataTable['output_type'] = 'display_data';\n",
              "        await google.colab.output.renderOutput(dataTable, element);\n",
              "        const docLink = document.createElement('div');\n",
              "        docLink.innerHTML = docLinkHtml;\n",
              "        element.appendChild(docLink);\n",
              "      }\n",
              "    </script>\n",
              "  </div>\n",
              "\n",
              "\n",
              "<div id=\"df-dfce1f81-11c0-460f-a421-3af844a70fbc\">\n",
              "  <button class=\"colab-df-quickchart\" onclick=\"quickchart('df-dfce1f81-11c0-460f-a421-3af844a70fbc')\"\n",
              "            title=\"Suggest charts.\"\n",
              "            style=\"display:none;\">\n",
              "\n",
              "<svg xmlns=\"http://www.w3.org/2000/svg\" height=\"24px\"viewBox=\"0 0 24 24\"\n",
              "     width=\"24px\">\n",
              "    <g>\n",
              "        <path d=\"M19 3H5c-1.1 0-2 .9-2 2v14c0 1.1.9 2 2 2h14c1.1 0 2-.9 2-2V5c0-1.1-.9-2-2-2zM9 17H7v-7h2v7zm4 0h-2V7h2v10zm4 0h-2v-4h2v4z\"/>\n",
              "    </g>\n",
              "</svg>\n",
              "  </button>\n",
              "\n",
              "<style>\n",
              "  .colab-df-quickchart {\n",
              "      --bg-color: #E8F0FE;\n",
              "      --fill-color: #1967D2;\n",
              "      --hover-bg-color: #E2EBFA;\n",
              "      --hover-fill-color: #174EA6;\n",
              "      --disabled-fill-color: #AAA;\n",
              "      --disabled-bg-color: #DDD;\n",
              "  }\n",
              "\n",
              "  [theme=dark] .colab-df-quickchart {\n",
              "      --bg-color: #3B4455;\n",
              "      --fill-color: #D2E3FC;\n",
              "      --hover-bg-color: #434B5C;\n",
              "      --hover-fill-color: #FFFFFF;\n",
              "      --disabled-bg-color: #3B4455;\n",
              "      --disabled-fill-color: #666;\n",
              "  }\n",
              "\n",
              "  .colab-df-quickchart {\n",
              "    background-color: var(--bg-color);\n",
              "    border: none;\n",
              "    border-radius: 50%;\n",
              "    cursor: pointer;\n",
              "    display: none;\n",
              "    fill: var(--fill-color);\n",
              "    height: 32px;\n",
              "    padding: 0;\n",
              "    width: 32px;\n",
              "  }\n",
              "\n",
              "  .colab-df-quickchart:hover {\n",
              "    background-color: var(--hover-bg-color);\n",
              "    box-shadow: 0 1px 2px rgba(60, 64, 67, 0.3), 0 1px 3px 1px rgba(60, 64, 67, 0.15);\n",
              "    fill: var(--button-hover-fill-color);\n",
              "  }\n",
              "\n",
              "  .colab-df-quickchart-complete:disabled,\n",
              "  .colab-df-quickchart-complete:disabled:hover {\n",
              "    background-color: var(--disabled-bg-color);\n",
              "    fill: var(--disabled-fill-color);\n",
              "    box-shadow: none;\n",
              "  }\n",
              "\n",
              "  .colab-df-spinner {\n",
              "    border: 2px solid var(--fill-color);\n",
              "    border-color: transparent;\n",
              "    border-bottom-color: var(--fill-color);\n",
              "    animation:\n",
              "      spin 1s steps(1) infinite;\n",
              "  }\n",
              "\n",
              "  @keyframes spin {\n",
              "    0% {\n",
              "      border-color: transparent;\n",
              "      border-bottom-color: var(--fill-color);\n",
              "      border-left-color: var(--fill-color);\n",
              "    }\n",
              "    20% {\n",
              "      border-color: transparent;\n",
              "      border-left-color: var(--fill-color);\n",
              "      border-top-color: var(--fill-color);\n",
              "    }\n",
              "    30% {\n",
              "      border-color: transparent;\n",
              "      border-left-color: var(--fill-color);\n",
              "      border-top-color: var(--fill-color);\n",
              "      border-right-color: var(--fill-color);\n",
              "    }\n",
              "    40% {\n",
              "      border-color: transparent;\n",
              "      border-right-color: var(--fill-color);\n",
              "      border-top-color: var(--fill-color);\n",
              "    }\n",
              "    60% {\n",
              "      border-color: transparent;\n",
              "      border-right-color: var(--fill-color);\n",
              "    }\n",
              "    80% {\n",
              "      border-color: transparent;\n",
              "      border-right-color: var(--fill-color);\n",
              "      border-bottom-color: var(--fill-color);\n",
              "    }\n",
              "    90% {\n",
              "      border-color: transparent;\n",
              "      border-bottom-color: var(--fill-color);\n",
              "    }\n",
              "  }\n",
              "</style>\n",
              "\n",
              "  <script>\n",
              "    async function quickchart(key) {\n",
              "      const quickchartButtonEl =\n",
              "        document.querySelector('#' + key + ' button');\n",
              "      quickchartButtonEl.disabled = true;  // To prevent multiple clicks.\n",
              "      quickchartButtonEl.classList.add('colab-df-spinner');\n",
              "      try {\n",
              "        const charts = await google.colab.kernel.invokeFunction(\n",
              "            'suggestCharts', [key], {});\n",
              "      } catch (error) {\n",
              "        console.error('Error during call to suggestCharts:', error);\n",
              "      }\n",
              "      quickchartButtonEl.classList.remove('colab-df-spinner');\n",
              "      quickchartButtonEl.classList.add('colab-df-quickchart-complete');\n",
              "    }\n",
              "    (() => {\n",
              "      let quickchartButtonEl =\n",
              "        document.querySelector('#df-dfce1f81-11c0-460f-a421-3af844a70fbc button');\n",
              "      quickchartButtonEl.style.display =\n",
              "        google.colab.kernel.accessAllowed ? 'block' : 'none';\n",
              "    })();\n",
              "  </script>\n",
              "</div>\n",
              "    </div>\n",
              "  </div>\n"
            ]
          },
          "metadata": {},
          "execution_count": 50
        }
      ]
    },
    {
      "cell_type": "code",
      "source": [
        "preds_df.describe()"
      ],
      "metadata": {
        "colab": {
          "base_uri": "https://localhost:8080/",
          "height": 300
        },
        "id": "Egk0qDdEjJaz",
        "outputId": "1b871839-29f1-4de3-f8c5-cb057a2fa7b0"
      },
      "id": "Egk0qDdEjJaz",
      "execution_count": 51,
      "outputs": [
        {
          "output_type": "execute_result",
          "data": {
            "text/plain": [
              "               pred\n",
              "count  16000.000000\n",
              "mean       0.529230\n",
              "std        0.311227\n",
              "min        0.001452\n",
              "25%        0.255297\n",
              "50%        0.532777\n",
              "75%        0.813108\n",
              "max        0.998245"
            ],
            "text/html": [
              "\n",
              "  <div id=\"df-161dadeb-9714-4e12-b470-0fda7d8e3d98\" class=\"colab-df-container\">\n",
              "    <div>\n",
              "<style scoped>\n",
              "    .dataframe tbody tr th:only-of-type {\n",
              "        vertical-align: middle;\n",
              "    }\n",
              "\n",
              "    .dataframe tbody tr th {\n",
              "        vertical-align: top;\n",
              "    }\n",
              "\n",
              "    .dataframe thead th {\n",
              "        text-align: right;\n",
              "    }\n",
              "</style>\n",
              "<table border=\"1\" class=\"dataframe\">\n",
              "  <thead>\n",
              "    <tr style=\"text-align: right;\">\n",
              "      <th></th>\n",
              "      <th>pred</th>\n",
              "    </tr>\n",
              "  </thead>\n",
              "  <tbody>\n",
              "    <tr>\n",
              "      <th>count</th>\n",
              "      <td>16000.000000</td>\n",
              "    </tr>\n",
              "    <tr>\n",
              "      <th>mean</th>\n",
              "      <td>0.529230</td>\n",
              "    </tr>\n",
              "    <tr>\n",
              "      <th>std</th>\n",
              "      <td>0.311227</td>\n",
              "    </tr>\n",
              "    <tr>\n",
              "      <th>min</th>\n",
              "      <td>0.001452</td>\n",
              "    </tr>\n",
              "    <tr>\n",
              "      <th>25%</th>\n",
              "      <td>0.255297</td>\n",
              "    </tr>\n",
              "    <tr>\n",
              "      <th>50%</th>\n",
              "      <td>0.532777</td>\n",
              "    </tr>\n",
              "    <tr>\n",
              "      <th>75%</th>\n",
              "      <td>0.813108</td>\n",
              "    </tr>\n",
              "    <tr>\n",
              "      <th>max</th>\n",
              "      <td>0.998245</td>\n",
              "    </tr>\n",
              "  </tbody>\n",
              "</table>\n",
              "</div>\n",
              "    <div class=\"colab-df-buttons\">\n",
              "\n",
              "  <div class=\"colab-df-container\">\n",
              "    <button class=\"colab-df-convert\" onclick=\"convertToInteractive('df-161dadeb-9714-4e12-b470-0fda7d8e3d98')\"\n",
              "            title=\"Convert this dataframe to an interactive table.\"\n",
              "            style=\"display:none;\">\n",
              "\n",
              "  <svg xmlns=\"http://www.w3.org/2000/svg\" height=\"24px\" viewBox=\"0 -960 960 960\">\n",
              "    <path d=\"M120-120v-720h720v720H120Zm60-500h600v-160H180v160Zm220 220h160v-160H400v160Zm0 220h160v-160H400v160ZM180-400h160v-160H180v160Zm440 0h160v-160H620v160ZM180-180h160v-160H180v160Zm440 0h160v-160H620v160Z\"/>\n",
              "  </svg>\n",
              "    </button>\n",
              "\n",
              "  <style>\n",
              "    .colab-df-container {\n",
              "      display:flex;\n",
              "      gap: 12px;\n",
              "    }\n",
              "\n",
              "    .colab-df-convert {\n",
              "      background-color: #E8F0FE;\n",
              "      border: none;\n",
              "      border-radius: 50%;\n",
              "      cursor: pointer;\n",
              "      display: none;\n",
              "      fill: #1967D2;\n",
              "      height: 32px;\n",
              "      padding: 0 0 0 0;\n",
              "      width: 32px;\n",
              "    }\n",
              "\n",
              "    .colab-df-convert:hover {\n",
              "      background-color: #E2EBFA;\n",
              "      box-shadow: 0px 1px 2px rgba(60, 64, 67, 0.3), 0px 1px 3px 1px rgba(60, 64, 67, 0.15);\n",
              "      fill: #174EA6;\n",
              "    }\n",
              "\n",
              "    .colab-df-buttons div {\n",
              "      margin-bottom: 4px;\n",
              "    }\n",
              "\n",
              "    [theme=dark] .colab-df-convert {\n",
              "      background-color: #3B4455;\n",
              "      fill: #D2E3FC;\n",
              "    }\n",
              "\n",
              "    [theme=dark] .colab-df-convert:hover {\n",
              "      background-color: #434B5C;\n",
              "      box-shadow: 0px 1px 3px 1px rgba(0, 0, 0, 0.15);\n",
              "      filter: drop-shadow(0px 1px 2px rgba(0, 0, 0, 0.3));\n",
              "      fill: #FFFFFF;\n",
              "    }\n",
              "  </style>\n",
              "\n",
              "    <script>\n",
              "      const buttonEl =\n",
              "        document.querySelector('#df-161dadeb-9714-4e12-b470-0fda7d8e3d98 button.colab-df-convert');\n",
              "      buttonEl.style.display =\n",
              "        google.colab.kernel.accessAllowed ? 'block' : 'none';\n",
              "\n",
              "      async function convertToInteractive(key) {\n",
              "        const element = document.querySelector('#df-161dadeb-9714-4e12-b470-0fda7d8e3d98');\n",
              "        const dataTable =\n",
              "          await google.colab.kernel.invokeFunction('convertToInteractive',\n",
              "                                                    [key], {});\n",
              "        if (!dataTable) return;\n",
              "\n",
              "        const docLinkHtml = 'Like what you see? Visit the ' +\n",
              "          '<a target=\"_blank\" href=https://colab.research.google.com/notebooks/data_table.ipynb>data table notebook</a>'\n",
              "          + ' to learn more about interactive tables.';\n",
              "        element.innerHTML = '';\n",
              "        dataTable['output_type'] = 'display_data';\n",
              "        await google.colab.output.renderOutput(dataTable, element);\n",
              "        const docLink = document.createElement('div');\n",
              "        docLink.innerHTML = docLinkHtml;\n",
              "        element.appendChild(docLink);\n",
              "      }\n",
              "    </script>\n",
              "  </div>\n",
              "\n",
              "\n",
              "<div id=\"df-3daba0eb-40d7-4954-8265-a6973f27c904\">\n",
              "  <button class=\"colab-df-quickchart\" onclick=\"quickchart('df-3daba0eb-40d7-4954-8265-a6973f27c904')\"\n",
              "            title=\"Suggest charts.\"\n",
              "            style=\"display:none;\">\n",
              "\n",
              "<svg xmlns=\"http://www.w3.org/2000/svg\" height=\"24px\"viewBox=\"0 0 24 24\"\n",
              "     width=\"24px\">\n",
              "    <g>\n",
              "        <path d=\"M19 3H5c-1.1 0-2 .9-2 2v14c0 1.1.9 2 2 2h14c1.1 0 2-.9 2-2V5c0-1.1-.9-2-2-2zM9 17H7v-7h2v7zm4 0h-2V7h2v10zm4 0h-2v-4h2v4z\"/>\n",
              "    </g>\n",
              "</svg>\n",
              "  </button>\n",
              "\n",
              "<style>\n",
              "  .colab-df-quickchart {\n",
              "      --bg-color: #E8F0FE;\n",
              "      --fill-color: #1967D2;\n",
              "      --hover-bg-color: #E2EBFA;\n",
              "      --hover-fill-color: #174EA6;\n",
              "      --disabled-fill-color: #AAA;\n",
              "      --disabled-bg-color: #DDD;\n",
              "  }\n",
              "\n",
              "  [theme=dark] .colab-df-quickchart {\n",
              "      --bg-color: #3B4455;\n",
              "      --fill-color: #D2E3FC;\n",
              "      --hover-bg-color: #434B5C;\n",
              "      --hover-fill-color: #FFFFFF;\n",
              "      --disabled-bg-color: #3B4455;\n",
              "      --disabled-fill-color: #666;\n",
              "  }\n",
              "\n",
              "  .colab-df-quickchart {\n",
              "    background-color: var(--bg-color);\n",
              "    border: none;\n",
              "    border-radius: 50%;\n",
              "    cursor: pointer;\n",
              "    display: none;\n",
              "    fill: var(--fill-color);\n",
              "    height: 32px;\n",
              "    padding: 0;\n",
              "    width: 32px;\n",
              "  }\n",
              "\n",
              "  .colab-df-quickchart:hover {\n",
              "    background-color: var(--hover-bg-color);\n",
              "    box-shadow: 0 1px 2px rgba(60, 64, 67, 0.3), 0 1px 3px 1px rgba(60, 64, 67, 0.15);\n",
              "    fill: var(--button-hover-fill-color);\n",
              "  }\n",
              "\n",
              "  .colab-df-quickchart-complete:disabled,\n",
              "  .colab-df-quickchart-complete:disabled:hover {\n",
              "    background-color: var(--disabled-bg-color);\n",
              "    fill: var(--disabled-fill-color);\n",
              "    box-shadow: none;\n",
              "  }\n",
              "\n",
              "  .colab-df-spinner {\n",
              "    border: 2px solid var(--fill-color);\n",
              "    border-color: transparent;\n",
              "    border-bottom-color: var(--fill-color);\n",
              "    animation:\n",
              "      spin 1s steps(1) infinite;\n",
              "  }\n",
              "\n",
              "  @keyframes spin {\n",
              "    0% {\n",
              "      border-color: transparent;\n",
              "      border-bottom-color: var(--fill-color);\n",
              "      border-left-color: var(--fill-color);\n",
              "    }\n",
              "    20% {\n",
              "      border-color: transparent;\n",
              "      border-left-color: var(--fill-color);\n",
              "      border-top-color: var(--fill-color);\n",
              "    }\n",
              "    30% {\n",
              "      border-color: transparent;\n",
              "      border-left-color: var(--fill-color);\n",
              "      border-top-color: var(--fill-color);\n",
              "      border-right-color: var(--fill-color);\n",
              "    }\n",
              "    40% {\n",
              "      border-color: transparent;\n",
              "      border-right-color: var(--fill-color);\n",
              "      border-top-color: var(--fill-color);\n",
              "    }\n",
              "    60% {\n",
              "      border-color: transparent;\n",
              "      border-right-color: var(--fill-color);\n",
              "    }\n",
              "    80% {\n",
              "      border-color: transparent;\n",
              "      border-right-color: var(--fill-color);\n",
              "      border-bottom-color: var(--fill-color);\n",
              "    }\n",
              "    90% {\n",
              "      border-color: transparent;\n",
              "      border-bottom-color: var(--fill-color);\n",
              "    }\n",
              "  }\n",
              "</style>\n",
              "\n",
              "  <script>\n",
              "    async function quickchart(key) {\n",
              "      const quickchartButtonEl =\n",
              "        document.querySelector('#' + key + ' button');\n",
              "      quickchartButtonEl.disabled = true;  // To prevent multiple clicks.\n",
              "      quickchartButtonEl.classList.add('colab-df-spinner');\n",
              "      try {\n",
              "        const charts = await google.colab.kernel.invokeFunction(\n",
              "            'suggestCharts', [key], {});\n",
              "      } catch (error) {\n",
              "        console.error('Error during call to suggestCharts:', error);\n",
              "      }\n",
              "      quickchartButtonEl.classList.remove('colab-df-spinner');\n",
              "      quickchartButtonEl.classList.add('colab-df-quickchart-complete');\n",
              "    }\n",
              "    (() => {\n",
              "      let quickchartButtonEl =\n",
              "        document.querySelector('#df-3daba0eb-40d7-4954-8265-a6973f27c904 button');\n",
              "      quickchartButtonEl.style.display =\n",
              "        google.colab.kernel.accessAllowed ? 'block' : 'none';\n",
              "    })();\n",
              "  </script>\n",
              "</div>\n",
              "    </div>\n",
              "  </div>\n"
            ]
          },
          "metadata": {},
          "execution_count": 51
        }
      ]
    },
    {
      "cell_type": "code",
      "source": [
        "preds_df.hist(bins=30)"
      ],
      "metadata": {
        "colab": {
          "base_uri": "https://localhost:8080/",
          "height": 469
        },
        "id": "_bH_YdeYjLgc",
        "outputId": "da28bdeb-892b-4e2d-db50-32162e96c9dc"
      },
      "id": "_bH_YdeYjLgc",
      "execution_count": 60,
      "outputs": [
        {
          "output_type": "execute_result",
          "data": {
            "text/plain": [
              "array([[<Axes: title={'center': 'pred'}>]], dtype=object)"
            ]
          },
          "metadata": {},
          "execution_count": 60
        },
        {
          "output_type": "display_data",
          "data": {
            "text/plain": [
              "<Figure size 640x480 with 1 Axes>"
            ],
            "image/png": "[encoded data removed]"
          },
          "metadata": {}
        }
      ]
    },
    {
      "cell_type": "code",
      "source": [
        "from sklearn.metrics import roc_auc_score, classification_report"
      ],
      "metadata": {
        "id": "FSmbofovjQBp"
      },
      "id": "FSmbofovjQBp",
      "execution_count": 53,
      "outputs": []
    },
    {
      "cell_type": "code",
      "source": [
        "roc_auc_score(val_labels, preds)"
      ],
      "metadata": {
        "colab": {
          "base_uri": "https://localhost:8080/"
        },
        "id": "RXne6zx3jQaE",
        "outputId": "faedd86d-b10a-4d6e-fb46-52dec79b82a6"
      },
      "id": "RXne6zx3jQaE",
      "execution_count": 57,
      "outputs": [
        {
          "output_type": "execute_result",
          "data": {
            "text/plain": [
              "0.8342433766034597"
            ]
          },
          "metadata": {},
          "execution_count": 57
        }
      ]
    },
    {
      "cell_type": "code",
      "source": [
        "print(classification_report(val_labels, preds_df.pred.round().values))"
      ],
      "metadata": {
        "colab": {
          "base_uri": "https://localhost:8080/"
        },
        "id": "wR7nmPHjjQn1",
        "outputId": "613ea317-037f-4244-8b51-02aff36fd9f2"
      },
      "id": "wR7nmPHjjQn1",
      "execution_count": 64,
      "outputs": [
        {
          "output_type": "stream",
          "name": "stdout",
          "text": [
            "              precision    recall  f1-score   support\n",
            "\n",
            "           0       0.76      0.72      0.74      7917\n",
            "           1       0.74      0.78      0.76      8083\n",
            "\n",
            "    accuracy                           0.75     16000\n",
            "   macro avg       0.75      0.75      0.75     16000\n",
            "weighted avg       0.75      0.75      0.75     16000\n",
            "\n"
          ]
        }
      ]
    },
    {
      "cell_type": "code",
      "source": [],
      "metadata": {
        "id": "hd4XhGwUkD9u"
      },
      "id": "hd4XhGwUkD9u",
      "execution_count": null,
      "outputs": []
    },
    {
      "cell_type": "code",
      "source": [],
      "metadata": {
        "id": "-LoAC_jKjQ0q"
      },
      "id": "-LoAC_jKjQ0q",
      "execution_count": null,
      "outputs": []
    },
    {
      "cell_type": "code",
      "source": [],
      "metadata": {
        "id": "L8KrPMUW8UyE"
      },
      "id": "L8KrPMUW8UyE",
      "execution_count": 28,
      "outputs": []
    }
  ],
  "metadata": {
    "kernelspec": {
      "display_name": "Python 3",
      "name": "python3"
    },
    "language_info": {
      "codemirror_mode": {
        "name": "ipython",
        "version": 3
      },
      "file_extension": ".py",
      "mimetype": "text/x-python",
      "name": "python",
      "nbconvert_exporter": "python",
      "pygments_lexer": "ipython3",
      "version": "3.9.12"
    },
    "colab": {
      "provenance": [],
      "toc_visible": true,
      "gpuType": "T4"
    },
    "accelerator": "GPU"
  },
  "nbformat": 4,
  "nbformat_minor": 5
}
